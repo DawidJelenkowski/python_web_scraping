{
 "cells": [
  {
   "attachments": {},
   "cell_type": "markdown",
   "metadata": {
    "datalore": {
     "hide_input_from_viewers": false,
     "hide_output_from_viewers": false,
     "node_id": "VEHR6vptBhqb8CCBtD52TX",
     "type": "MD"
    }
   },
   "source": [
    "# BeautifulSoup"
   ]
  },
  {
   "cell_type": "code",
   "execution_count": 73,
   "metadata": {
    "datalore": {
     "hide_input_from_viewers": false,
     "hide_output_from_viewers": false,
     "node_id": "rbT9own5CmG6pIWcriCz7a",
     "type": "CODE"
    }
   },
   "outputs": [],
   "source": [
    "import requests as r\n",
    "from bs4 import BeautifulSoup"
   ]
  },
  {
   "cell_type": "code",
   "execution_count": 2,
   "metadata": {
    "datalore": {
     "hide_input_from_viewers": false,
     "hide_output_from_viewers": false,
     "node_id": "MbUZJd2m0rRaAdKCjg3MFH",
     "type": "CODE"
    }
   },
   "outputs": [],
   "source": [
    "resp = r.get(\"https://books.toscrape.com/\")"
   ]
  },
  {
   "cell_type": "code",
   "execution_count": 3,
   "metadata": {
    "datalore": {
     "hide_input_from_viewers": false,
     "hide_output_from_viewers": false,
     "node_id": "xUNhBt3HApbbgC7asMtpFX",
     "type": "CODE"
    }
   },
   "outputs": [
    {
     "data": {
      "text/plain": [
       "b'<!DOCTYPE html>\\n<!--[if lt IE 7]>      <html lang=\"en-us\" class=\"no-js lt-ie9 lt-ie8 lt-ie7\"> <![endif]-->\\n<!--[if IE 7]>         <html lang=\"en-us\" class=\"no-js lt-ie9 lt-ie8\"> <![endif]-->\\n<!--[if IE 8]>         <html lang=\"en-us\" class=\"no-js lt-ie9\"> <![endif]-->\\n<!--[if gt IE 8]><!--> <html lang=\"en-us\" class=\"no-js\"> <!--<![endif]-->\\n    <head>\\n        <title>\\n    All products | Books to Scrape - Sandbox\\n</title>\\n\\n        <meta http-equiv=\"content-type\" content=\"text/html; charset=UTF-8\" />\\n        <meta name=\"created\" content=\"24th Jun 2016 09:29\" />\\n        <meta name=\"description\" content=\"\" />\\n        <meta name=\"viewport\" content=\"width=device-width\" />\\n        <meta name=\"robots\" content=\"NOARCHIVE,NOCACHE\" />\\n\\n        <!-- Le HTML5 shim, for IE6-8 support of HTML elements -->\\n        <!--[if lt IE 9]>\\n        <script src=\"//html5shim.googlecode.com/svn/trunk/html5.js\"></script>\\n        <![endif]-->\\n\\n        \\n            <link rel=\"shortcut icon\" href=\"static/oscar/favicon.ico\" />\\n        \\n\\n        \\n        \\n    \\n    \\n        <link rel=\"stylesheet\" type=\"text/css\" href=\"static/oscar/css/styles.css\" />\\n    \\n    <link rel=\"stylesheet\" href=\"static/oscar/js/bootstrap-datetimepicker/bootstrap-datetimepicker.css\" />\\n    <link rel=\"stylesheet\" type=\"text/css\" href=\"static/oscar/css/datetimepicker.css\" />\\n\\n\\n        \\n        \\n\\n        \\n\\n        \\n            \\n            \\n\\n        \\n    </head>\\n\\n    <body id=\"default\" class=\"default\">\\n        \\n        \\n    \\n    \\n    <header class=\"header container-fluid\">\\n        <div class=\"page_inner\">\\n            <div class=\"row\">\\n                <div class=\"col-sm-8 h1\"><a href=\"index.html\">Books to Scrape</a><small> We love being scraped!</small>\\n</div>\\n\\n                \\n            </div>\\n        </div>\\n    </header>\\n\\n    \\n    \\n<div class=\"container-fluid page\">\\n    <div class=\"page_inner\">\\n        \\n    <ul class=\"breadcrumb\">\\n        <li>\\n            <a href=\"index.html\">Home</a>\\n        </li>\\n        <li class=\"active\">All products</li>\\n    </ul>\\n\\n        <div class=\"row\">\\n\\n            <aside class=\"sidebar col-sm-4 col-md-3\">\\n                \\n                <div id=\"promotions_left\">\\n                    \\n                </div>\\n                \\n    \\n    \\n        \\n        <div class=\"side_categories\">\\n            <ul class=\"nav nav-list\">\\n                \\n                    <li>\\n                        <a href=\"catalogue/category/books_1/index.html\">\\n                            \\n                                Books\\n                            \\n                        </a>\\n\\n                        <ul>\\n                        \\n                \\n                    <li>\\n                        <a href=\"catalogue/category/books/travel_2/index.html\">\\n                            \\n                                Travel\\n                            \\n                        </a>\\n\\n                        </li>\\n                        \\n                \\n                    <li>\\n                        <a href=\"catalogue/category/books/mystery_3/index.html\">\\n                            \\n                                Mystery\\n                            \\n                        </a>\\n\\n                        </li>\\n                        \\n                \\n                    <li>\\n                        <a href=\"catalogue/category/books/historical-fiction_4/index.html\">\\n                            \\n                                Historical Fiction\\n                            \\n                        </a>\\n\\n                        </li>\\n                        \\n                \\n                    <li>\\n                        <a href=\"catalogue/category/books/sequential-art_5/index.html\">\\n                            \\n                                Sequential Art\\n                            \\n                        </a>\\n\\n                        </li>\\n                        \\n                \\n                    <li>\\n                        <a href=\"catalogue/category/books/classics_6/index.html\">\\n                            \\n                                Classics\\n                            \\n                        </a>\\n\\n                        </li>\\n                        \\n                \\n                    <li>\\n                        <a href=\"catalogue/category/books/philosophy_7/index.html\">\\n                            \\n                                Philosophy\\n                            \\n                        </a>\\n\\n                        </li>\\n                        \\n                \\n                    <li>\\n                        <a href=\"catalogue/category/books/romance_8/index.html\">\\n                            \\n                                Romance\\n                            \\n                        </a>\\n\\n                        </li>\\n                        \\n                \\n                    <li>\\n                        <a href=\"catalogue/category/books/womens-fiction_9/index.html\">\\n                            \\n                                Womens Fiction\\n                            \\n                        </a>\\n\\n                        </li>\\n                        \\n                \\n                    <li>\\n                        <a href=\"catalogue/category/books/fiction_10/index.html\">\\n                            \\n                                Fiction\\n                            \\n                        </a>\\n\\n                        </li>\\n                        \\n                \\n                    <li>\\n                        <a href=\"catalogue/category/books/childrens_11/index.html\">\\n                            \\n                                Childrens\\n                            \\n                        </a>\\n\\n                        </li>\\n                        \\n                \\n                    <li>\\n                        <a href=\"catalogue/category/books/religion_12/index.html\">\\n                            \\n                                Religion\\n                            \\n                        </a>\\n\\n                        </li>\\n                        \\n                \\n                    <li>\\n                        <a href=\"catalogue/category/books/nonfiction_13/index.html\">\\n                            \\n                                Nonfiction\\n                            \\n                        </a>\\n\\n                        </li>\\n                        \\n                \\n                    <li>\\n                        <a href=\"catalogue/category/books/music_14/index.html\">\\n                            \\n                                Music\\n                            \\n                        </a>\\n\\n                        </li>\\n                        \\n                \\n                    <li>\\n                        <a href=\"catalogue/category/books/default_15/index.html\">\\n                            \\n                                Default\\n                            \\n                        </a>\\n\\n                        </li>\\n                        \\n                \\n                    <li>\\n                        <a href=\"catalogue/category/books/science-fiction_16/index.html\">\\n                            \\n                                Science Fiction\\n                            \\n                        </a>\\n\\n                        </li>\\n                        \\n                \\n                    <li>\\n                        <a href=\"catalogue/category/books/sports-and-games_17/index.html\">\\n                            \\n                                Sports and Games\\n                            \\n                        </a>\\n\\n                        </li>\\n                        \\n                \\n                    <li>\\n                        <a href=\"catalogue/category/books/add-a-comment_18/index.html\">\\n                            \\n                                Add a comment\\n                            \\n                        </a>\\n\\n                        </li>\\n                        \\n                \\n                    <li>\\n                        <a href=\"catalogue/category/books/fantasy_19/index.html\">\\n                            \\n                                Fantasy\\n                            \\n                        </a>\\n\\n                        </li>\\n                        \\n                \\n                    <li>\\n                        <a href=\"catalogue/category/books/new-adult_20/index.html\">\\n                            \\n                                New Adult\\n                            \\n                        </a>\\n\\n                        </li>\\n                        \\n                \\n                    <li>\\n                        <a href=\"catalogue/category/books/young-adult_21/index.html\">\\n                            \\n                                Young Adult\\n                            \\n                        </a>\\n\\n                        </li>\\n                        \\n                \\n                    <li>\\n                        <a href=\"catalogue/category/books/science_22/index.html\">\\n                            \\n                                Science\\n                            \\n                        </a>\\n\\n                        </li>\\n                        \\n                \\n                    <li>\\n                        <a href=\"catalogue/category/books/poetry_23/index.html\">\\n                            \\n                                Poetry\\n                            \\n                        </a>\\n\\n                        </li>\\n                        \\n                \\n                    <li>\\n                        <a href=\"catalogue/category/books/paranormal_24/index.html\">\\n                            \\n                                Paranormal\\n                            \\n                        </a>\\n\\n                        </li>\\n                        \\n                \\n                    <li>\\n                        <a href=\"catalogue/category/books/art_25/index.html\">\\n                            \\n                                Art\\n                            \\n                        </a>\\n\\n                        </li>\\n                        \\n                \\n                    <li>\\n                        <a href=\"catalogue/category/books/psychology_26/index.html\">\\n                            \\n                                Psychology\\n                            \\n                        </a>\\n\\n                        </li>\\n                        \\n                \\n                    <li>\\n                        <a href=\"catalogue/category/books/autobiography_27/index.html\">\\n                            \\n                                Autobiography\\n                            \\n                        </a>\\n\\n                        </li>\\n                        \\n                \\n                    <li>\\n                        <a href=\"catalogue/category/books/parenting_28/index.html\">\\n                            \\n                                Parenting\\n                            \\n                        </a>\\n\\n                        </li>\\n                        \\n                \\n                    <li>\\n                        <a href=\"catalogue/category/books/adult-fiction_29/index.html\">\\n                            \\n                                Adult Fiction\\n                            \\n                        </a>\\n\\n                        </li>\\n                        \\n                \\n                    <li>\\n                        <a href=\"catalogue/category/books/humor_30/index.html\">\\n                            \\n                                Humor\\n                            \\n                        </a>\\n\\n                        </li>\\n                        \\n                \\n                    <li>\\n                        <a href=\"catalogue/category/books/horror_31/index.html\">\\n                            \\n                                Horror\\n                            \\n                        </a>\\n\\n                        </li>\\n                        \\n                \\n                    <li>\\n                        <a href=\"catalogue/category/books/history_32/index.html\">\\n                            \\n                                History\\n                            \\n                        </a>\\n\\n                        </li>\\n                        \\n                \\n                    <li>\\n                        <a href=\"catalogue/category/books/food-and-drink_33/index.html\">\\n                            \\n                                Food and Drink\\n                            \\n                        </a>\\n\\n                        </li>\\n                        \\n                \\n                    <li>\\n                        <a href=\"catalogue/category/books/christian-fiction_34/index.html\">\\n                            \\n                                Christian Fiction\\n                            \\n                        </a>\\n\\n                        </li>\\n                        \\n                \\n                    <li>\\n                        <a href=\"catalogue/category/books/business_35/index.html\">\\n                            \\n                                Business\\n                            \\n                        </a>\\n\\n                        </li>\\n                        \\n                \\n                    <li>\\n                        <a href=\"catalogue/category/books/biography_36/index.html\">\\n                            \\n                                Biography\\n                            \\n                        </a>\\n\\n                        </li>\\n                        \\n                \\n                    <li>\\n                        <a href=\"catalogue/category/books/thriller_37/index.html\">\\n                            \\n                                Thriller\\n                            \\n                        </a>\\n\\n                        </li>\\n                        \\n                \\n                    <li>\\n                        <a href=\"catalogue/category/books/contemporary_38/index.html\">\\n                            \\n                                Contemporary\\n                            \\n                        </a>\\n\\n                        </li>\\n                        \\n                \\n                    <li>\\n                        <a href=\"catalogue/category/books/spirituality_39/index.html\">\\n                            \\n                                Spirituality\\n                            \\n                        </a>\\n\\n                        </li>\\n                        \\n                \\n                    <li>\\n                        <a href=\"catalogue/category/books/academic_40/index.html\">\\n                            \\n                                Academic\\n                            \\n                        </a>\\n\\n                        </li>\\n                        \\n                \\n                    <li>\\n                        <a href=\"catalogue/category/books/self-help_41/index.html\">\\n                            \\n                                Self Help\\n                            \\n                        </a>\\n\\n                        </li>\\n                        \\n                \\n                    <li>\\n                        <a href=\"catalogue/category/books/historical_42/index.html\">\\n                            \\n                                Historical\\n                            \\n                        </a>\\n\\n                        </li>\\n                        \\n                \\n                    <li>\\n                        <a href=\"catalogue/category/books/christian_43/index.html\">\\n                            \\n                                Christian\\n                            \\n                        </a>\\n\\n                        </li>\\n                        \\n                \\n                    <li>\\n                        <a href=\"catalogue/category/books/suspense_44/index.html\">\\n                            \\n                                Suspense\\n                            \\n                        </a>\\n\\n                        </li>\\n                        \\n                \\n                    <li>\\n                        <a href=\"catalogue/category/books/short-stories_45/index.html\">\\n                            \\n                                Short Stories\\n                            \\n                        </a>\\n\\n                        </li>\\n                        \\n                \\n                    <li>\\n                        <a href=\"catalogue/category/books/novels_46/index.html\">\\n                            \\n                                Novels\\n                            \\n                        </a>\\n\\n                        </li>\\n                        \\n                \\n                    <li>\\n                        <a href=\"catalogue/category/books/health_47/index.html\">\\n                            \\n                                Health\\n                            \\n                        </a>\\n\\n                        </li>\\n                        \\n                \\n                    <li>\\n                        <a href=\"catalogue/category/books/politics_48/index.html\">\\n                            \\n                                Politics\\n                            \\n                        </a>\\n\\n                        </li>\\n                        \\n                \\n                    <li>\\n                        <a href=\"catalogue/category/books/cultural_49/index.html\">\\n                            \\n                                Cultural\\n                            \\n                        </a>\\n\\n                        </li>\\n                        \\n                \\n                    <li>\\n                        <a href=\"catalogue/category/books/erotica_50/index.html\">\\n                            \\n                                Erotica\\n                            \\n                        </a>\\n\\n                        </li>\\n                        \\n                \\n                    <li>\\n                        <a href=\"catalogue/category/books/crime_51/index.html\">\\n                            \\n                                Crime\\n                            \\n                        </a>\\n\\n                        </li>\\n                        \\n                            </ul></li>\\n                        \\n                \\n            </ul>\\n        </div>\\n    \\n    \\n\\n            </aside>\\n\\n            <div class=\"col-sm-8 col-md-9\">\\n                \\n                <div class=\"page-header action\">\\n                    <h1>All products</h1>\\n                </div>\\n                \\n\\n                \\n\\n\\n\\n<div id=\"messages\">\\n\\n</div>\\n\\n\\n                <div id=\"promotions\">\\n                    \\n                </div>\\n\\n                \\n    <form method=\"get\" class=\"form-horizontal\">\\n        \\n        <div style=\"display:none\">\\n            \\n            \\n        </div>\\n\\n        \\n            \\n                \\n                    <strong>1000</strong> results - showing <strong>1</strong> to <strong>20</strong>.\\n                \\n            \\n            \\n        \\n    </form>\\n    \\n        <section>\\n            <div class=\"alert alert-warning\" role=\"alert\"><strong>Warning!</strong> This is a demo website for web scraping purposes. Prices and ratings here were randomly assigned and have no real meaning.</div>\\n\\n            <div>\\n                <ol class=\"row\">\\n                    \\n                        <li class=\"col-xs-6 col-sm-4 col-md-3 col-lg-3\">\\n\\n\\n\\n\\n\\n\\n    <article class=\"product_pod\">\\n        \\n            <div class=\"image_container\">\\n                \\n                    \\n                    <a href=\"catalogue/a-light-in-the-attic_1000/index.html\"><img src=\"media/cache/2c/da/2cdad67c44b002e7ead0cc35693c0e8b.jpg\" alt=\"A Light in the Attic\" class=\"thumbnail\"></a>\\n                    \\n                \\n            </div>\\n        \\n\\n        \\n            \\n                <p class=\"star-rating Three\">\\n                    <i class=\"icon-star\"></i>\\n                    <i class=\"icon-star\"></i>\\n                    <i class=\"icon-star\"></i>\\n                    <i class=\"icon-star\"></i>\\n                    <i class=\"icon-star\"></i>\\n                </p>\\n            \\n        \\n\\n        \\n            <h3><a href=\"catalogue/a-light-in-the-attic_1000/index.html\" title=\"A Light in the Attic\">A Light in the ...</a></h3>\\n        \\n\\n        \\n            <div class=\"product_price\">\\n                \\n\\n\\n\\n\\n\\n\\n    \\n        <p class=\"price_color\">\\xc2\\xa351.77</p>\\n    \\n\\n<p class=\"instock availability\">\\n    <i class=\"icon-ok\"></i>\\n    \\n        In stock\\n    \\n</p>\\n\\n                \\n                    \\n\\n\\n\\n\\n\\n\\n    \\n    <form>\\n        <button type=\"submit\" class=\"btn btn-primary btn-block\" data-loading-text=\"Adding...\">Add to basket</button>\\n    </form>\\n\\n\\n                \\n            </div>\\n        \\n    </article>\\n\\n</li>\\n                    \\n                        <li class=\"col-xs-6 col-sm-4 col-md-3 col-lg-3\">\\n\\n\\n\\n\\n\\n\\n    <article class=\"product_pod\">\\n        \\n            <div class=\"image_container\">\\n                \\n                    \\n                    <a href=\"catalogue/tipping-the-velvet_999/index.html\"><img src=\"media/cache/26/0c/260c6ae16bce31c8f8c95daddd9f4a1c.jpg\" alt=\"Tipping the Velvet\" class=\"thumbnail\"></a>\\n                    \\n                \\n            </div>\\n        \\n\\n        \\n            \\n                <p class=\"star-rating One\">\\n                    <i class=\"icon-star\"></i>\\n                    <i class=\"icon-star\"></i>\\n                    <i class=\"icon-star\"></i>\\n                    <i class=\"icon-star\"></i>\\n                    <i class=\"icon-star\"></i>\\n                </p>\\n            \\n        \\n\\n        \\n            <h3><a href=\"catalogue/tipping-the-velvet_999/index.html\" title=\"Tipping the Velvet\">Tipping the Velvet</a></h3>\\n        \\n\\n        \\n            <div class=\"product_price\">\\n                \\n\\n\\n\\n\\n\\n\\n    \\n        <p class=\"price_color\">\\xc2\\xa353.74</p>\\n    \\n\\n<p class=\"instock availability\">\\n    <i class=\"icon-ok\"></i>\\n    \\n        In stock\\n    \\n</p>\\n\\n                \\n                    \\n\\n\\n\\n\\n\\n\\n    \\n    <form>\\n        <button type=\"submit\" class=\"btn btn-primary btn-block\" data-loading-text=\"Adding...\">Add to basket</button>\\n    </form>\\n\\n\\n                \\n            </div>\\n        \\n    </article>\\n\\n</li>\\n                    \\n                        <li class=\"col-xs-6 col-sm-4 col-md-3 col-lg-3\">\\n\\n\\n\\n\\n\\n\\n    <article class=\"product_pod\">\\n        \\n            <div class=\"image_container\">\\n                \\n                    \\n                    <a href=\"catalogue/soumission_998/index.html\"><img src=\"media/cache/3e/ef/3eef99c9d9adef34639f510662022830.jpg\" alt=\"Soumission\" class=\"thumbnail\"></a>\\n                    \\n                \\n            </div>\\n        \\n\\n        \\n            \\n                <p class=\"star-rating One\">\\n                    <i class=\"icon-star\"></i>\\n                    <i class=\"icon-star\"></i>\\n                    <i class=\"icon-star\"></i>\\n                    <i class=\"icon-star\"></i>\\n                    <i class=\"icon-star\"></i>\\n                </p>\\n            \\n        \\n\\n        \\n            <h3><a href=\"catalogue/soumission_998/index.html\" title=\"Soumission\">Soumission</a></h3>\\n        \\n\\n        \\n            <div class=\"product_price\">\\n                \\n\\n\\n\\n\\n\\n\\n    \\n        <p class=\"price_color\">\\xc2\\xa350.10</p>\\n    \\n\\n<p class=\"instock availability\">\\n    <i class=\"icon-ok\"></i>\\n    \\n        In stock\\n    \\n</p>\\n\\n                \\n                    \\n\\n\\n\\n\\n\\n\\n    \\n    <form>\\n        <button type=\"submit\" class=\"btn btn-primary btn-block\" data-loading-text=\"Adding...\">Add to basket</button>\\n    </form>\\n\\n\\n                \\n            </div>\\n        \\n    </article>\\n\\n</li>\\n                    \\n                        <li class=\"col-xs-6 col-sm-4 col-md-3 col-lg-3\">\\n\\n\\n\\n\\n\\n\\n    <article class=\"product_pod\">\\n        \\n            <div class=\"image_container\">\\n                \\n                    \\n                    <a href=\"catalogue/sharp-objects_997/index.html\"><img src=\"media/cache/32/51/3251cf3a3412f53f339e42cac2134093.jpg\" alt=\"Sharp Objects\" class=\"thumbnail\"></a>\\n                    \\n                \\n            </div>\\n        \\n\\n        \\n            \\n                <p class=\"star-rating Four\">\\n                    <i class=\"icon-star\"></i>\\n                    <i class=\"icon-star\"></i>\\n                    <i class=\"icon-star\"></i>\\n                    <i class=\"icon-star\"></i>\\n                    <i class=\"icon-star\"></i>\\n                </p>\\n            \\n        \\n\\n        \\n            <h3><a href=\"catalogue/sharp-objects_997/index.html\" title=\"Sharp Objects\">Sharp Objects</a></h3>\\n        \\n\\n        \\n            <div class=\"product_price\">\\n                \\n\\n\\n\\n\\n\\n\\n    \\n        <p class=\"price_color\">\\xc2\\xa347.82</p>\\n    \\n\\n<p class=\"instock availability\">\\n    <i class=\"icon-ok\"></i>\\n    \\n        In stock\\n    \\n</p>\\n\\n                \\n                    \\n\\n\\n\\n\\n\\n\\n    \\n    <form>\\n        <button type=\"submit\" class=\"btn btn-primary btn-block\" data-loading-text=\"Adding...\">Add to basket</button>\\n    </form>\\n\\n\\n                \\n            </div>\\n        \\n    </article>\\n\\n</li>\\n                    \\n                        <li class=\"col-xs-6 col-sm-4 col-md-3 col-lg-3\">\\n\\n\\n\\n\\n\\n\\n    <article class=\"product_pod\">\\n        \\n            <div class=\"image_container\">\\n                \\n                    \\n                    <a href=\"catalogue/sapiens-a-brief-history-of-humankind_996/index.html\"><img src=\"media/cache/be/a5/bea5697f2534a2f86a3ef27b5a8c12a6.jpg\" alt=\"Sapiens: A Brief History of Humankind\" class=\"thumbnail\"></a>\\n                    \\n                \\n            </div>\\n        \\n\\n        \\n            \\n                <p class=\"star-rating Five\">\\n                    <i class=\"icon-star\"></i>\\n                    <i class=\"icon-star\"></i>\\n                    <i class=\"icon-star\"></i>\\n                    <i class=\"icon-star\"></i>\\n                    <i class=\"icon-star\"></i>\\n                </p>\\n            \\n        \\n\\n        \\n            <h3><a href=\"catalogue/sapiens-a-brief-history-of-humankind_996/index.html\" title=\"Sapiens: A Brief History of Humankind\">Sapiens: A Brief History ...</a></h3>\\n        \\n\\n        \\n            <div class=\"product_price\">\\n                \\n\\n\\n\\n\\n\\n\\n    \\n        <p class=\"price_color\">\\xc2\\xa354.23</p>\\n    \\n\\n<p class=\"instock availability\">\\n    <i class=\"icon-ok\"></i>\\n    \\n        In stock\\n    \\n</p>\\n\\n                \\n                    \\n\\n\\n\\n\\n\\n\\n    \\n    <form>\\n        <button type=\"submit\" class=\"btn btn-primary btn-block\" data-loading-text=\"Adding...\">Add to basket</button>\\n    </form>\\n\\n\\n                \\n            </div>\\n        \\n    </article>\\n\\n</li>\\n                    \\n                        <li class=\"col-xs-6 col-sm-4 col-md-3 col-lg-3\">\\n\\n\\n\\n\\n\\n\\n    <article class=\"product_pod\">\\n        \\n            <div class=\"image_container\">\\n                \\n                    \\n                    <a href=\"catalogue/the-requiem-red_995/index.html\"><img src=\"media/cache/68/33/68339b4c9bc034267e1da611ab3b34f8.jpg\" alt=\"The Requiem Red\" class=\"thumbnail\"></a>\\n                    \\n                \\n            </div>\\n        \\n\\n        \\n            \\n                <p class=\"star-rating One\">\\n                    <i class=\"icon-star\"></i>\\n                    <i class=\"icon-star\"></i>\\n                    <i class=\"icon-star\"></i>\\n                    <i class=\"icon-star\"></i>\\n                    <i class=\"icon-star\"></i>\\n                </p>\\n            \\n        \\n\\n        \\n            <h3><a href=\"catalogue/the-requiem-red_995/index.html\" title=\"The Requiem Red\">The Requiem Red</a></h3>\\n        \\n\\n        \\n            <div class=\"product_price\">\\n                \\n\\n\\n\\n\\n\\n\\n    \\n        <p class=\"price_color\">\\xc2\\xa322.65</p>\\n    \\n\\n<p class=\"instock availability\">\\n    <i class=\"icon-ok\"></i>\\n    \\n        In stock\\n    \\n</p>\\n\\n                \\n                    \\n\\n\\n\\n\\n\\n\\n    \\n    <form>\\n        <button type=\"submit\" class=\"btn btn-primary btn-block\" data-loading-text=\"Adding...\">Add to basket</button>\\n    </form>\\n\\n\\n                \\n            </div>\\n        \\n    </article>\\n\\n</li>\\n                    \\n                        <li class=\"col-xs-6 col-sm-4 col-md-3 col-lg-3\">\\n\\n\\n\\n\\n\\n\\n    <article class=\"product_pod\">\\n        \\n            <div class=\"image_container\">\\n                \\n                    \\n                    <a href=\"catalogue/the-dirty-little-secrets-of-getting-your-dream-job_994/index.html\"><img src=\"media/cache/92/27/92274a95b7c251fea59a2b8a78275ab4.jpg\" alt=\"The Dirty Little Secrets of Getting Your Dream Job\" class=\"thumbnail\"></a>\\n                    \\n                \\n            </div>\\n        \\n\\n        \\n            \\n                <p class=\"star-rating Four\">\\n                    <i class=\"icon-star\"></i>\\n                    <i class=\"icon-star\"></i>\\n                    <i class=\"icon-star\"></i>\\n                    <i class=\"icon-star\"></i>\\n                    <i class=\"icon-star\"></i>\\n                </p>\\n            \\n        \\n\\n        \\n            <h3><a href=\"catalogue/the-dirty-little-secrets-of-getting-your-dream-job_994/index.html\" title=\"The Dirty Little Secrets of Getting Your Dream Job\">The Dirty Little Secrets ...</a></h3>\\n        \\n\\n        \\n            <div class=\"product_price\">\\n                \\n\\n\\n\\n\\n\\n\\n    \\n        <p class=\"price_color\">\\xc2\\xa333.34</p>\\n    \\n\\n<p class=\"instock availability\">\\n    <i class=\"icon-ok\"></i>\\n    \\n        In stock\\n    \\n</p>\\n\\n                \\n                    \\n\\n\\n\\n\\n\\n\\n    \\n    <form>\\n        <button type=\"submit\" class=\"btn btn-primary btn-block\" data-loading-text=\"Adding...\">Add to basket</button>\\n    </form>\\n\\n\\n                \\n            </div>\\n        \\n    </article>\\n\\n</li>\\n                    \\n                        <li class=\"col-xs-6 col-sm-4 col-md-3 col-lg-3\">\\n\\n\\n\\n\\n\\n\\n    <article class=\"product_pod\">\\n        \\n            <div class=\"image_container\">\\n                \\n                    \\n                    <a href=\"catalogue/the-coming-woman-a-novel-based-on-the-life-of-the-infamous-feminist-victoria-woodhull_993/index.html\"><img src=\"media/cache/3d/54/3d54940e57e662c4dd1f3ff00c78cc64.jpg\" alt=\"The Coming Woman: A Novel Based on the Life of the Infamous Feminist, Victoria Woodhull\" class=\"thumbnail\"></a>\\n                    \\n                \\n            </div>\\n        \\n\\n        \\n            \\n                <p class=\"star-rating Three\">\\n                    <i class=\"icon-star\"></i>\\n                    <i class=\"icon-star\"></i>\\n                    <i class=\"icon-star\"></i>\\n                    <i class=\"icon-star\"></i>\\n                    <i class=\"icon-star\"></i>\\n                </p>\\n            \\n        \\n\\n        \\n            <h3><a href=\"catalogue/the-coming-woman-a-novel-based-on-the-life-of-the-infamous-feminist-victoria-woodhull_993/index.html\" title=\"The Coming Woman: A Novel Based on the Life of the Infamous Feminist, Victoria Woodhull\">The Coming Woman: A ...</a></h3>\\n        \\n\\n        \\n            <div class=\"product_price\">\\n                \\n\\n\\n\\n\\n\\n\\n    \\n        <p class=\"price_color\">\\xc2\\xa317.93</p>\\n    \\n\\n<p class=\"instock availability\">\\n    <i class=\"icon-ok\"></i>\\n    \\n        In stock\\n    \\n</p>\\n\\n                \\n                    \\n\\n\\n\\n\\n\\n\\n    \\n    <form>\\n        <button type=\"submit\" class=\"btn btn-primary btn-block\" data-loading-text=\"Adding...\">Add to basket</button>\\n    </form>\\n\\n\\n                \\n            </div>\\n        \\n    </article>\\n\\n</li>\\n                    \\n                        <li class=\"col-xs-6 col-sm-4 col-md-3 col-lg-3\">\\n\\n\\n\\n\\n\\n\\n    <article class=\"product_pod\">\\n        \\n            <div class=\"image_container\">\\n                \\n                    \\n                    <a href=\"catalogue/the-boys-in-the-boat-nine-americans-and-their-epic-quest-for-gold-at-the-1936-berlin-olympics_992/index.html\"><img src=\"media/cache/66/88/66883b91f6804b2323c8369331cb7dd1.jpg\" alt=\"The Boys in the Boat: Nine Americans and Their Epic Quest for Gold at the 1936 Berlin Olympics\" class=\"thumbnail\"></a>\\n                    \\n                \\n            </div>\\n        \\n\\n        \\n            \\n                <p class=\"star-rating Four\">\\n                    <i class=\"icon-star\"></i>\\n                    <i class=\"icon-star\"></i>\\n                    <i class=\"icon-star\"></i>\\n                    <i class=\"icon-star\"></i>\\n                    <i class=\"icon-star\"></i>\\n                </p>\\n            \\n        \\n\\n        \\n            <h3><a href=\"catalogue/the-boys-in-the-boat-nine-americans-and-their-epic-quest-for-gold-at-the-1936-berlin-olympics_992/index.html\" title=\"The Boys in the Boat: Nine Americans and Their Epic Quest for Gold at the 1936 Berlin Olympics\">The Boys in the ...</a></h3>\\n        \\n\\n        \\n            <div class=\"product_price\">\\n                \\n\\n\\n\\n\\n\\n\\n    \\n        <p class=\"price_color\">\\xc2\\xa322.60</p>\\n    \\n\\n<p class=\"instock availability\">\\n    <i class=\"icon-ok\"></i>\\n    \\n        In stock\\n    \\n</p>\\n\\n                \\n                    \\n\\n\\n\\n\\n\\n\\n    \\n    <form>\\n        <button type=\"submit\" class=\"btn btn-primary btn-block\" data-loading-text=\"Adding...\">Add to basket</button>\\n    </form>\\n\\n\\n                \\n            </div>\\n        \\n    </article>\\n\\n</li>\\n                    \\n                        <li class=\"col-xs-6 col-sm-4 col-md-3 col-lg-3\">\\n\\n\\n\\n\\n\\n\\n    <article class=\"product_pod\">\\n        \\n            <div class=\"image_container\">\\n                \\n                    \\n                    <a href=\"catalogue/the-black-maria_991/index.html\"><img src=\"media/cache/58/46/5846057e28022268153beff6d352b06c.jpg\" alt=\"The Black Maria\" class=\"thumbnail\"></a>\\n                    \\n                \\n            </div>\\n        \\n\\n        \\n            \\n                <p class=\"star-rating One\">\\n                    <i class=\"icon-star\"></i>\\n                    <i class=\"icon-star\"></i>\\n                    <i class=\"icon-star\"></i>\\n                    <i class=\"icon-star\"></i>\\n                    <i class=\"icon-star\"></i>\\n                </p>\\n            \\n        \\n\\n        \\n            <h3><a href=\"catalogue/the-black-maria_991/index.html\" title=\"The Black Maria\">The Black Maria</a></h3>\\n        \\n\\n        \\n            <div class=\"product_price\">\\n                \\n\\n\\n\\n\\n\\n\\n    \\n        <p class=\"price_color\">\\xc2\\xa352.15</p>\\n    \\n\\n<p class=\"instock availability\">\\n    <i class=\"icon-ok\"></i>\\n    \\n        In stock\\n    \\n</p>\\n\\n                \\n                    \\n\\n\\n\\n\\n\\n\\n    \\n    <form>\\n        <button type=\"submit\" class=\"btn btn-primary btn-block\" data-loading-text=\"Adding...\">Add to basket</button>\\n    </form>\\n\\n\\n                \\n            </div>\\n        \\n    </article>\\n\\n</li>\\n                    \\n                        <li class=\"col-xs-6 col-sm-4 col-md-3 col-lg-3\">\\n\\n\\n\\n\\n\\n\\n    <article class=\"product_pod\">\\n        \\n            <div class=\"image_container\">\\n                \\n                    \\n                    <a href=\"catalogue/starving-hearts-triangular-trade-trilogy-1_990/index.html\"><img src=\"media/cache/be/f4/bef44da28c98f905a3ebec0b87be8530.jpg\" alt=\"Starving Hearts (Triangular Trade Trilogy, #1)\" class=\"thumbnail\"></a>\\n                    \\n                \\n            </div>\\n        \\n\\n        \\n            \\n                <p class=\"star-rating Two\">\\n                    <i class=\"icon-star\"></i>\\n                    <i class=\"icon-star\"></i>\\n                    <i class=\"icon-star\"></i>\\n                    <i class=\"icon-star\"></i>\\n                    <i class=\"icon-star\"></i>\\n                </p>\\n            \\n        \\n\\n        \\n            <h3><a href=\"catalogue/starving-hearts-triangular-trade-trilogy-1_990/index.html\" title=\"Starving Hearts (Triangular Trade Trilogy, #1)\">Starving Hearts (Triangular Trade ...</a></h3>\\n        \\n\\n        \\n            <div class=\"product_price\">\\n                \\n\\n\\n\\n\\n\\n\\n    \\n        <p class=\"price_color\">\\xc2\\xa313.99</p>\\n    \\n\\n<p class=\"instock availability\">\\n    <i class=\"icon-ok\"></i>\\n    \\n        In stock\\n    \\n</p>\\n\\n                \\n                    \\n\\n\\n\\n\\n\\n\\n    \\n    <form>\\n        <button type=\"submit\" class=\"btn btn-primary btn-block\" data-loading-text=\"Adding...\">Add to basket</button>\\n    </form>\\n\\n\\n                \\n            </div>\\n        \\n    </article>\\n\\n</li>\\n                    \\n                        <li class=\"col-xs-6 col-sm-4 col-md-3 col-lg-3\">\\n\\n\\n\\n\\n\\n\\n    <article class=\"product_pod\">\\n        \\n            <div class=\"image_container\">\\n                \\n                    \\n                    <a href=\"catalogue/shakespeares-sonnets_989/index.html\"><img src=\"media/cache/10/48/1048f63d3b5061cd2f424d20b3f9b666.jpg\" alt=\"Shakespeare&#39;s Sonnets\" class=\"thumbnail\"></a>\\n                    \\n                \\n            </div>\\n        \\n\\n        \\n            \\n                <p class=\"star-rating Four\">\\n                    <i class=\"icon-star\"></i>\\n                    <i class=\"icon-star\"></i>\\n                    <i class=\"icon-star\"></i>\\n                    <i class=\"icon-star\"></i>\\n                    <i class=\"icon-star\"></i>\\n                </p>\\n            \\n        \\n\\n        \\n            <h3><a href=\"catalogue/shakespeares-sonnets_989/index.html\" title=\"Shakespeare&#39;s Sonnets\">Shakespeare&#39;s Sonnets</a></h3>\\n        \\n\\n        \\n            <div class=\"product_price\">\\n                \\n\\n\\n\\n\\n\\n\\n    \\n        <p class=\"price_color\">\\xc2\\xa320.66</p>\\n    \\n\\n<p class=\"instock availability\">\\n    <i class=\"icon-ok\"></i>\\n    \\n        In stock\\n    \\n</p>\\n\\n                \\n                    \\n\\n\\n\\n\\n\\n\\n    \\n    <form>\\n        <button type=\"submit\" class=\"btn btn-primary btn-block\" data-loading-text=\"Adding...\">Add to basket</button>\\n    </form>\\n\\n\\n                \\n            </div>\\n        \\n    </article>\\n\\n</li>\\n                    \\n                        <li class=\"col-xs-6 col-sm-4 col-md-3 col-lg-3\">\\n\\n\\n\\n\\n\\n\\n    <article class=\"product_pod\">\\n        \\n            <div class=\"image_container\">\\n                \\n                    \\n                    <a href=\"catalogue/set-me-free_988/index.html\"><img src=\"media/cache/5b/88/5b88c52633f53cacf162c15f4f823153.jpg\" alt=\"Set Me Free\" class=\"thumbnail\"></a>\\n                    \\n                \\n            </div>\\n        \\n\\n        \\n            \\n                <p class=\"star-rating Five\">\\n                    <i class=\"icon-star\"></i>\\n                    <i class=\"icon-star\"></i>\\n                    <i class=\"icon-star\"></i>\\n                    <i class=\"icon-star\"></i>\\n                    <i class=\"icon-star\"></i>\\n                </p>\\n            \\n        \\n\\n        \\n            <h3><a href=\"catalogue/set-me-free_988/index.html\" title=\"Set Me Free\">Set Me Free</a></h3>\\n        \\n\\n        \\n            <div class=\"product_price\">\\n                \\n\\n\\n\\n\\n\\n\\n    \\n        <p class=\"price_color\">\\xc2\\xa317.46</p>\\n    \\n\\n<p class=\"instock availability\">\\n    <i class=\"icon-ok\"></i>\\n    \\n        In stock\\n    \\n</p>\\n\\n                \\n                    \\n\\n\\n\\n\\n\\n\\n    \\n    <form>\\n        <button type=\"submit\" class=\"btn btn-primary btn-block\" data-loading-text=\"Adding...\">Add to basket</button>\\n    </form>\\n\\n\\n                \\n            </div>\\n        \\n    </article>\\n\\n</li>\\n                    \\n                        <li class=\"col-xs-6 col-sm-4 col-md-3 col-lg-3\">\\n\\n\\n\\n\\n\\n\\n    <article class=\"product_pod\">\\n        \\n            <div class=\"image_container\">\\n                \\n                    \\n                    <a href=\"catalogue/scott-pilgrims-precious-little-life-scott-pilgrim-1_987/index.html\"><img src=\"media/cache/94/b1/94b1b8b244bce9677c2f29ccc890d4d2.jpg\" alt=\"Scott Pilgrim&#39;s Precious Little Life (Scott Pilgrim #1)\" class=\"thumbnail\"></a>\\n                    \\n                \\n            </div>\\n        \\n\\n        \\n            \\n                <p class=\"star-rating Five\">\\n                    <i class=\"icon-star\"></i>\\n                    <i class=\"icon-star\"></i>\\n                    <i class=\"icon-star\"></i>\\n                    <i class=\"icon-star\"></i>\\n                    <i class=\"icon-star\"></i>\\n                </p>\\n            \\n        \\n\\n        \\n            <h3><a href=\"catalogue/scott-pilgrims-precious-little-life-scott-pilgrim-1_987/index.html\" title=\"Scott Pilgrim&#39;s Precious Little Life (Scott Pilgrim #1)\">Scott Pilgrim&#39;s Precious Little ...</a></h3>\\n        \\n\\n        \\n            <div class=\"product_price\">\\n                \\n\\n\\n\\n\\n\\n\\n    \\n        <p class=\"price_color\">\\xc2\\xa352.29</p>\\n    \\n\\n<p class=\"instock availability\">\\n    <i class=\"icon-ok\"></i>\\n    \\n        In stock\\n    \\n</p>\\n\\n                \\n                    \\n\\n\\n\\n\\n\\n\\n    \\n    <form>\\n        <button type=\"submit\" class=\"btn btn-primary btn-block\" data-loading-text=\"Adding...\">Add to basket</button>\\n    </form>\\n\\n\\n                \\n            </div>\\n        \\n    </article>\\n\\n</li>\\n                    \\n                        <li class=\"col-xs-6 col-sm-4 col-md-3 col-lg-3\">\\n\\n\\n\\n\\n\\n\\n    <article class=\"product_pod\">\\n        \\n            <div class=\"image_container\">\\n                \\n                    \\n                    <a href=\"catalogue/rip-it-up-and-start-again_986/index.html\"><img src=\"media/cache/81/c4/81c4a973364e17d01f217e1188253d5e.jpg\" alt=\"Rip it Up and Start Again\" class=\"thumbnail\"></a>\\n                    \\n                \\n            </div>\\n        \\n\\n        \\n            \\n                <p class=\"star-rating Five\">\\n                    <i class=\"icon-star\"></i>\\n                    <i class=\"icon-star\"></i>\\n                    <i class=\"icon-star\"></i>\\n                    <i class=\"icon-star\"></i>\\n                    <i class=\"icon-star\"></i>\\n                </p>\\n            \\n        \\n\\n        \\n            <h3><a href=\"catalogue/rip-it-up-and-start-again_986/index.html\" title=\"Rip it Up and Start Again\">Rip it Up and ...</a></h3>\\n        \\n\\n        \\n            <div class=\"product_price\">\\n                \\n\\n\\n\\n\\n\\n\\n    \\n        <p class=\"price_color\">\\xc2\\xa335.02</p>\\n    \\n\\n<p class=\"instock availability\">\\n    <i class=\"icon-ok\"></i>\\n    \\n        In stock\\n    \\n</p>\\n\\n                \\n                    \\n\\n\\n\\n\\n\\n\\n    \\n    <form>\\n        <button type=\"submit\" class=\"btn btn-primary btn-block\" data-loading-text=\"Adding...\">Add to basket</button>\\n    </form>\\n\\n\\n                \\n            </div>\\n        \\n    </article>\\n\\n</li>\\n                    \\n                        <li class=\"col-xs-6 col-sm-4 col-md-3 col-lg-3\">\\n\\n\\n\\n\\n\\n\\n    <article class=\"product_pod\">\\n        \\n            <div class=\"image_container\">\\n                \\n                    \\n                    <a href=\"catalogue/our-band-could-be-your-life-scenes-from-the-american-indie-underground-1981-1991_985/index.html\"><img src=\"media/cache/54/60/54607fe8945897cdcced0044103b10b6.jpg\" alt=\"Our Band Could Be Your Life: Scenes from the American Indie Underground, 1981-1991\" class=\"thumbnail\"></a>\\n                    \\n                \\n            </div>\\n        \\n\\n        \\n            \\n                <p class=\"star-rating Three\">\\n                    <i class=\"icon-star\"></i>\\n                    <i class=\"icon-star\"></i>\\n                    <i class=\"icon-star\"></i>\\n                    <i class=\"icon-star\"></i>\\n                    <i class=\"icon-star\"></i>\\n                </p>\\n            \\n        \\n\\n        \\n            <h3><a href=\"catalogue/our-band-could-be-your-life-scenes-from-the-american-indie-underground-1981-1991_985/index.html\" title=\"Our Band Could Be Your Life: Scenes from the American Indie Underground, 1981-1991\">Our Band Could Be ...</a></h3>\\n        \\n\\n        \\n            <div class=\"product_price\">\\n                \\n\\n\\n\\n\\n\\n\\n    \\n        <p class=\"price_color\">\\xc2\\xa357.25</p>\\n    \\n\\n<p class=\"instock availability\">\\n    <i class=\"icon-ok\"></i>\\n    \\n        In stock\\n    \\n</p>\\n\\n                \\n                    \\n\\n\\n\\n\\n\\n\\n    \\n    <form>\\n        <button type=\"submit\" class=\"btn btn-primary btn-block\" data-loading-text=\"Adding...\">Add to basket</button>\\n    </form>\\n\\n\\n                \\n            </div>\\n        \\n    </article>\\n\\n</li>\\n                    \\n                        <li class=\"col-xs-6 col-sm-4 col-md-3 col-lg-3\">\\n\\n\\n\\n\\n\\n\\n    <article class=\"product_pod\">\\n        \\n            <div class=\"image_container\">\\n                \\n                    \\n                    <a href=\"catalogue/olio_984/index.html\"><img src=\"media/cache/55/33/553310a7162dfbc2c6d19a84da0df9e1.jpg\" alt=\"Olio\" class=\"thumbnail\"></a>\\n                    \\n                \\n            </div>\\n        \\n\\n        \\n            \\n                <p class=\"star-rating One\">\\n                    <i class=\"icon-star\"></i>\\n                    <i class=\"icon-star\"></i>\\n                    <i class=\"icon-star\"></i>\\n                    <i class=\"icon-star\"></i>\\n                    <i class=\"icon-star\"></i>\\n                </p>\\n            \\n        \\n\\n        \\n            <h3><a href=\"catalogue/olio_984/index.html\" title=\"Olio\">Olio</a></h3>\\n        \\n\\n        \\n            <div class=\"product_price\">\\n                \\n\\n\\n\\n\\n\\n\\n    \\n        <p class=\"price_color\">\\xc2\\xa323.88</p>\\n    \\n\\n<p class=\"instock availability\">\\n    <i class=\"icon-ok\"></i>\\n    \\n        In stock\\n    \\n</p>\\n\\n                \\n                    \\n\\n\\n\\n\\n\\n\\n    \\n    <form>\\n        <button type=\"submit\" class=\"btn btn-primary btn-block\" data-loading-text=\"Adding...\">Add to basket</button>\\n    </form>\\n\\n\\n                \\n            </div>\\n        \\n    </article>\\n\\n</li>\\n                    \\n                        <li class=\"col-xs-6 col-sm-4 col-md-3 col-lg-3\">\\n\\n\\n\\n\\n\\n\\n    <article class=\"product_pod\">\\n        \\n            <div class=\"image_container\">\\n                \\n                    \\n                    <a href=\"catalogue/mesaerion-the-best-science-fiction-stories-1800-1849_983/index.html\"><img src=\"media/cache/09/a3/09a3aef48557576e1a85ba7efea8ecb7.jpg\" alt=\"Mesaerion: The Best Science Fiction Stories 1800-1849\" class=\"thumbnail\"></a>\\n                    \\n                \\n            </div>\\n        \\n\\n        \\n            \\n                <p class=\"star-rating One\">\\n                    <i class=\"icon-star\"></i>\\n                    <i class=\"icon-star\"></i>\\n                    <i class=\"icon-star\"></i>\\n                    <i class=\"icon-star\"></i>\\n                    <i class=\"icon-star\"></i>\\n                </p>\\n            \\n        \\n\\n        \\n            <h3><a href=\"catalogue/mesaerion-the-best-science-fiction-stories-1800-1849_983/index.html\" title=\"Mesaerion: The Best Science Fiction Stories 1800-1849\">Mesaerion: The Best Science ...</a></h3>\\n        \\n\\n        \\n            <div class=\"product_price\">\\n                \\n\\n\\n\\n\\n\\n\\n    \\n        <p class=\"price_color\">\\xc2\\xa337.59</p>\\n    \\n\\n<p class=\"instock availability\">\\n    <i class=\"icon-ok\"></i>\\n    \\n        In stock\\n    \\n</p>\\n\\n                \\n                    \\n\\n\\n\\n\\n\\n\\n    \\n    <form>\\n        <button type=\"submit\" class=\"btn btn-primary btn-block\" data-loading-text=\"Adding...\">Add to basket</button>\\n    </form>\\n\\n\\n                \\n            </div>\\n        \\n    </article>\\n\\n</li>\\n                    \\n                        <li class=\"col-xs-6 col-sm-4 col-md-3 col-lg-3\">\\n\\n\\n\\n\\n\\n\\n    <article class=\"product_pod\">\\n        \\n            <div class=\"image_container\">\\n                \\n                    \\n                    <a href=\"catalogue/libertarianism-for-beginners_982/index.html\"><img src=\"media/cache/0b/bc/0bbcd0a6f4bcd81ccb1049a52736406e.jpg\" alt=\"Libertarianism for Beginners\" class=\"thumbnail\"></a>\\n                    \\n                \\n            </div>\\n        \\n\\n        \\n            \\n                <p class=\"star-rating Two\">\\n                    <i class=\"icon-star\"></i>\\n                    <i class=\"icon-star\"></i>\\n                    <i class=\"icon-star\"></i>\\n                    <i class=\"icon-star\"></i>\\n                    <i class=\"icon-star\"></i>\\n                </p>\\n            \\n        \\n\\n        \\n            <h3><a href=\"catalogue/libertarianism-for-beginners_982/index.html\" title=\"Libertarianism for Beginners\">Libertarianism for Beginners</a></h3>\\n        \\n\\n        \\n            <div class=\"product_price\">\\n                \\n\\n\\n\\n\\n\\n\\n    \\n        <p class=\"price_color\">\\xc2\\xa351.33</p>\\n    \\n\\n<p class=\"instock availability\">\\n    <i class=\"icon-ok\"></i>\\n    \\n        In stock\\n    \\n</p>\\n\\n                \\n                    \\n\\n\\n\\n\\n\\n\\n    \\n    <form>\\n        <button type=\"submit\" class=\"btn btn-primary btn-block\" data-loading-text=\"Adding...\">Add to basket</button>\\n    </form>\\n\\n\\n                \\n            </div>\\n        \\n    </article>\\n\\n</li>\\n                    \\n                        <li class=\"col-xs-6 col-sm-4 col-md-3 col-lg-3\">\\n\\n\\n\\n\\n\\n\\n    <article class=\"product_pod\">\\n        \\n            <div class=\"image_container\">\\n                \\n                    \\n                    <a href=\"catalogue/its-only-the-himalayas_981/index.html\"><img src=\"media/cache/27/a5/27a53d0bb95bdd88288eaf66c9230d7e.jpg\" alt=\"It&#39;s Only the Himalayas\" class=\"thumbnail\"></a>\\n                    \\n                \\n            </div>\\n        \\n\\n        \\n            \\n                <p class=\"star-rating Two\">\\n                    <i class=\"icon-star\"></i>\\n                    <i class=\"icon-star\"></i>\\n                    <i class=\"icon-star\"></i>\\n                    <i class=\"icon-star\"></i>\\n                    <i class=\"icon-star\"></i>\\n                </p>\\n            \\n        \\n\\n        \\n            <h3><a href=\"catalogue/its-only-the-himalayas_981/index.html\" title=\"It&#39;s Only the Himalayas\">It&#39;s Only the Himalayas</a></h3>\\n        \\n\\n        \\n            <div class=\"product_price\">\\n                \\n\\n\\n\\n\\n\\n\\n    \\n        <p class=\"price_color\">\\xc2\\xa345.17</p>\\n    \\n\\n<p class=\"instock availability\">\\n    <i class=\"icon-ok\"></i>\\n    \\n        In stock\\n    \\n</p>\\n\\n                \\n                    \\n\\n\\n\\n\\n\\n\\n    \\n    <form>\\n        <button type=\"submit\" class=\"btn btn-primary btn-block\" data-loading-text=\"Adding...\">Add to basket</button>\\n    </form>\\n\\n\\n                \\n            </div>\\n        \\n    </article>\\n\\n</li>\\n                    \\n                </ol>\\n                \\n\\n\\n\\n    <div>\\n        <ul class=\"pager\">\\n            \\n            <li class=\"current\">\\n            \\n                Page 1 of 50\\n            \\n            </li>\\n            \\n                <li class=\"next\"><a href=\"catalogue/page-2.html\">next</a></li>\\n            \\n        </ul>\\n    </div>\\n\\n\\n            </div>\\n        </section>\\n    \\n\\n\\n            </div>\\n\\n        </div><!-- /row -->\\n    </div><!-- /page_inner -->\\n</div><!-- /container-fluid -->\\n\\n\\n    \\n<footer class=\"footer container-fluid\">\\n    \\n        \\n    \\n</footer>\\n\\n\\n        \\n        \\n  \\n            <!-- jQuery -->\\n            <script src=\"http://ajax.googleapis.com/ajax/libs/jquery/1.9.1/jquery.min.js\"></script>\\n            <script>window.jQuery || document.write(\\'<script src=\"static/oscar/js/jquery/jquery-1.9.1.min.js\"><\\\\/script>\\')</script>\\n        \\n  \\n\\n\\n        \\n        \\n    \\n        \\n    <!-- Twitter Bootstrap -->\\n    <script type=\"text/javascript\" src=\"static/oscar/js/bootstrap3/bootstrap.min.js\"></script>\\n    <!-- Oscar -->\\n    <script src=\"static/oscar/js/oscar/ui.js\" type=\"text/javascript\" charset=\"utf-8\"></script>\\n\\n    <script src=\"static/oscar/js/bootstrap-datetimepicker/bootstrap-datetimepicker.js\" type=\"text/javascript\" charset=\"utf-8\"></script>\\n    <script src=\"static/oscar/js/bootstrap-datetimepicker/locales/bootstrap-datetimepicker.all.js\" type=\"text/javascript\" charset=\"utf-8\"></script>\\n\\n\\n        \\n        \\n    \\n\\n    \\n\\n\\n        \\n        <script type=\"text/javascript\">\\n            $(function() {\\n                \\n    \\n    \\n    oscar.init();\\n\\n    oscar.search.init();\\n\\n            });\\n        </script>\\n\\n        \\n        <!-- Version: N/A -->\\n        \\n    </body>\\n</html>\\n'"
      ]
     },
     "execution_count": 3,
     "metadata": {},
     "output_type": "execute_result"
    }
   ],
   "source": [
    "resp.content"
   ]
  },
  {
   "cell_type": "code",
   "execution_count": 4,
   "metadata": {
    "datalore": {
     "hide_input_from_viewers": false,
     "hide_output_from_viewers": false,
     "node_id": "hBNZjCPkmqMm0PmKeugs5A",
     "type": "CODE"
    }
   },
   "outputs": [],
   "source": [
    "soup = BeautifulSoup(resp.content, \"html.parser\")  # lxml"
   ]
  },
  {
   "cell_type": "code",
   "execution_count": 5,
   "metadata": {
    "datalore": {
     "hide_input_from_viewers": false,
     "hide_output_from_viewers": false,
     "node_id": "5S7oCuHMvrKZzxlA8EeFAo",
     "type": "CODE"
    }
   },
   "outputs": [
    {
     "data": {
      "text/plain": [
       "bs4.BeautifulSoup"
      ]
     },
     "execution_count": 5,
     "metadata": {},
     "output_type": "execute_result"
    }
   ],
   "source": [
    "type(soup)"
   ]
  },
  {
   "cell_type": "code",
   "execution_count": 6,
   "metadata": {
    "datalore": {
     "hide_input_from_viewers": false,
     "hide_output_from_viewers": false,
     "node_id": "lPaz2wW47lQpDnZvtfstEV",
     "type": "CODE"
    }
   },
   "outputs": [
    {
     "data": {
      "text/plain": [
       "<title>\n",
       "    All products | Books to Scrape - Sandbox\n",
       "</title>"
      ]
     },
     "execution_count": 6,
     "metadata": {},
     "output_type": "execute_result"
    }
   ],
   "source": [
    "soup.title"
   ]
  },
  {
   "cell_type": "code",
   "execution_count": null,
   "metadata": {
    "datalore": {
     "hide_input_from_viewers": false,
     "hide_output_from_viewers": false,
     "node_id": "zUE6wNDfVE3oXnPrRvM2GS",
     "type": "CODE"
    }
   },
   "outputs": [],
   "source": [
    "print(soup.prettify())"
   ]
  },
  {
   "cell_type": "code",
   "execution_count": null,
   "metadata": {
    "datalore": {
     "hide_input_from_viewers": false,
     "hide_output_from_viewers": false,
     "node_id": "5IHRj7he9axDIQquEoivep",
     "type": "CODE"
    }
   },
   "outputs": [],
   "source": [
    "soup.html"
   ]
  },
  {
   "cell_type": "code",
   "execution_count": 9,
   "metadata": {
    "datalore": {
     "hide_input_from_viewers": false,
     "hide_output_from_viewers": false,
     "node_id": "JLrYjar7YTLm5KrZqgcGe9",
     "type": "CODE"
    }
   },
   "outputs": [
    {
     "data": {
      "text/plain": [
       "'[document]'"
      ]
     },
     "execution_count": 9,
     "metadata": {},
     "output_type": "execute_result"
    }
   ],
   "source": [
    "soup.name"
   ]
  },
  {
   "attachments": {},
   "cell_type": "markdown",
   "metadata": {
    "datalore": {
     "hide_input_from_viewers": false,
     "hide_output_from_viewers": false,
     "node_id": "wxstJnCAAFpqmS3aVQaUer",
     "type": "MD"
    }
   },
   "source": [
    "# Tags"
   ]
  },
  {
   "cell_type": "code",
   "execution_count": 10,
   "metadata": {
    "datalore": {
     "hide_input_from_viewers": false,
     "hide_output_from_viewers": false,
     "node_id": "cfdCdCzWNwbyZSIFRA80Dp",
     "type": "CODE"
    }
   },
   "outputs": [
    {
     "data": {
      "text/plain": [
       "<title>\n",
       "    All products | Books to Scrape - Sandbox\n",
       "</title>"
      ]
     },
     "execution_count": 10,
     "metadata": {},
     "output_type": "execute_result"
    }
   ],
   "source": [
    "soup.title"
   ]
  },
  {
   "cell_type": "code",
   "execution_count": 11,
   "metadata": {
    "datalore": {
     "hide_input_from_viewers": false,
     "hide_output_from_viewers": false,
     "node_id": "wTcMqsLOFm2EbHafGfsr88",
     "type": "CODE"
    }
   },
   "outputs": [
    {
     "data": {
      "text/plain": [
       "<h1>All products</h1>"
      ]
     },
     "execution_count": 11,
     "metadata": {},
     "output_type": "execute_result"
    }
   ],
   "source": [
    "soup.h1"
   ]
  },
  {
   "cell_type": "code",
   "execution_count": 12,
   "metadata": {
    "datalore": {
     "hide_input_from_viewers": false,
     "hide_output_from_viewers": false,
     "node_id": "0oEH3czYt8grNm5ycq7FlU",
     "type": "CODE"
    }
   },
   "outputs": [
    {
     "data": {
      "text/plain": [
       "<div class=\"page_inner\">\n",
       "<div class=\"row\">\n",
       "<div class=\"col-sm-8 h1\"><a href=\"index.html\">Books to Scrape</a><small> We love being scraped!</small>\n",
       "</div>\n",
       "</div>\n",
       "</div>"
      ]
     },
     "execution_count": 12,
     "metadata": {},
     "output_type": "execute_result"
    }
   ],
   "source": [
    "soup.div"
   ]
  },
  {
   "cell_type": "code",
   "execution_count": 13,
   "metadata": {
    "datalore": {
     "hide_input_from_viewers": false,
     "hide_output_from_viewers": false,
     "node_id": "fYz9uJvDbBCh4NdGXxgbu2",
     "type": "CODE"
    }
   },
   "outputs": [],
   "source": [
    "first_div = soup.div"
   ]
  },
  {
   "cell_type": "code",
   "execution_count": 14,
   "metadata": {
    "datalore": {
     "hide_input_from_viewers": false,
     "hide_output_from_viewers": false,
     "node_id": "89Mz7KRjvIRjhu4jiXoXzV",
     "type": "CODE"
    }
   },
   "outputs": [
    {
     "data": {
      "text/plain": [
       "bs4.element.Tag"
      ]
     },
     "execution_count": 14,
     "metadata": {},
     "output_type": "execute_result"
    }
   ],
   "source": [
    "type(first_div)"
   ]
  },
  {
   "cell_type": "code",
   "execution_count": 15,
   "metadata": {
    "datalore": {
     "hide_input_from_viewers": false,
     "hide_output_from_viewers": false,
     "node_id": "82BKJvTRtiFTCGxFCMx2Bq",
     "type": "CODE"
    }
   },
   "outputs": [
    {
     "data": {
      "text/plain": [
       "{'class': ['page_inner']}"
      ]
     },
     "execution_count": 15,
     "metadata": {},
     "output_type": "execute_result"
    }
   ],
   "source": [
    "first_div.attrs"
   ]
  },
  {
   "cell_type": "code",
   "execution_count": 16,
   "metadata": {
    "datalore": {
     "hide_input_from_viewers": false,
     "hide_output_from_viewers": false,
     "node_id": "7KIlNo6QxjwuTLCtFa7Wlo",
     "type": "CODE"
    }
   },
   "outputs": [
    {
     "data": {
      "text/plain": [
       "{'class': ['col-sm-8', 'h1']}"
      ]
     },
     "execution_count": 16,
     "metadata": {},
     "output_type": "execute_result"
    }
   ],
   "source": [
    "first_div.div.div.attrs"
   ]
  },
  {
   "cell_type": "code",
   "execution_count": 17,
   "metadata": {
    "datalore": {
     "hide_input_from_viewers": false,
     "hide_output_from_viewers": false,
     "node_id": "v64C6yCqlM53r8YhObJZBH",
     "type": "CODE"
    }
   },
   "outputs": [],
   "source": [
    "first_div.attrs['class'].append(\"some-other-class\")"
   ]
  },
  {
   "cell_type": "code",
   "execution_count": 18,
   "metadata": {
    "datalore": {
     "hide_input_from_viewers": false,
     "hide_output_from_viewers": false,
     "node_id": "rpS0Wg2YEVhSoUaTeEbCMT",
     "type": "CODE"
    }
   },
   "outputs": [
    {
     "data": {
      "text/plain": [
       "<div class=\"page_inner some-other-class\">\n",
       "<div class=\"row\">\n",
       "<div class=\"col-sm-8 h1\"><a href=\"index.html\">Books to Scrape</a><small> We love being scraped!</small>\n",
       "</div>\n",
       "</div>\n",
       "</div>"
      ]
     },
     "execution_count": 18,
     "metadata": {},
     "output_type": "execute_result"
    }
   ],
   "source": [
    "first_div"
   ]
  },
  {
   "cell_type": "code",
   "execution_count": 19,
   "metadata": {
    "datalore": {
     "hide_input_from_viewers": false,
     "hide_output_from_viewers": false,
     "node_id": "ZGgNbp1QbzqBYVIRd9V5yk",
     "type": "CODE"
    }
   },
   "outputs": [
    {
     "data": {
      "text/plain": [
       "<div class=\"page_inner some-other-class\">\n",
       "<div class=\"row\">\n",
       "<div class=\"col-sm-8 h1\"><a href=\"index.html\">Books to Scrape</a><small> We love being scraped!</small>\n",
       "</div>\n",
       "</div>\n",
       "</div>"
      ]
     },
     "execution_count": 19,
     "metadata": {},
     "output_type": "execute_result"
    }
   ],
   "source": [
    "soup.div"
   ]
  },
  {
   "attachments": {},
   "cell_type": "markdown",
   "metadata": {
    "datalore": {
     "hide_input_from_viewers": false,
     "hide_output_from_viewers": false,
     "node_id": "mDisZFpvKnSPpvU1X342X6",
     "type": "MD"
    }
   },
   "source": [
    "# Parents, Children, And Descendants"
   ]
  },
  {
   "cell_type": "code",
   "execution_count": 20,
   "metadata": {
    "datalore": {
     "hide_input_from_viewers": false,
     "hide_output_from_viewers": false,
     "node_id": "EHsSRYj1FCwC815daxvtrO",
     "type": "CODE"
    }
   },
   "outputs": [
    {
     "data": {
      "text/plain": [
       "<ul class=\"breadcrumb\">\n",
       "<li>\n",
       "<a href=\"index.html\">Home</a>\n",
       "</li>\n",
       "<li class=\"active\">All products</li>\n",
       "</ul>"
      ]
     },
     "execution_count": 20,
     "metadata": {},
     "output_type": "execute_result"
    }
   ],
   "source": [
    "soup.ul"
   ]
  },
  {
   "cell_type": "code",
   "execution_count": 21,
   "metadata": {
    "datalore": {
     "hide_input_from_viewers": false,
     "hide_output_from_viewers": false,
     "node_id": "ePIqzCQUag6uCWDrA6l6ZC",
     "type": "CODE"
    }
   },
   "outputs": [
    {
     "name": "stdout",
     "output_type": "stream",
     "text": [
      "<ul class=\"breadcrumb\">\n",
      " <li>\n",
      "  <a href=\"index.html\">\n",
      "   Home\n",
      "  </a>\n",
      " </li>\n",
      " <li class=\"active\">\n",
      "  All products\n",
      " </li>\n",
      "</ul>\n",
      "\n"
     ]
    }
   ],
   "source": [
    "print(soup.ul.prettify())"
   ]
  },
  {
   "cell_type": "code",
   "execution_count": 22,
   "metadata": {
    "datalore": {
     "hide_input_from_viewers": false,
     "hide_output_from_viewers": false,
     "node_id": "3Ar6JXfc90u0V0wS3g33ye",
     "type": "CODE"
    }
   },
   "outputs": [
    {
     "data": {
      "text/plain": [
       "<list_iterator at 0x1b3224ceef0>"
      ]
     },
     "execution_count": 22,
     "metadata": {},
     "output_type": "execute_result"
    }
   ],
   "source": [
    "soup.ul.children"
   ]
  },
  {
   "cell_type": "code",
   "execution_count": 23,
   "metadata": {
    "datalore": {
     "hide_input_from_viewers": false,
     "hide_output_from_viewers": false,
     "node_id": "Cr2zDuXUuf6hNSik5m3ORv",
     "type": "CODE"
    }
   },
   "outputs": [
    {
     "data": {
      "text/plain": [
       "['\\n',\n",
       " <li>\n",
       " <a href=\"index.html\">Home</a>\n",
       " </li>,\n",
       " '\\n',\n",
       " <li class=\"active\">All products</li>,\n",
       " '\\n']"
      ]
     },
     "execution_count": 23,
     "metadata": {},
     "output_type": "execute_result"
    }
   ],
   "source": [
    "list(soup.ul.children)"
   ]
  },
  {
   "cell_type": "code",
   "execution_count": 24,
   "metadata": {
    "datalore": {
     "hide_input_from_viewers": false,
     "hide_output_from_viewers": false,
     "node_id": "7YDtMrBo40Q5rTdkLlzZ0Y",
     "type": "CODE"
    }
   },
   "outputs": [],
   "source": [
    "from bs4.element import NavigableString"
   ]
  },
  {
   "cell_type": "code",
   "execution_count": 25,
   "metadata": {
    "datalore": {
     "hide_input_from_viewers": false,
     "hide_output_from_viewers": false,
     "node_id": "YvnDi7SASQGPejywjIwMPT",
     "type": "CODE"
    }
   },
   "outputs": [
    {
     "data": {
      "text/plain": [
       "[<li>\n",
       " <a href=\"index.html\">Home</a>\n",
       " </li>,\n",
       " <li class=\"active\">All products</li>]"
      ]
     },
     "execution_count": 25,
     "metadata": {},
     "output_type": "execute_result"
    }
   ],
   "source": [
    "list(filter(lambda x: type(x) != NavigableString, soup.ul.children))"
   ]
  },
  {
   "cell_type": "code",
   "execution_count": 26,
   "metadata": {
    "datalore": {
     "hide_input_from_viewers": false,
     "hide_output_from_viewers": false,
     "node_id": "5skhUB6mm2y8EAhaPGw1Q4",
     "type": "CODE"
    }
   },
   "outputs": [],
   "source": [
    "def no_nav_strings(iterable):\n",
    "    return list(filter(lambda x: type(x) != NavigableString, iterable))"
   ]
  },
  {
   "cell_type": "code",
   "execution_count": 27,
   "metadata": {
    "datalore": {
     "hide_input_from_viewers": false,
     "hide_output_from_viewers": false,
     "node_id": "VtQ3L5IFid7JbIqPwYyeHJ",
     "type": "CODE"
    }
   },
   "outputs": [
    {
     "data": {
      "text/plain": [
       "[<li>\n",
       " <a href=\"index.html\">Home</a>\n",
       " </li>,\n",
       " <li class=\"active\">All products</li>]"
      ]
     },
     "execution_count": 27,
     "metadata": {},
     "output_type": "execute_result"
    }
   ],
   "source": [
    "no_nav_strings(soup.ul.children)"
   ]
  },
  {
   "cell_type": "code",
   "execution_count": 28,
   "metadata": {
    "datalore": {
     "hide_input_from_viewers": false,
     "hide_output_from_viewers": false,
     "node_id": "DuBcx4BwqlOn3hGt0luuAs",
     "type": "CODE"
    }
   },
   "outputs": [
    {
     "data": {
      "text/plain": [
       "['\\n',\n",
       " <li>\n",
       " <a href=\"index.html\">Home</a>\n",
       " </li>,\n",
       " '\\n',\n",
       " <a href=\"index.html\">Home</a>,\n",
       " 'Home',\n",
       " '\\n',\n",
       " '\\n',\n",
       " <li class=\"active\">All products</li>,\n",
       " 'All products',\n",
       " '\\n']"
      ]
     },
     "execution_count": 28,
     "metadata": {},
     "output_type": "execute_result"
    }
   ],
   "source": [
    "list(soup.ul.descendants)"
   ]
  },
  {
   "cell_type": "code",
   "execution_count": 29,
   "metadata": {
    "datalore": {
     "hide_input_from_viewers": false,
     "hide_output_from_viewers": false,
     "node_id": "LyqIzSXOUHUgatvPzs8Uft",
     "type": "CODE"
    }
   },
   "outputs": [],
   "source": [
    "desc = no_nav_strings(soup.ul.descendants)"
   ]
  },
  {
   "cell_type": "code",
   "execution_count": 30,
   "metadata": {
    "datalore": {
     "hide_input_from_viewers": false,
     "hide_output_from_viewers": false,
     "node_id": "dSNqtxgwb1RlpyanwojSEn",
     "type": "CODE"
    }
   },
   "outputs": [
    {
     "data": {
      "text/plain": [
       "<li>\n",
       "<a href=\"index.html\">Home</a>\n",
       "</li>"
      ]
     },
     "execution_count": 30,
     "metadata": {},
     "output_type": "execute_result"
    }
   ],
   "source": [
    "desc[0]"
   ]
  },
  {
   "cell_type": "code",
   "execution_count": 31,
   "metadata": {
    "datalore": {
     "hide_input_from_viewers": false,
     "hide_output_from_viewers": false,
     "node_id": "CBCMppdp5BvrCA0bsmEMTq",
     "type": "CODE"
    }
   },
   "outputs": [
    {
     "data": {
      "text/plain": [
       "<ul class=\"breadcrumb\">\n",
       "<li>\n",
       "<a href=\"index.html\">Home</a>\n",
       "</li>\n",
       "<li class=\"active\">All products</li>\n",
       "</ul>"
      ]
     },
     "execution_count": 31,
     "metadata": {},
     "output_type": "execute_result"
    }
   ],
   "source": [
    "desc[0].parent"
   ]
  },
  {
   "attachments": {},
   "cell_type": "markdown",
   "metadata": {
    "datalore": {
     "hide_input_from_viewers": false,
     "hide_output_from_viewers": false,
     "node_id": "45fmcHbSaAVj5uQfpMUYVc",
     "type": "MD"
    }
   },
   "source": [
    "# Siblings"
   ]
  },
  {
   "cell_type": "code",
   "execution_count": 32,
   "metadata": {
    "datalore": {
     "hide_input_from_viewers": false,
     "hide_output_from_viewers": false,
     "node_id": "96PujvMR9vMRvK7TOW8HHk",
     "type": "CODE"
    }
   },
   "outputs": [
    {
     "data": {
      "text/plain": [
       "<ul class=\"breadcrumb\">\n",
       "<li>\n",
       "<a href=\"index.html\">Home</a>\n",
       "</li>\n",
       "<li class=\"active\">All products</li>\n",
       "</ul>"
      ]
     },
     "execution_count": 32,
     "metadata": {},
     "output_type": "execute_result"
    }
   ],
   "source": [
    "soup.ul"
   ]
  },
  {
   "cell_type": "code",
   "execution_count": 33,
   "metadata": {
    "datalore": {
     "hide_input_from_viewers": false,
     "hide_output_from_viewers": false,
     "node_id": "fN2YpVwBKopajI7qAjqhqo",
     "type": "CODE"
    }
   },
   "outputs": [
    {
     "data": {
      "text/plain": [
       "<li>\n",
       "<a href=\"index.html\">Home</a>\n",
       "</li>"
      ]
     },
     "execution_count": 33,
     "metadata": {},
     "output_type": "execute_result"
    }
   ],
   "source": [
    "soup.ul.li"
   ]
  },
  {
   "cell_type": "code",
   "execution_count": 34,
   "metadata": {
    "datalore": {
     "hide_input_from_viewers": false,
     "hide_output_from_viewers": false,
     "node_id": "9fkSP3FVpSPCxZF5XKbn2P",
     "type": "CODE"
    }
   },
   "outputs": [
    {
     "data": {
      "text/plain": [
       "<li class=\"active\">All products</li>"
      ]
     },
     "execution_count": 34,
     "metadata": {},
     "output_type": "execute_result"
    }
   ],
   "source": [
    "soup.ul.li.next_sibling.next_sibling"
   ]
  },
  {
   "cell_type": "code",
   "execution_count": 35,
   "metadata": {
    "datalore": {
     "hide_input_from_viewers": false,
     "hide_output_from_viewers": false,
     "node_id": "XVd8CCblZqnFqQMOyGbH3b",
     "type": "CODE"
    }
   },
   "outputs": [
    {
     "data": {
      "text/plain": [
       "<li>\n",
       "<a href=\"index.html\">Home</a>\n",
       "</li>"
      ]
     },
     "execution_count": 35,
     "metadata": {},
     "output_type": "execute_result"
    }
   ],
   "source": [
    "soup.ul.li \\\n",
    "    .next_sibling \\\n",
    "    .next_sibling \\\n",
    "    .previous_sibling \\\n",
    "    .previous_sibling"
   ]
  },
  {
   "attachments": {},
   "cell_type": "markdown",
   "metadata": {
    "datalore": {
     "hide_input_from_viewers": false,
     "hide_output_from_viewers": false,
     "node_id": "dv5sQTFT318F6RsPKVD8zb",
     "type": "MD"
    }
   },
   "source": [
    "# Extracting Text"
   ]
  },
  {
   "cell_type": "code",
   "execution_count": 36,
   "metadata": {
    "datalore": {
     "hide_input_from_viewers": false,
     "hide_output_from_viewers": false,
     "node_id": "NLJ06dUlT8pbw8VtMffI2S",
     "type": "CODE"
    }
   },
   "outputs": [
    {
     "data": {
      "text/plain": [
       "<a href=\"index.html\">Books to Scrape</a>"
      ]
     },
     "execution_count": 36,
     "metadata": {},
     "output_type": "execute_result"
    }
   ],
   "source": [
    "soup.a"
   ]
  },
  {
   "cell_type": "code",
   "execution_count": 37,
   "metadata": {
    "datalore": {
     "hide_input_from_viewers": false,
     "hide_output_from_viewers": false,
     "node_id": "oko8OC2GcSXTg7jQGLbEDi",
     "type": "CODE"
    }
   },
   "outputs": [
    {
     "data": {
      "text/plain": [
       "'Books to Scrape'"
      ]
     },
     "execution_count": 37,
     "metadata": {},
     "output_type": "execute_result"
    }
   ],
   "source": [
    "soup.a.get_text()"
   ]
  },
  {
   "cell_type": "code",
   "execution_count": 38,
   "metadata": {
    "datalore": {
     "hide_input_from_viewers": false,
     "hide_output_from_viewers": false,
     "node_id": "XVSTbT4niNZFC6CVGxS9Ve",
     "type": "CODE"
    }
   },
   "outputs": [
    {
     "data": {
      "text/plain": [
       "'Books to Scrape'"
      ]
     },
     "execution_count": 38,
     "metadata": {},
     "output_type": "execute_result"
    }
   ],
   "source": [
    "soup.a.text"
   ]
  },
  {
   "cell_type": "code",
   "execution_count": 39,
   "metadata": {
    "datalore": {
     "hide_input_from_viewers": false,
     "hide_output_from_viewers": false,
     "node_id": "trflNVN9xHULkKOzyKlEoC",
     "type": "CODE"
    }
   },
   "outputs": [
    {
     "data": {
      "text/plain": [
       "'Books to Scrape'"
      ]
     },
     "execution_count": 39,
     "metadata": {},
     "output_type": "execute_result"
    }
   ],
   "source": [
    "soup.a.string"
   ]
  },
  {
   "cell_type": "code",
   "execution_count": 40,
   "metadata": {
    "datalore": {
     "hide_input_from_viewers": false,
     "hide_output_from_viewers": false,
     "node_id": "FjSSpxqofZUFr4IVviLf1r",
     "type": "CODE"
    }
   },
   "outputs": [
    {
     "data": {
      "text/plain": [
       "<ul class=\"breadcrumb\">\n",
       "<li>\n",
       "<a href=\"index.html\">Home</a>\n",
       "</li>\n",
       "<li class=\"active\">All products</li>\n",
       "</ul>"
      ]
     },
     "execution_count": 40,
     "metadata": {},
     "output_type": "execute_result"
    }
   ],
   "source": [
    "soup.ul"
   ]
  },
  {
   "cell_type": "code",
   "execution_count": 41,
   "metadata": {
    "datalore": {
     "hide_input_from_viewers": false,
     "hide_output_from_viewers": false,
     "node_id": "r2NO0PqqxlXTQFxjMxoRvh",
     "type": "CODE"
    }
   },
   "outputs": [
    {
     "data": {
      "text/plain": [
       "'\\n\\nHome\\n\\nAll products\\n'"
      ]
     },
     "execution_count": 41,
     "metadata": {},
     "output_type": "execute_result"
    }
   ],
   "source": [
    "soup.ul.get_text()"
   ]
  },
  {
   "cell_type": "code",
   "execution_count": 42,
   "metadata": {
    "datalore": {
     "hide_input_from_viewers": false,
     "hide_output_from_viewers": false,
     "node_id": "Bj4WzxyMhTp7RFJWmuq5Ep",
     "type": "CODE"
    }
   },
   "outputs": [
    {
     "data": {
      "text/plain": [
       "'\\n\\nHome\\n\\nAll products\\n'"
      ]
     },
     "execution_count": 42,
     "metadata": {},
     "output_type": "execute_result"
    }
   ],
   "source": [
    "soup.ul.text"
   ]
  },
  {
   "cell_type": "code",
   "execution_count": 43,
   "metadata": {
    "datalore": {
     "hide_input_from_viewers": false,
     "hide_output_from_viewers": false,
     "node_id": "GLm742RbI7aYYSchgO3JKL",
     "type": "CODE"
    }
   },
   "outputs": [],
   "source": [
    "soup.ul.string  # None"
   ]
  },
  {
   "cell_type": "code",
   "execution_count": 44,
   "metadata": {
    "datalore": {
     "hide_input_from_viewers": false,
     "hide_output_from_viewers": false,
     "node_id": "EVDsqSdM96W2wmBEnTwFOg",
     "type": "CODE"
    }
   },
   "outputs": [
    {
     "name": "stdout",
     "output_type": "stream",
     "text": [
      "Books to Scrape  of type  <class 'str'>\n",
      "Books to Scrape  of type  <class 'str'>\n",
      "Books to Scrape  of type  <class 'bs4.element.NavigableString'>\n"
     ]
    }
   ],
   "source": [
    "print(soup.a.text, \" of type \", type(soup.a.text))\n",
    "print(soup.a.get_text(), \" of type \", type(soup.a.get_text()))\n",
    "print(soup.a.string, \" of type \", type(soup.a.string))"
   ]
  },
  {
   "cell_type": "code",
   "execution_count": 45,
   "metadata": {
    "datalore": {
     "hide_input_from_viewers": false,
     "hide_output_from_viewers": false,
     "node_id": "G9YLLUME83fP3Y5TxnQVlJ",
     "type": "CODE"
    }
   },
   "outputs": [
    {
     "data": {
      "text/plain": [
       "'\\n\\nHome\\n\\nAll products\\n'"
      ]
     },
     "execution_count": 45,
     "metadata": {},
     "output_type": "execute_result"
    }
   ],
   "source": [
    "soup.ul.text"
   ]
  },
  {
   "cell_type": "code",
   "execution_count": 46,
   "metadata": {
    "datalore": {
     "hide_input_from_viewers": false,
     "hide_output_from_viewers": false,
     "node_id": "aqfWFcJZM1KYkbfYPBNAaK",
     "type": "CODE"
    }
   },
   "outputs": [
    {
     "data": {
      "text/plain": [
       "'\\n\\nHome\\n\\nAll products\\n'"
      ]
     },
     "execution_count": 46,
     "metadata": {},
     "output_type": "execute_result"
    }
   ],
   "source": [
    "soup.ul.get_text()"
   ]
  },
  {
   "cell_type": "code",
   "execution_count": 47,
   "metadata": {
    "datalore": {
     "hide_input_from_viewers": false,
     "hide_output_from_viewers": false,
     "node_id": "621OXlwPFqGRoVnRThZy2N",
     "type": "CODE"
    }
   },
   "outputs": [
    {
     "data": {
      "text/plain": [
       "'Home, All products'"
      ]
     },
     "execution_count": 47,
     "metadata": {},
     "output_type": "execute_result"
    }
   ],
   "source": [
    "soup.ul.get_text(separator=\", \", strip=True)"
   ]
  },
  {
   "attachments": {},
   "cell_type": "markdown",
   "metadata": {
    "datalore": {
     "hide_input_from_viewers": false,
     "hide_output_from_viewers": false,
     "node_id": "fcCiaWORMzEDiRfwlSzeFp",
     "type": "MD"
    }
   },
   "source": [
    "# All Strings"
   ]
  },
  {
   "cell_type": "code",
   "execution_count": 48,
   "metadata": {
    "datalore": {
     "hide_input_from_viewers": false,
     "hide_output_from_viewers": false,
     "node_id": "KpsMflg855hZn2o0Cj4dlJ",
     "type": "CODE"
    }
   },
   "outputs": [
    {
     "data": {
      "text/plain": [
       "<generator object PageElement.stripped_strings at 0x000001B321D50E10>"
      ]
     },
     "execution_count": 48,
     "metadata": {},
     "output_type": "execute_result"
    }
   ],
   "source": [
    "soup.stripped_strings"
   ]
  },
  {
   "cell_type": "code",
   "execution_count": 49,
   "metadata": {
    "datalore": {
     "hide_input_from_viewers": false,
     "hide_output_from_viewers": false,
     "node_id": "p0mABpAalP2vpYbXu2xzAj",
     "type": "CODE"
    }
   },
   "outputs": [],
   "source": [
    "all_strings = list(soup.stripped_strings)"
   ]
  },
  {
   "cell_type": "code",
   "execution_count": 50,
   "metadata": {
    "datalore": {
     "hide_input_from_viewers": false,
     "hide_output_from_viewers": false,
     "node_id": "fo5xE7ARtKVJLy1QAogoMh",
     "type": "CODE"
    }
   },
   "outputs": [
    {
     "data": {
      "text/plain": [
       "147"
      ]
     },
     "execution_count": 50,
     "metadata": {},
     "output_type": "execute_result"
    }
   ],
   "source": [
    "len(all_strings)"
   ]
  },
  {
   "cell_type": "code",
   "execution_count": 51,
   "metadata": {
    "datalore": {
     "hide_input_from_viewers": false,
     "hide_output_from_viewers": false,
     "node_id": "0K1k9ymqfQ0LI4WcZiA20V",
     "type": "CODE"
    }
   },
   "outputs": [
    {
     "data": {
      "text/plain": [
       "852"
      ]
     },
     "execution_count": 51,
     "metadata": {},
     "output_type": "execute_result"
    }
   ],
   "source": [
    "len(list(soup.strings))"
   ]
  },
  {
   "cell_type": "code",
   "execution_count": 52,
   "metadata": {
    "datalore": {
     "hide_input_from_viewers": false,
     "hide_output_from_viewers": false,
     "node_id": "ycaHjq7i19Q58q6lDEEXzm",
     "type": "CODE"
    }
   },
   "outputs": [
    {
     "data": {
      "text/plain": [
       "['\\n',\n",
       " '\\n',\n",
       " '\\n',\n",
       " '\\n',\n",
       " ' ',\n",
       " ' ',\n",
       " '\\n',\n",
       " '\\n',\n",
       " '\\n    All products | Books to Scrape - Sandbox\\n',\n",
       " '\\n']"
      ]
     },
     "execution_count": 52,
     "metadata": {},
     "output_type": "execute_result"
    }
   ],
   "source": [
    "list(soup.strings)[:10]"
   ]
  },
  {
   "attachments": {},
   "cell_type": "markdown",
   "metadata": {
    "datalore": {
     "hide_input_from_viewers": false,
     "hide_output_from_viewers": false,
     "node_id": "PEFfvhXQ6IQO6pivRCUfXH",
     "type": "MD"
    }
   },
   "source": [
    "# Search"
   ]
  },
  {
   "cell_type": "code",
   "execution_count": null,
   "metadata": {
    "datalore": {
     "hide_input_from_viewers": false,
     "hide_output_from_viewers": false,
     "node_id": "fQEZQ0ShLg54bHljYAZ6R1",
     "type": "CODE"
    }
   },
   "outputs": [],
   "source": [
    "soup"
   ]
  },
  {
   "cell_type": "code",
   "execution_count": 54,
   "metadata": {
    "datalore": {
     "hide_input_from_viewers": false,
     "hide_output_from_viewers": false,
     "node_id": "5UYwIrSNtMrI2pMJLgPZJ4",
     "type": "CODE"
    }
   },
   "outputs": [],
   "source": [
    "# - find() -> like find_all(), but returns only 1st result \n",
    "# - find_all()"
   ]
  },
  {
   "cell_type": "code",
   "execution_count": 55,
   "metadata": {
    "datalore": {
     "hide_input_from_viewers": false,
     "hide_output_from_viewers": false,
     "node_id": "KACI4QaOMUnjuKaaoJbLJ2",
     "type": "CODE"
    }
   },
   "outputs": [
    {
     "data": {
      "text/plain": [
       "541"
      ]
     },
     "execution_count": 55,
     "metadata": {},
     "output_type": "execute_result"
    }
   ],
   "source": [
    "len(soup.find_all())"
   ]
  },
  {
   "cell_type": "code",
   "execution_count": 56,
   "metadata": {
    "datalore": {
     "hide_input_from_viewers": false,
     "hide_output_from_viewers": false,
     "node_id": "zLSNnd7j3nRJnLQrhGeCSW",
     "type": "CODE"
    }
   },
   "outputs": [
    {
     "data": {
      "text/plain": [
       "94"
      ]
     },
     "execution_count": 56,
     "metadata": {},
     "output_type": "execute_result"
    }
   ],
   "source": [
    "len(soup.find_all(\"a\"))"
   ]
  },
  {
   "cell_type": "code",
   "execution_count": 57,
   "metadata": {
    "datalore": {
     "hide_input_from_viewers": false,
     "hide_output_from_viewers": false,
     "node_id": "t6vPfm8bPhXXGLheVyHrUa",
     "type": "CODE"
    }
   },
   "outputs": [
    {
     "data": {
      "text/plain": [
       "154"
      ]
     },
     "execution_count": 57,
     "metadata": {},
     "output_type": "execute_result"
    }
   ],
   "source": [
    "len(soup.find_all([\"a\", \"p\"]))"
   ]
  },
  {
   "cell_type": "code",
   "execution_count": 58,
   "metadata": {
    "datalore": {
     "hide_input_from_viewers": false,
     "hide_output_from_viewers": false,
     "node_id": "VKIX4w0U6A2asBMyQAhWEr",
     "type": "CODE"
    }
   },
   "outputs": [],
   "source": [
    "# tag_name: p\n",
    "# attr: class=price_color"
   ]
  },
  {
   "cell_type": "code",
   "execution_count": 77,
   "metadata": {
    "datalore": {
     "hide_input_from_viewers": false,
     "hide_output_from_viewers": false,
     "node_id": "SgyKJ6sOZQCemIzItHTOA1",
     "type": "CODE"
    }
   },
   "outputs": [
    {
     "data": {
      "text/plain": [
       "[<p class=\"price_color\">£51.77</p>,\n",
       " <p class=\"price_color\">£53.74</p>,\n",
       " <p class=\"price_color\">£50.10</p>,\n",
       " <p class=\"price_color\">£47.82</p>,\n",
       " <p class=\"price_color\">£54.23</p>,\n",
       " <p class=\"price_color\">£22.65</p>,\n",
       " <p class=\"price_color\">£33.34</p>,\n",
       " <p class=\"price_color\">£17.93</p>,\n",
       " <p class=\"price_color\">£22.60</p>,\n",
       " <p class=\"price_color\">£52.15</p>,\n",
       " <p class=\"price_color\">£13.99</p>,\n",
       " <p class=\"price_color\">£20.66</p>,\n",
       " <p class=\"price_color\">£17.46</p>,\n",
       " <p class=\"price_color\">£52.29</p>,\n",
       " <p class=\"price_color\">£35.02</p>,\n",
       " <p class=\"price_color\">£57.25</p>,\n",
       " <p class=\"price_color\">£23.88</p>,\n",
       " <p class=\"price_color\">£37.59</p>,\n",
       " <p class=\"price_color\">£51.33</p>,\n",
       " <p class=\"price_color\">£45.17</p>]"
      ]
     },
     "execution_count": 77,
     "metadata": {},
     "output_type": "execute_result"
    }
   ],
   "source": [
    "price_tags = soup.find_all(\"p\", attrs={\"class\": \"price_color\"})\n",
    "price_tags"
   ]
  },
  {
   "cell_type": "code",
   "execution_count": 76,
   "metadata": {
    "datalore": {
     "hide_input_from_viewers": false,
     "hide_output_from_viewers": false,
     "node_id": "a0WJsUcTX9XYVOudqSMoZT",
     "type": "CODE"
    }
   },
   "outputs": [
    {
     "data": {
      "text/plain": [
       "[<p class=\"price_color\">£51.77</p>,\n",
       " <p class=\"price_color\">£53.74</p>,\n",
       " <p class=\"price_color\">£50.10</p>,\n",
       " <p class=\"price_color\">£47.82</p>,\n",
       " <p class=\"price_color\">£54.23</p>,\n",
       " <p class=\"price_color\">£22.65</p>,\n",
       " <p class=\"price_color\">£33.34</p>,\n",
       " <p class=\"price_color\">£17.93</p>,\n",
       " <p class=\"price_color\">£22.60</p>,\n",
       " <p class=\"price_color\">£52.15</p>,\n",
       " <p class=\"price_color\">£13.99</p>,\n",
       " <p class=\"price_color\">£20.66</p>,\n",
       " <p class=\"price_color\">£17.46</p>,\n",
       " <p class=\"price_color\">£52.29</p>,\n",
       " <p class=\"price_color\">£35.02</p>,\n",
       " <p class=\"price_color\">£57.25</p>,\n",
       " <p class=\"price_color\">£23.88</p>,\n",
       " <p class=\"price_color\">£37.59</p>,\n",
       " <p class=\"price_color\">£51.33</p>,\n",
       " <p class=\"price_color\">£45.17</p>]"
      ]
     },
     "execution_count": 76,
     "metadata": {},
     "output_type": "execute_result"
    }
   ],
   "source": [
    "price_tags = soup.find_all(\"p\", class_=\"price_color\")\n",
    "price_tags"
   ]
  },
  {
   "cell_type": "code",
   "execution_count": 61,
   "metadata": {
    "datalore": {
     "hide_input_from_viewers": false,
     "hide_output_from_viewers": false,
     "node_id": "NV8ogooryqDmsS2b9LlulD",
     "type": "CODE"
    }
   },
   "outputs": [
    {
     "data": {
      "text/plain": [
       "['£51.77',\n",
       " '£53.74',\n",
       " '£50.10',\n",
       " '£47.82',\n",
       " '£54.23',\n",
       " '£22.65',\n",
       " '£33.34',\n",
       " '£17.93',\n",
       " '£22.60',\n",
       " '£52.15',\n",
       " '£13.99',\n",
       " '£20.66',\n",
       " '£17.46',\n",
       " '£52.29',\n",
       " '£35.02',\n",
       " '£57.25',\n",
       " '£23.88',\n",
       " '£37.59',\n",
       " '£51.33',\n",
       " '£45.17']"
      ]
     },
     "execution_count": 61,
     "metadata": {},
     "output_type": "execute_result"
    }
   ],
   "source": [
    "[price.get_text() for price in price_tags]"
   ]
  },
  {
   "cell_type": "code",
   "execution_count": 62,
   "metadata": {
    "datalore": {
     "hide_input_from_viewers": false,
     "hide_output_from_viewers": false,
     "node_id": "Ilxdu875zuWVbuc9RRlhFR",
     "type": "CODE"
    }
   },
   "outputs": [],
   "source": [
    "add_buttons = soup.find_all(\"button\",\n",
    "                            attrs={\"data-loading-text\": \"Adding...\"})"
   ]
  },
  {
   "cell_type": "code",
   "execution_count": 63,
   "metadata": {
    "datalore": {
     "hide_input_from_viewers": false,
     "hide_output_from_viewers": false,
     "node_id": "IaqYlWncA3mgO60xUlBEZC",
     "type": "CODE"
    }
   },
   "outputs": [
    {
     "data": {
      "text/plain": [
       "20"
      ]
     },
     "execution_count": 63,
     "metadata": {},
     "output_type": "execute_result"
    }
   ],
   "source": [
    "len(add_buttons)"
   ]
  },
  {
   "cell_type": "code",
   "execution_count": 64,
   "metadata": {
    "datalore": {
     "hide_input_from_viewers": false,
     "hide_output_from_viewers": false,
     "node_id": "v53LqPVQP6dT5oZdVrL27C",
     "type": "CODE"
    }
   },
   "outputs": [],
   "source": [
    "# contains: \"add\", \"remove\", case-insensitive"
   ]
  },
  {
   "cell_type": "code",
   "execution_count": 65,
   "metadata": {
    "datalore": {
     "hide_input_from_viewers": false,
     "hide_output_from_viewers": false,
     "node_id": "q4ueekw8ju8ACkl6VrLFkS",
     "type": "CODE"
    }
   },
   "outputs": [],
   "source": [
    "add_buttons = soup.find_all(\"button\",\n",
    "                            attrs={\"data-loading-text\": lambda x: \"add\" in x.lower() or \"remove\" in x.lower()})"
   ]
  },
  {
   "cell_type": "code",
   "execution_count": 66,
   "metadata": {
    "datalore": {
     "hide_input_from_viewers": false,
     "hide_output_from_viewers": false,
     "node_id": "5shziXcSwHiGvfTRbzQNkh",
     "type": "CODE"
    }
   },
   "outputs": [
    {
     "data": {
      "text/plain": [
       "20"
      ]
     },
     "execution_count": 66,
     "metadata": {},
     "output_type": "execute_result"
    }
   ],
   "source": [
    "len(add_buttons)"
   ]
  },
  {
   "attachments": {},
   "cell_type": "markdown",
   "metadata": {
    "datalore": {
     "hide_input_from_viewers": false,
     "hide_output_from_viewers": false,
     "node_id": "zVGp4BbWyAAgQJkqGrVbov",
     "type": "MD"
    }
   },
   "source": [
    "# Challenge"
   ]
  },
  {
   "attachments": {},
   "cell_type": "markdown",
   "metadata": {
    "datalore": {
     "hide_input_from_viewers": false,
     "hide_output_from_viewers": false,
     "node_id": "gasnVQR6UivAY33AdPcJk3",
     "type": "MD"
    }
   },
   "source": [
    "> Extract the following elements from the 1st page of books.toscrape.com:\n",
    "\n",
    "  * full book title \n",
    "  * price as float\n",
    "  * rating as int\n",
    "\n",
    "> Data should be stored as python list of dictionaries, where each book is \n",
    "dictionary\n",
    "\n",
    "> e.g.\n",
    "  \n",
    "  {\n",
    "    'title': 'Mesaerion: The Best Science Fiction Stories 1800-1849',\n",
    "    'price': 37.59,\n",
    "    'rating': 1\n",
    "  }"
   ]
  },
  {
   "cell_type": "code",
   "execution_count": 2,
   "metadata": {},
   "outputs": [
    {
     "data": {
      "text/plain": [
       "bs4.BeautifulSoup"
      ]
     },
     "execution_count": 2,
     "metadata": {},
     "output_type": "execute_result"
    }
   ],
   "source": [
    "import requests as r\n",
    "from bs4 import BeautifulSoup\n",
    "resp = r.get(\"https://books.toscrape.com/\")\n",
    "soup = BeautifulSoup(resp.content, \"html.parser\")\n",
    "type(soup)"
   ]
  },
  {
   "cell_type": "code",
   "execution_count": 3,
   "metadata": {
    "datalore": {
     "hide_input_from_viewers": false,
     "hide_output_from_viewers": false,
     "node_id": "aNvxyBrfGiiLBVOipVGjRb",
     "type": "CODE"
    }
   },
   "outputs": [
    {
     "data": {
      "text/plain": [
       "541"
      ]
     },
     "execution_count": 3,
     "metadata": {},
     "output_type": "execute_result"
    }
   ],
   "source": [
    "len(soup.find_all())"
   ]
  },
  {
   "cell_type": "code",
   "execution_count": 6,
   "metadata": {},
   "outputs": [
    {
     "data": {
      "text/plain": [
       "20"
      ]
     },
     "execution_count": 6,
     "metadata": {},
     "output_type": "execute_result"
    }
   ],
   "source": [
    "book_tags = soup.find_all(\"article\", attrs={\"class\": \"product_pod\"})\n",
    "len(book_tags)"
   ]
  },
  {
   "cell_type": "code",
   "execution_count": 13,
   "metadata": {
    "datalore": {
     "hide_input_from_viewers": false,
     "hide_output_from_viewers": false,
     "node_id": "XAJk7xAg035UjKpfuRZDdx",
     "type": "CODE"
    }
   },
   "outputs": [
    {
     "data": {
      "text/plain": [
       "('The Requiem Red', '£22.65', 'One')"
      ]
     },
     "execution_count": 13,
     "metadata": {},
     "output_type": "execute_result"
    }
   ],
   "source": [
    "extract_book_data(book_tags[5])"
   ]
  },
  {
   "cell_type": "code",
   "execution_count": 14,
   "metadata": {
    "datalore": {
     "hide_input_from_viewers": false,
     "hide_output_from_viewers": false,
     "node_id": "mzxewmWR9yfaIymbsEzsmE",
     "type": "CODE"
    }
   },
   "outputs": [
    {
     "name": "stdout",
     "output_type": "stream",
     "text": [
      "<article class=\"product_pod\">\n",
      " <div class=\"image_container\">\n",
      "  <a href=\"catalogue/a-light-in-the-attic_1000/index.html\">\n",
      "   <img alt=\"A Light in the Attic\" class=\"thumbnail\" src=\"media/cache/2c/da/2cdad67c44b002e7ead0cc35693c0e8b.jpg\"/>\n",
      "  </a>\n",
      " </div>\n",
      " <p class=\"star-rating Three\">\n",
      "  <i class=\"icon-star\">\n",
      "  </i>\n",
      "  <i class=\"icon-star\">\n",
      "  </i>\n",
      "  <i class=\"icon-star\">\n",
      "  </i>\n",
      "  <i class=\"icon-star\">\n",
      "  </i>\n",
      "  <i class=\"icon-star\">\n",
      "  </i>\n",
      " </p>\n",
      " <h3>\n",
      "  <a href=\"catalogue/a-light-in-the-attic_1000/index.html\" title=\"A Light in the Attic\">\n",
      "   A Light in the ...\n",
      "  </a>\n",
      " </h3>\n",
      " <div class=\"product_price\">\n",
      "  <p class=\"price_color\">\n",
      "   £51.77\n",
      "  </p>\n",
      "  <p class=\"instock availability\">\n",
      "   <i class=\"icon-ok\">\n",
      "   </i>\n",
      "   In stock\n",
      "  </p>\n",
      "  <form>\n",
      "   <button class=\"btn btn-primary btn-block\" data-loading-text=\"Adding...\" type=\"submit\">\n",
      "    Add to basket\n",
      "   </button>\n",
      "  </form>\n",
      " </div>\n",
      "</article>\n",
      "\n"
     ]
    }
   ],
   "source": [
    "print(book_tags[0].prettify())"
   ]
  },
  {
   "cell_type": "code",
   "execution_count": 23,
   "metadata": {
    "datalore": {
     "hide_input_from_viewers": false,
     "hide_output_from_viewers": false,
     "node_id": "JsgpH0OrH4uQJxiZbjSgWD",
     "type": "CODE"
    }
   },
   "outputs": [
    {
     "data": {
      "text/plain": [
       "{'title': 'The Dirty Little Secrets of Getting Your Dream Job',\n",
       " 'price': 33.34,\n",
       " 'rating': 4}"
      ]
     },
     "execution_count": 23,
     "metadata": {},
     "output_type": "execute_result"
    }
   ],
   "source": [
    "refinement_test = extract_book_data(book_tags[6])\n",
    "refinement_test"
   ]
  },
  {
   "cell_type": "code",
   "execution_count": 18,
   "metadata": {},
   "outputs": [
    {
     "data": {
      "text/plain": [
       "33.34"
      ]
     },
     "execution_count": 18,
     "metadata": {},
     "output_type": "execute_result"
    }
   ],
   "source": [
    "import re\n",
    "\n",
    "def clean_price(price):\n",
    "    return float(re.sub(\"[^0-9.]\", \"\", price))"
   ]
  },
  {
   "cell_type": "code",
   "execution_count": 29,
   "metadata": {
    "datalore": {
     "hide_input_from_viewers": false,
     "hide_output_from_viewers": false,
     "node_id": "wD59fkIWtavtMVJILjoOqE",
     "type": "CODE"
    }
   },
   "outputs": [],
   "source": [
    "def map_rating(rating):\n",
    "  rating_map = {\"One\": 1,\n",
    "                \"Two\": 2,\n",
    "                \"Three\": 3,\n",
    "                \"Four\": 4,\n",
    "                \"Five\": 5\n",
    "  }\n",
    "  \n",
    "  return rating_map[rating]"
   ]
  },
  {
   "cell_type": "code",
   "execution_count": 30,
   "metadata": {},
   "outputs": [],
   "source": [
    "def extract_book_data(book_tag):\n",
    "  title = book_tag.find(\"h3\").find(\"a\")[\"title\"]\n",
    "  price = book_tag.find(\"p\", attrs={\"class\": \"price_color\"}).get_text()\n",
    "  rating = book_tag.find(\"p\", attrs={\"class\": \"star-rating\"})[\"class\"][-1]\n",
    "  \n",
    "  return {\n",
    "    \"title\": title,\n",
    "    \"price\": clean_price(price),\n",
    "    \"rating\": map_rating(rating)\n",
    "  }"
   ]
  },
  {
   "cell_type": "code",
   "execution_count": 32,
   "metadata": {
    "datalore": {
     "hide_input_from_viewers": false,
     "hide_output_from_viewers": false,
     "node_id": "UK6saqljjKhcRmo7gTbMA3",
     "type": "CODE"
    }
   },
   "outputs": [],
   "source": [
    "book_tags = soup.find_all(\"article\", attrs={\"class\": \"product_pod\"})\n",
    "\n",
    "book_data = [extract_book_data(book_tag) for book_tag in book_tags]"
   ]
  },
  {
   "cell_type": "code",
   "execution_count": 33,
   "metadata": {},
   "outputs": [
    {
     "data": {
      "text/plain": [
       "20"
      ]
     },
     "execution_count": 33,
     "metadata": {},
     "output_type": "execute_result"
    }
   ],
   "source": [
    "len(book_data)"
   ]
  },
  {
   "cell_type": "code",
   "execution_count": 19,
   "metadata": {},
   "outputs": [],
   "source": [
    "from random import choice"
   ]
  },
  {
   "cell_type": "code",
   "execution_count": 35,
   "metadata": {},
   "outputs": [
    {
     "data": {
      "text/plain": [
       "{'title': 'Sapiens: A Brief History of Humankind', 'price': 54.23, 'rating': 5}"
      ]
     },
     "execution_count": 35,
     "metadata": {},
     "output_type": "execute_result"
    }
   ],
   "source": [
    "extract_book_data(choice(book_tags))"
   ]
  },
  {
   "cell_type": "code",
   "execution_count": 37,
   "metadata": {},
   "outputs": [
    {
     "data": {
      "text/plain": [
       "[{'title': 'A Light in the Attic', 'price': 51.77, 'rating': 3},\n",
       " {'title': 'Tipping the Velvet', 'price': 53.74, 'rating': 1},\n",
       " {'title': 'Soumission', 'price': 50.1, 'rating': 1},\n",
       " {'title': 'Sharp Objects', 'price': 47.82, 'rating': 4},\n",
       " {'title': 'Sapiens: A Brief History of Humankind',\n",
       "  'price': 54.23,\n",
       "  'rating': 5},\n",
       " {'title': 'The Requiem Red', 'price': 22.65, 'rating': 1},\n",
       " {'title': 'The Dirty Little Secrets of Getting Your Dream Job',\n",
       "  'price': 33.34,\n",
       "  'rating': 4},\n",
       " {'title': 'The Coming Woman: A Novel Based on the Life of the Infamous Feminist, Victoria Woodhull',\n",
       "  'price': 17.93,\n",
       "  'rating': 3},\n",
       " {'title': 'The Boys in the Boat: Nine Americans and Their Epic Quest for Gold at the 1936 Berlin Olympics',\n",
       "  'price': 22.6,\n",
       "  'rating': 4},\n",
       " {'title': 'The Black Maria', 'price': 52.15, 'rating': 1},\n",
       " {'title': 'Starving Hearts (Triangular Trade Trilogy, #1)',\n",
       "  'price': 13.99,\n",
       "  'rating': 2},\n",
       " {'title': \"Shakespeare's Sonnets\", 'price': 20.66, 'rating': 4},\n",
       " {'title': 'Set Me Free', 'price': 17.46, 'rating': 5},\n",
       " {'title': \"Scott Pilgrim's Precious Little Life (Scott Pilgrim #1)\",\n",
       "  'price': 52.29,\n",
       "  'rating': 5},\n",
       " {'title': 'Rip it Up and Start Again', 'price': 35.02, 'rating': 5},\n",
       " {'title': 'Our Band Could Be Your Life: Scenes from the American Indie Underground, 1981-1991',\n",
       "  'price': 57.25,\n",
       "  'rating': 3},\n",
       " {'title': 'Olio', 'price': 23.88, 'rating': 1},\n",
       " {'title': 'Mesaerion: The Best Science Fiction Stories 1800-1849',\n",
       "  'price': 37.59,\n",
       "  'rating': 1},\n",
       " {'title': 'Libertarianism for Beginners', 'price': 51.33, 'rating': 2},\n",
       " {'title': \"It's Only the Himalayas\", 'price': 45.17, 'rating': 2}]"
      ]
     },
     "execution_count": 37,
     "metadata": {},
     "output_type": "execute_result"
    }
   ],
   "source": [
    "book_data"
   ]
  },
  {
   "cell_type": "code",
   "execution_count": 38,
   "metadata": {},
   "outputs": [],
   "source": [
    "import pandas as pd"
   ]
  },
  {
   "cell_type": "code",
   "execution_count": 39,
   "metadata": {},
   "outputs": [],
   "source": [
    "df = pd.DataFrame(book_data)"
   ]
  },
  {
   "cell_type": "code",
   "execution_count": 40,
   "metadata": {},
   "outputs": [
    {
     "data": {
      "text/html": [
       "<div>\n",
       "<style scoped>\n",
       "    .dataframe tbody tr th:only-of-type {\n",
       "        vertical-align: middle;\n",
       "    }\n",
       "\n",
       "    .dataframe tbody tr th {\n",
       "        vertical-align: top;\n",
       "    }\n",
       "\n",
       "    .dataframe thead th {\n",
       "        text-align: right;\n",
       "    }\n",
       "</style>\n",
       "<table border=\"1\" class=\"dataframe\">\n",
       "  <thead>\n",
       "    <tr style=\"text-align: right;\">\n",
       "      <th></th>\n",
       "      <th>title</th>\n",
       "      <th>price</th>\n",
       "      <th>rating</th>\n",
       "    </tr>\n",
       "  </thead>\n",
       "  <tbody>\n",
       "    <tr>\n",
       "      <th>0</th>\n",
       "      <td>A Light in the Attic</td>\n",
       "      <td>51.77</td>\n",
       "      <td>3</td>\n",
       "    </tr>\n",
       "    <tr>\n",
       "      <th>1</th>\n",
       "      <td>Tipping the Velvet</td>\n",
       "      <td>53.74</td>\n",
       "      <td>1</td>\n",
       "    </tr>\n",
       "    <tr>\n",
       "      <th>2</th>\n",
       "      <td>Soumission</td>\n",
       "      <td>50.10</td>\n",
       "      <td>1</td>\n",
       "    </tr>\n",
       "    <tr>\n",
       "      <th>3</th>\n",
       "      <td>Sharp Objects</td>\n",
       "      <td>47.82</td>\n",
       "      <td>4</td>\n",
       "    </tr>\n",
       "    <tr>\n",
       "      <th>4</th>\n",
       "      <td>Sapiens: A Brief History of Humankind</td>\n",
       "      <td>54.23</td>\n",
       "      <td>5</td>\n",
       "    </tr>\n",
       "    <tr>\n",
       "      <th>5</th>\n",
       "      <td>The Requiem Red</td>\n",
       "      <td>22.65</td>\n",
       "      <td>1</td>\n",
       "    </tr>\n",
       "    <tr>\n",
       "      <th>6</th>\n",
       "      <td>The Dirty Little Secrets of Getting Your Dream...</td>\n",
       "      <td>33.34</td>\n",
       "      <td>4</td>\n",
       "    </tr>\n",
       "    <tr>\n",
       "      <th>7</th>\n",
       "      <td>The Coming Woman: A Novel Based on the Life of...</td>\n",
       "      <td>17.93</td>\n",
       "      <td>3</td>\n",
       "    </tr>\n",
       "    <tr>\n",
       "      <th>8</th>\n",
       "      <td>The Boys in the Boat: Nine Americans and Their...</td>\n",
       "      <td>22.60</td>\n",
       "      <td>4</td>\n",
       "    </tr>\n",
       "    <tr>\n",
       "      <th>9</th>\n",
       "      <td>The Black Maria</td>\n",
       "      <td>52.15</td>\n",
       "      <td>1</td>\n",
       "    </tr>\n",
       "    <tr>\n",
       "      <th>10</th>\n",
       "      <td>Starving Hearts (Triangular Trade Trilogy, #1)</td>\n",
       "      <td>13.99</td>\n",
       "      <td>2</td>\n",
       "    </tr>\n",
       "    <tr>\n",
       "      <th>11</th>\n",
       "      <td>Shakespeare's Sonnets</td>\n",
       "      <td>20.66</td>\n",
       "      <td>4</td>\n",
       "    </tr>\n",
       "    <tr>\n",
       "      <th>12</th>\n",
       "      <td>Set Me Free</td>\n",
       "      <td>17.46</td>\n",
       "      <td>5</td>\n",
       "    </tr>\n",
       "    <tr>\n",
       "      <th>13</th>\n",
       "      <td>Scott Pilgrim's Precious Little Life (Scott Pi...</td>\n",
       "      <td>52.29</td>\n",
       "      <td>5</td>\n",
       "    </tr>\n",
       "    <tr>\n",
       "      <th>14</th>\n",
       "      <td>Rip it Up and Start Again</td>\n",
       "      <td>35.02</td>\n",
       "      <td>5</td>\n",
       "    </tr>\n",
       "    <tr>\n",
       "      <th>15</th>\n",
       "      <td>Our Band Could Be Your Life: Scenes from the A...</td>\n",
       "      <td>57.25</td>\n",
       "      <td>3</td>\n",
       "    </tr>\n",
       "    <tr>\n",
       "      <th>16</th>\n",
       "      <td>Olio</td>\n",
       "      <td>23.88</td>\n",
       "      <td>1</td>\n",
       "    </tr>\n",
       "    <tr>\n",
       "      <th>17</th>\n",
       "      <td>Mesaerion: The Best Science Fiction Stories 18...</td>\n",
       "      <td>37.59</td>\n",
       "      <td>1</td>\n",
       "    </tr>\n",
       "    <tr>\n",
       "      <th>18</th>\n",
       "      <td>Libertarianism for Beginners</td>\n",
       "      <td>51.33</td>\n",
       "      <td>2</td>\n",
       "    </tr>\n",
       "    <tr>\n",
       "      <th>19</th>\n",
       "      <td>It's Only the Himalayas</td>\n",
       "      <td>45.17</td>\n",
       "      <td>2</td>\n",
       "    </tr>\n",
       "  </tbody>\n",
       "</table>\n",
       "</div>"
      ],
      "text/plain": [
       "                                                title  price  rating\n",
       "0                                A Light in the Attic  51.77       3\n",
       "1                                  Tipping the Velvet  53.74       1\n",
       "2                                          Soumission  50.10       1\n",
       "3                                       Sharp Objects  47.82       4\n",
       "4               Sapiens: A Brief History of Humankind  54.23       5\n",
       "5                                     The Requiem Red  22.65       1\n",
       "6   The Dirty Little Secrets of Getting Your Dream...  33.34       4\n",
       "7   The Coming Woman: A Novel Based on the Life of...  17.93       3\n",
       "8   The Boys in the Boat: Nine Americans and Their...  22.60       4\n",
       "9                                     The Black Maria  52.15       1\n",
       "10     Starving Hearts (Triangular Trade Trilogy, #1)  13.99       2\n",
       "11                              Shakespeare's Sonnets  20.66       4\n",
       "12                                        Set Me Free  17.46       5\n",
       "13  Scott Pilgrim's Precious Little Life (Scott Pi...  52.29       5\n",
       "14                          Rip it Up and Start Again  35.02       5\n",
       "15  Our Band Could Be Your Life: Scenes from the A...  57.25       3\n",
       "16                                               Olio  23.88       1\n",
       "17  Mesaerion: The Best Science Fiction Stories 18...  37.59       1\n",
       "18                       Libertarianism for Beginners  51.33       2\n",
       "19                            It's Only the Himalayas  45.17       2"
      ]
     },
     "execution_count": 40,
     "metadata": {},
     "output_type": "execute_result"
    }
   ],
   "source": [
    "df"
   ]
  },
  {
   "cell_type": "code",
   "execution_count": 41,
   "metadata": {},
   "outputs": [
    {
     "data": {
      "text/plain": [
       "38.048500000000004"
      ]
     },
     "execution_count": 41,
     "metadata": {},
     "output_type": "execute_result"
    }
   ],
   "source": [
    "df.price.mean()"
   ]
  },
  {
   "cell_type": "code",
   "execution_count": 42,
   "metadata": {},
   "outputs": [
    {
     "data": {
      "text/plain": [
       "7     The Coming Woman: A Novel Based on the Life of...\n",
       "10       Starving Hearts (Triangular Trade Trilogy, #1)\n",
       "12                                          Set Me Free\n",
       "Name: title, dtype: object"
      ]
     },
     "execution_count": 42,
     "metadata": {},
     "output_type": "execute_result"
    }
   ],
   "source": [
    "df[df.price < 20].title"
   ]
  },
  {
   "cell_type": "code",
   "execution_count": null,
   "metadata": {},
   "outputs": [],
   "source": [
    "df.to_csv(\"book.csv\", index=False)"
   ]
  },
  {
   "cell_type": "code",
   "execution_count": 43,
   "metadata": {},
   "outputs": [],
   "source": [
    "df.to_json(\"books.json\", orient=\"records\")"
   ]
  },
  {
   "attachments": {},
   "cell_type": "markdown",
   "metadata": {
    "datalore": {
     "hide_input_from_viewers": false,
     "hide_output_from_viewers": false,
     "node_id": "hS5k2eBrqC4GuGsZNjmpg3",
     "type": "MD"
    }
   },
   "source": [
    "# Solution"
   ]
  },
  {
   "cell_type": "code",
   "execution_count": 1,
   "metadata": {
    "datalore": {
     "hide_input_from_viewers": false,
     "hide_output_from_viewers": false,
     "node_id": "OJ9tMmvOb3GhKDnr2i700L",
     "type": "CODE"
    }
   },
   "outputs": [],
   "source": [
    "import requests as r\n",
    "from bs4 import BeautifulSoup"
   ]
  },
  {
   "cell_type": "code",
   "execution_count": 2,
   "metadata": {
    "datalore": {
     "hide_input_from_viewers": false,
     "hide_output_from_viewers": false,
     "node_id": "zSannR1rteISnw4BjRgOzu",
     "type": "CODE"
    }
   },
   "outputs": [],
   "source": [
    "resp = r.get(\"https://books.toscrape.com/\")\n",
    "soup = BeautifulSoup(resp.content)"
   ]
  },
  {
   "cell_type": "code",
   "execution_count": 4,
   "metadata": {
    "datalore": {
     "hide_input_from_viewers": false,
     "hide_output_from_viewers": false,
     "node_id": "jPK9lXrdEVi5xpVXGeWYih",
     "type": "CODE"
    }
   },
   "outputs": [
    {
     "data": {
      "text/plain": [
       "541"
      ]
     },
     "metadata": {},
     "output_type": "display_data"
    }
   ],
   "source": [
    "len(soup.find_all())"
   ]
  },
  {
   "cell_type": "code",
   "execution_count": 5,
   "metadata": {
    "datalore": {
     "hide_input_from_viewers": false,
     "hide_output_from_viewers": false,
     "node_id": "yIralUpnHgC3kiCgVpWGwe",
     "type": "CODE"
    }
   },
   "outputs": [],
   "source": [
    "book_tags = soup.find_all(\"article\", attrs={\"class\": \"product_pod\"})"
   ]
  },
  {
   "cell_type": "code",
   "execution_count": 6,
   "metadata": {
    "datalore": {
     "hide_input_from_viewers": false,
     "hide_output_from_viewers": false,
     "node_id": "daXsJmPsQBl1OorYOcgbkj",
     "type": "CODE"
    }
   },
   "outputs": [
    {
     "data": {
      "text/plain": [
       "20"
      ]
     },
     "metadata": {},
     "output_type": "display_data"
    }
   ],
   "source": [
    "len(book_tags)"
   ]
  },
  {
   "cell_type": "code",
   "execution_count": 17,
   "metadata": {
    "datalore": {
     "hide_input_from_viewers": false,
     "hide_output_from_viewers": false,
     "node_id": "9xAHJqM8wkofO6xbCqTba1",
     "type": "CODE"
    }
   },
   "outputs": [],
   "source": [
    "def extract_book_data(book_tag):\n",
    "    title = book_tag.find(\"h3\").find(\"a\")[\"title\"]\n",
    "    price = book_tag.find(\"p\", attrs={\"class\": \"price_color\"}).get_text()\n",
    "    rating = book_tag.find(\"p\", attrs={\"class\": \"star-rating\"})[\"class\"][-1]\n",
    "\n",
    "    return title, price, rating"
   ]
  },
  {
   "cell_type": "code",
   "execution_count": 21,
   "metadata": {
    "datalore": {
     "hide_input_from_viewers": false,
     "hide_output_from_viewers": false,
     "node_id": "Ntb9FzityyikpSVAMcujwE",
     "type": "CODE"
    }
   },
   "outputs": [
    {
     "data": {
      "text/plain": [
       "('The Requiem Red', '£22.65', 'One')"
      ]
     },
     "metadata": {},
     "output_type": "display_data"
    }
   ],
   "source": [
    "extract_book_data(book_tags[5])"
   ]
  },
  {
   "cell_type": "code",
   "execution_count": 8,
   "metadata": {
    "datalore": {
     "hide_input_from_viewers": false,
     "hide_output_from_viewers": false,
     "node_id": "lG0aTBgotG0miMubnygCmC",
     "type": "CODE"
    }
   },
   "outputs": [
    {
     "name": "stdout",
     "output_type": "stream",
     "text": [
      "<article class=\"product_pod\">\n",
      " <div class=\"image_container\">\n",
      "  <a href=\"catalogue/a-light-in-the-attic_1000/index.html\">\n",
      "   <img alt=\"A Light in the Attic\" class=\"thumbnail\" src=\"media/cache/2c/da/2cdad67c44b002e7ead0cc35693c0e8b.jpg\"/>\n",
      "  </a>\n",
      " </div>\n",
      " <p class=\"star-rating Three\">\n",
      "  <i class=\"icon-star\">\n",
      "  </i>\n",
      "  <i class=\"icon-star\">\n",
      "  </i>\n",
      "  <i class=\"icon-star\">\n",
      "  </i>\n",
      "  <i class=\"icon-star\">\n",
      "  </i>\n",
      "  <i class=\"icon-star\">\n",
      "  </i>\n",
      " </p>\n",
      " <h3>\n",
      "  <a href=\"catalogue/a-light-in-the-attic_1000/index.html\" title=\"A Light in the Attic\">\n",
      "   A Light in the ...\n",
      "  </a>\n",
      " </h3>\n",
      " <div class=\"product_price\">\n",
      "  <p class=\"price_color\">\n",
      "   £51.77\n",
      "  </p>\n",
      "  <p class=\"instock availability\">\n",
      "   <i class=\"icon-ok\">\n",
      "   </i>\n",
      "   In stock\n",
      "  </p>\n",
      "  <form>\n",
      "   <button class=\"btn btn-primary btn-block\" data-loading-text=\"Adding...\" type=\"submit\">\n",
      "    Add to basket\n",
      "   </button>\n",
      "  </form>\n",
      " </div>\n",
      "</article>\n",
      "\n"
     ]
    }
   ],
   "source": [
    "print(book_tags[0].prettify())"
   ]
  },
  {
   "attachments": {},
   "cell_type": "markdown",
   "metadata": {
    "datalore": {
     "hide_input_from_viewers": false,
     "hide_output_from_viewers": false,
     "node_id": "iVSkG8Z9SEBp8vBVAYvEu4",
     "type": "MD"
    }
   },
   "source": [
    "# Solution Refinement"
   ]
  },
  {
   "cell_type": "code",
   "execution_count": 24,
   "metadata": {
    "datalore": {
     "hide_input_from_viewers": false,
     "hide_output_from_viewers": false,
     "node_id": "HqmGqPaUe1yX3ZYbHdxti8",
     "type": "CODE"
    }
   },
   "outputs": [
    {
     "data": {
      "text/plain": [
       "20"
      ]
     },
     "metadata": {},
     "output_type": "display_data"
    }
   ],
   "source": [
    "len(book_tags)"
   ]
  },
  {
   "cell_type": "code",
   "execution_count": 25,
   "metadata": {
    "datalore": {
     "hide_input_from_viewers": false,
     "hide_output_from_viewers": false,
     "node_id": "ghYNNmbHvt76483l2b0ZQ1",
     "type": "CODE"
    }
   },
   "outputs": [],
   "source": [
    "def extract_book_data(book_tag):\n",
    "    title = book_tag.find(\"h3\").find(\"a\")[\"title\"]\n",
    "    price = book_tag.find(\"p\", attrs={\"class\": \"price_color\"}).get_text()\n",
    "    rating = book_tag.find(\"p\", attrs={\"class\": \"star-rating\"})[\"class\"][-1]\n",
    "\n",
    "    return title, price, rating"
   ]
  },
  {
   "cell_type": "code",
   "execution_count": 39,
   "metadata": {
    "datalore": {
     "hide_input_from_viewers": false,
     "hide_output_from_viewers": false,
     "node_id": "RykLVR0JXig6J15K582tuW",
     "type": "CODE"
    }
   },
   "outputs": [
    {
     "data": {
      "text/plain": [
       "('The Dirty Little Secrets of Getting Your Dream Job', '£33.34', 'Four')"
      ]
     },
     "metadata": {},
     "output_type": "display_data"
    }
   ],
   "source": [
    "b = extract_book_data(book_tags[6])\n",
    "b"
   ]
  },
  {
   "cell_type": "code",
   "execution_count": 36,
   "metadata": {
    "datalore": {
     "hide_input_from_viewers": false,
     "hide_output_from_viewers": false,
     "node_id": "V0RCIVxAtJL6UlreTNMIXa",
     "type": "CODE"
    }
   },
   "outputs": [],
   "source": [
    "def clean_price(price):\n",
    "    return float(\"\".join([char for char in price if char.isdigit() or char == \".\"]))"
   ]
  },
  {
   "cell_type": "code",
   "execution_count": 37,
   "metadata": {
    "datalore": {
     "hide_input_from_viewers": false,
     "hide_output_from_viewers": false,
     "node_id": "j1kvO6MacDRuJ67Jp4lHwZ",
     "type": "CODE"
    }
   },
   "outputs": [
    {
     "data": {
      "text/plain": [
       "float"
      ]
     },
     "metadata": {},
     "output_type": "display_data"
    }
   ],
   "source": [
    "type(clean_price(b[1]))"
   ]
  },
  {
   "cell_type": "code",
   "execution_count": 38,
   "metadata": {
    "datalore": {
     "hide_input_from_viewers": false,
     "hide_output_from_viewers": false,
     "node_id": "VH8AmNRMYPaCHaIHWJN7nf",
     "type": "CODE"
    }
   },
   "outputs": [
    {
     "data": {
      "text/plain": [
       "33.34"
      ]
     },
     "metadata": {},
     "output_type": "display_data"
    }
   ],
   "source": [
    "clean_price(b[1])"
   ]
  },
  {
   "cell_type": "code",
   "execution_count": 40,
   "metadata": {
    "datalore": {
     "hide_input_from_viewers": false,
     "hide_output_from_viewers": false,
     "node_id": "R4giD4a6hGESvNVcdz2LRH",
     "type": "CODE"
    }
   },
   "outputs": [],
   "source": [
    "import re\n",
    "\n",
    "\n",
    "def clean_price(price):\n",
    "    return float(re.sub(\"[^0-9.]\", \"\", price))"
   ]
  },
  {
   "cell_type": "code",
   "execution_count": 41,
   "metadata": {
    "datalore": {
     "hide_input_from_viewers": false,
     "hide_output_from_viewers": false,
     "node_id": "DngKF1ynV7iB3TW9CXAOY6",
     "type": "CODE"
    }
   },
   "outputs": [
    {
     "data": {
      "text/plain": [
       "33.34"
      ]
     },
     "metadata": {},
     "output_type": "display_data"
    }
   ],
   "source": [
    "clean_price(b[1])"
   ]
  },
  {
   "cell_type": "code",
   "execution_count": 51,
   "metadata": {
    "datalore": {
     "hide_input_from_viewers": false,
     "hide_output_from_viewers": false,
     "node_id": "msdTFnWNPVIP9nDXQLS4nu",
     "type": "CODE"
    }
   },
   "outputs": [],
   "source": [
    "def map_rating(rating):\n",
    "    rating_map = {\n",
    "        \"One\": 1,\n",
    "        \"Two\": 2,\n",
    "        \"Three\": 3,\n",
    "        \"Four\": 4,\n",
    "        \"Five\": 5,\n",
    "    }\n",
    "\n",
    "    return rating_map[rating]"
   ]
  },
  {
   "cell_type": "code",
   "execution_count": 63,
   "metadata": {
    "datalore": {
     "hide_input_from_viewers": false,
     "hide_output_from_viewers": false,
     "node_id": "Rt1Sujawt9JVlsNri95Yad",
     "type": "CODE"
    }
   },
   "outputs": [],
   "source": [
    "def extract_book_data(book_tag):\n",
    "    title = book_tag.find(\"h3\").find(\"a\")[\"title\"]\n",
    "    price = book_tag.find(\"p\", attrs={\"class\": \"price_color\"}).get_text()\n",
    "    rating = book_tag.find(\"p\", attrs={\"class\": \"star-rating\"})[\"class\"][-1]\n",
    "\n",
    "    return {\n",
    "        \"title\": title,\n",
    "        \"price\": clean_price(price),\n",
    "        \"rating\": map_rating(rating)\n",
    "    }"
   ]
  },
  {
   "cell_type": "code",
   "execution_count": 64,
   "metadata": {
    "datalore": {
     "hide_input_from_viewers": false,
     "hide_output_from_viewers": false,
     "node_id": "yxzvYvul44dVqKX9AgWClN",
     "type": "CODE"
    }
   },
   "outputs": [],
   "source": [
    "book_tags = soup.find_all(\"article\", attrs={\"class\": \"product_pod\"})\n",
    "\n",
    "book_data = [extract_book_data(book_tag) for book_tag in book_tags]"
   ]
  },
  {
   "cell_type": "code",
   "execution_count": 66,
   "metadata": {
    "datalore": {
     "hide_input_from_viewers": false,
     "hide_output_from_viewers": false,
     "node_id": "qDeNaEWn0jof773yEMEd07",
     "type": "CODE"
    }
   },
   "outputs": [
    {
     "data": {
      "text/plain": [
       "20"
      ]
     },
     "metadata": {},
     "output_type": "display_data"
    }
   ],
   "source": [
    "len(book_data)"
   ]
  },
  {
   "cell_type": "code",
   "execution_count": 53,
   "metadata": {
    "datalore": {
     "hide_input_from_viewers": false,
     "hide_output_from_viewers": false,
     "node_id": "KDR5qzz364fFOCQ2dBXwBs",
     "type": "CODE"
    }
   },
   "outputs": [],
   "source": [
    "from random import choice"
   ]
  },
  {
   "cell_type": "code",
   "execution_count": 62,
   "metadata": {
    "datalore": {
     "hide_input_from_viewers": false,
     "hide_output_from_viewers": false,
     "node_id": "PggOnnMnKIrWmsv27FuubF",
     "type": "CODE"
    }
   },
   "outputs": [
    {
     "data": {
      "text/plain": [
       "{'title': 'Set Me Free', 'price': 17.46, 'rating': 5}"
      ]
     },
     "metadata": {},
     "output_type": "display_data"
    }
   ],
   "source": [
    "extract_book_data(choice(book_tags))"
   ]
  },
  {
   "attachments": {},
   "cell_type": "markdown",
   "metadata": {
    "datalore": {
     "hide_input_from_viewers": false,
     "hide_output_from_viewers": false,
     "node_id": "KCVLGoJU79RIoNoz9xK2D2",
     "type": "MD"
    }
   },
   "source": [
    "# An Extra: pandas"
   ]
  },
  {
   "cell_type": "code",
   "execution_count": 67,
   "metadata": {
    "datalore": {
     "hide_input_from_viewers": false,
     "hide_output_from_viewers": false,
     "node_id": "vGKoOlzQzu1DLwqEtiHkP3",
     "type": "CODE"
    }
   },
   "outputs": [
    {
     "data": {
      "text/plain": [
       "[{'title': 'A Light in the Attic', 'price': 51.77, 'rating': 3},\n",
       " {'title': 'Tipping the Velvet', 'price': 53.74, 'rating': 1},\n",
       " {'title': 'Soumission', 'price': 50.1, 'rating': 1},\n",
       " {'title': 'Sharp Objects', 'price': 47.82, 'rating': 4},\n",
       " {'title': 'Sapiens: A Brief History of Humankind',\n",
       "  'price': 54.23,\n",
       "  'rating': 5},\n",
       " {'title': 'The Requiem Red', 'price': 22.65, 'rating': 1},\n",
       " {'title': 'The Dirty Little Secrets of Getting Your Dream Job',\n",
       "  'price': 33.34,\n",
       "  'rating': 4},\n",
       " {'title': 'The Coming Woman: A Novel Based on the Life of the Infamous Feminist, Victoria Woodhull',\n",
       "  'price': 17.93,\n",
       "  'rating': 3},\n",
       " {'title': 'The Boys in the Boat: Nine Americans and Their Epic Quest for Gold at the 1936 Berlin Olympics',\n",
       "  'price': 22.6,\n",
       "  'rating': 4},\n",
       " {'title': 'The Black Maria', 'price': 52.15, 'rating': 1},\n",
       " {'title': 'Starving Hearts (Triangular Trade Trilogy, #1)',\n",
       "  'price': 13.99,\n",
       "  'rating': 2},\n",
       " {'title': \"Shakespeare's Sonnets\", 'price': 20.66, 'rating': 4},\n",
       " {'title': 'Set Me Free', 'price': 17.46, 'rating': 5},\n",
       " {'title': \"Scott Pilgrim's Precious Little Life (Scott Pilgrim #1)\",\n",
       "  'price': 52.29,\n",
       "  'rating': 5},\n",
       " {'title': 'Rip it Up and Start Again', 'price': 35.02, 'rating': 5},\n",
       " {'title': 'Our Band Could Be Your Life: Scenes from the American Indie Underground, 1981-1991',\n",
       "  'price': 57.25,\n",
       "  'rating': 3},\n",
       " {'title': 'Olio', 'price': 23.88, 'rating': 1},\n",
       " {'title': 'Mesaerion: The Best Science Fiction Stories 1800-1849',\n",
       "  'price': 37.59,\n",
       "  'rating': 1},\n",
       " {'title': 'Libertarianism for Beginners', 'price': 51.33, 'rating': 2},\n",
       " {'title': \"It's Only the Himalayas\", 'price': 45.17, 'rating': 2}]"
      ]
     },
     "metadata": {},
     "output_type": "display_data"
    }
   ],
   "source": [
    "book_data"
   ]
  },
  {
   "cell_type": "code",
   "execution_count": 70,
   "metadata": {
    "datalore": {
     "hide_input_from_viewers": false,
     "hide_output_from_viewers": false,
     "node_id": "vJpjNCJrK1bbcCw6JCEkAd",
     "type": "CODE"
    }
   },
   "outputs": [
    {
     "data": {
      "text/plain": [
       "38.048500000000004"
      ]
     },
     "metadata": {},
     "output_type": "display_data"
    }
   ],
   "source": [
    "# find average price of all books\n",
    "sum([book[\"price\"] for book in book_data]) / len(book_data)"
   ]
  },
  {
   "cell_type": "code",
   "execution_count": 73,
   "metadata": {
    "datalore": {
     "hide_input_from_viewers": false,
     "hide_output_from_viewers": false,
     "node_id": "NYpuDaxPU4Gxfq6ztTxo6Z",
     "type": "CODE"
    }
   },
   "outputs": [
    {
     "data": {
      "text/plain": [
       "['The Coming Woman: A Novel Based on the Life of the Infamous Feminist, Victoria Woodhull',\n",
       " 'Starving Hearts (Triangular Trade Trilogy, #1)',\n",
       " 'Set Me Free']"
      ]
     },
     "metadata": {},
     "output_type": "display_data"
    }
   ],
   "source": [
    "# find titles with a price less than 20\n",
    "[book['title'] for book in book_data if book[\"price\"] < 20]"
   ]
  },
  {
   "cell_type": "code",
   "execution_count": 74,
   "metadata": {
    "datalore": {
     "hide_input_from_viewers": false,
     "hide_output_from_viewers": false,
     "node_id": "WWd8t67qtuGBK36SDwEVRW",
     "type": "CODE"
    }
   },
   "outputs": [
    {
     "name": "stdout",
     "output_type": "stream",
     "text": [
      "Collecting pandas==1.5.3\r\n",
      "  Downloading pandas-1.5.3-cp38-cp38-manylinux_2_17_x86_64.manylinux2014_x86_64.whl (12.2 MB)\r\n",
      "\u001b[?25l\r\r     |                                | 10 kB 27.7 MB/s eta 0:00:01\r     |                                | 20 kB 33.1 MB/s eta 0:00:01\r     |                                | 30 kB 40.7 MB/s eta 0:00:01\r     |                                | 40 kB 29.0 MB/s eta 0:00:01\r     |▏                               | 51 kB 31.0 MB/s eta 0:00:01\r     |▏                               | 61 kB 34.5 MB/s eta 0:00:01\r     |▏                               | 71 kB 37.2 MB/s eta 0:00:01\r     |▏                               | 81 kB 40.1 MB/s eta 0:00:01\r     |▎                               | 92 kB 35.5 MB/s eta 0:00:01\r     |▎                               | 102 kB 36.5 MB/s eta 0:00:01\r     |▎                               | 112 kB 36.5 MB/s eta 0:00:01\r     |▎                               | 122 kB 36.5 MB/s eta 0:00:01\r     |▍                               | 133 kB 36.5 MB/s eta 0:00:01\r     |▍                               | 143 kB 36.5 MB/s eta 0:00:01\r     |▍                               | 153 kB 36.5 MB/s eta 0:00:01\r     |▍                               | 163 kB 36.5 MB/s eta 0:00:01\r     |▌                               | 174 kB 36.5 MB/s eta 0:00:01\r     |▌                               | 184 kB 36.5 MB/s eta 0:00:01\r     |▌                               | 194 kB 36.5 MB/s eta 0:00:01\r     |▌                               | 204 kB 36.5 MB/s eta 0:00:01\r     |▋                               | 215 kB 36.5 MB/s eta 0:00:01\r     |▋                               | 225 kB 36.5 MB/s eta 0:00:01\r     |▋                               | 235 kB 36.5 MB/s eta 0:00:01\r     |▋                               | 245 kB 36.5 MB/s eta 0:00:01\r     |▊                               | 256 kB 36.5 MB/s eta 0:00:01\r     |▊                               | 266 kB 36.5 MB/s eta 0:00:01\r     |▊                               | 276 kB 36.5 MB/s eta 0:00:01\r     |▊                               | 286 kB 36.5 MB/s eta 0:00:01\r     |▉                               | 296 kB 36.5 MB/s eta 0:00:01\r     |▉                               | 307 kB 36.5 MB/s eta 0:00:01\r     |▉                               | 317 kB 36.5 MB/s eta 0:00:01\r     |▉                               | 327 kB 36.5 MB/s eta 0:00:01\r     |▉                               | 337 kB 36.5 MB/s eta 0:00:01\r     |█                               | 348 kB 36.5 MB/s eta 0:00:01\r     |█                               | 358 kB 36.5 MB/s eta 0:00:01\r     |█                               | 368 kB 36.5 MB/s eta 0:00:01\r     |█                               | 378 kB 36.5 MB/s eta 0:00:01\r     |█                               | 389 kB 36.5 MB/s eta 0:00:01\r     |█                               | 399 kB 36.5 MB/s eta 0:00:01\r     |█                               | 409 kB 36.5 MB/s eta 0:00:01\r     |█                               | 419 kB 36.5 MB/s eta 0:00:01\r     |█▏                              | 430 kB 36.5 MB/s eta 0:00:01\r     |█▏                              | 440 kB 36.5 MB/s eta 0:00:01\r     |█▏                              | 450 kB 36.5 MB/s eta 0:00:01\r     |█▏                              | 460 kB 36.5 MB/s eta 0:00:01\r     |█▎                              | 471 kB 36.5 MB/s eta 0:00:01\r     |█▎                              | 481 kB 36.5 MB/s eta 0:00:01\r     |█▎                              | 491 kB 36.5 MB/s eta 0:00:01\r     |█▎                              | 501 kB 36.5 MB/s eta 0:00:01\r     |█▍                              | 512 kB 36.5 MB/s eta 0:00:01\r     |█▍                              | 522 kB 36.5 MB/s eta 0:00:01\r     |█▍                              | 532 kB 36.5 MB/s eta 0:00:01\r     |█▍                              | 542 kB 36.5 MB/s eta 0:00:01\r     |█▌                              | 552 kB 36.5 MB/s eta 0:00:01\r     |█▌                              | 563 kB 36.5 MB/s eta 0:00:01\r     |█▌                              | 573 kB 36.5 MB/s eta 0:00:01\r     |█▌                              | 583 kB 36.5 MB/s eta 0:00:01\r     |█▋                              | 593 kB 36.5 MB/s eta 0:00:01\r     |█▋                              | 604 kB 36.5 MB/s eta 0:00:01\r     |█▋                              | 614 kB 36.5 MB/s eta 0:00:01\r     |█▋                              | 624 kB 36.5 MB/s eta 0:00:01\r     |█▊                              | 634 kB 36.5 MB/s eta 0:00:01\r     |█▊                              | 645 kB 36.5 MB/s eta 0:00:01\r     |█▊                              | 655 kB 36.5 MB/s eta 0:00:01\r     |█▊                              | 665 kB 36.5 MB/s eta 0:00:01\r     |█▊                              | 675 kB 36.5 MB/s eta 0:00:01\r     |█▉                              | 686 kB 36.5 MB/s eta 0:00:01\r     |█▉                              | 696 kB 36.5 MB/s eta 0:00:01\r     |█▉                              | 706 kB 36.5 MB/s eta 0:00:01\r     |█▉                              | 716 kB 36.5 MB/s eta 0:00:01\r     |██                              | 727 kB 36.5 MB/s eta 0:00:01\r     |██                              | 737 kB 36.5 MB/s eta 0:00:01\r     |██                              | 747 kB 36.5 MB/s eta 0:00:01\r     |██                              | 757 kB 36.5 MB/s eta 0:00:01\r     |██                              | 768 kB 36.5 MB/s eta 0:00:01\r     |██                              | 778 kB 36.5 MB/s eta 0:00:01\r     |██                              | 788 kB 36.5 MB/s eta 0:00:01\r     |██                              | 798 kB 36.5 MB/s eta 0:00:01\r     |██▏                             | 808 kB 36.5 MB/s eta 0:00:01\r     |██▏                             | 819 kB 36.5 MB/s eta 0:00:01\r     |██▏                             | 829 kB 36.5 MB/s eta 0:00:01\r     |██▏                             | 839 kB 36.5 MB/s eta 0:00:01\r     |██▎                             | 849 kB 36.5 MB/s eta 0:00:01\r     |██▎                             | 860 kB 36.5 MB/s eta 0:00:01\r     |██▎                             | 870 kB 36.5 MB/s eta 0:00:01\r     |██▎                             | 880 kB 36.5 MB/s eta 0:00:01\r     |██▍                             | 890 kB 36.5 MB/s eta 0:00:01\r     |██▍                             | 901 kB 36.5 MB/s eta 0:00:01\r     |██▍                             | 911 kB 36.5 MB/s eta 0:00:01\r     |██▍                             | 921 kB 36.5 MB/s eta 0:00:01\r     |██▌                             | 931 kB 36.5 MB/s eta 0:00:01\r     |██▌                             | 942 kB 36.5 MB/s eta 0:00:01\r     |██▌                             | 952 kB 36.5 MB/s eta 0:00:01\r     |██▌                             | 962 kB 36.5 MB/s eta 0:00:01\r     |██▌                             | 972 kB 36.5 MB/s eta 0:00:01\r     |██▋                             | 983 kB 36.5 MB/s eta 0:00:01\r     |██▋                             | 993 kB 36.5 MB/s eta 0:00:01\r     |██▋                             | 1.0 MB 36.5 MB/s eta 0:00:01\r     |██▋                             | 1.0 MB 36.5 MB/s eta 0:00:01\r     |██▊                             | 1.0 MB 36.5 MB/s eta 0:00:01\r     |██▊                             | 1.0 MB 36.5 MB/s eta 0:00:01\r     |██▊                             | 1.0 MB 36.5 MB/s eta 0:00:01\r     |██▊                             | 1.1 MB 36.5 MB/s eta 0:00:01\r     |██▉                             | 1.1 MB 36.5 MB/s eta 0:00:01\r     |██▉                             | 1.1 MB 36.5 MB/s eta 0:00:01\r     |██▉                             | 1.1 MB 36.5 MB/s eta 0:00:01\r     |██▉                             | 1.1 MB 36.5 MB/s eta 0:00:01\r     |███                             | 1.1 MB 36.5 MB/s eta 0:00:01\r     |███                             | 1.1 MB 36.5 MB/s eta 0:00:01\r     |███                             | 1.1 MB 36.5 MB/s eta 0:00:01\r     |███                             | 1.1 MB 36.5 MB/s eta 0:00:01\r     |███                             | 1.1 MB 36.5 MB/s eta 0:00:01\r     |███                             | 1.2 MB 36.5 MB/s eta 0:00:01\r     |███                             | 1.2 MB 36.5 MB/s eta 0:00:01\r     |███                             | 1.2 MB 36.5 MB/s eta 0:00:01\r     |███▏                            | 1.2 MB 36.5 MB/s eta 0:00:01\r     |███▏                            | 1.2 MB 36.5 MB/s eta 0:00:01\r     |███▏                            | 1.2 MB 36.5 MB/s eta 0:00:01\r     |███▏                            | 1.2 MB 36.5 MB/s eta 0:00:01\r     |███▎                            | 1.2 MB 36.5 MB/s eta 0:00:01\r     |███▎                            | 1.2 MB 36.5 MB/s eta 0:00:01\r     |███▎                            | 1.2 MB 36.5 MB/s eta 0:00:01\r     |███▎                            | 1.3 MB 36.5 MB/s eta 0:00:01\r     |███▍                            | 1.3 MB 36.5 MB/s eta 0:00:01\r     |███▍                            | 1.3 MB 36.5 MB/s eta 0:00:01\r     |███▍                            | 1.3 MB 36.5 MB/s eta 0:00:01\r     |███▍                            | 1.3 MB 36.5 MB/s eta 0:00:01\r     |███▍                            | 1.3 MB 36.5 MB/s eta 0:00:01\r     |███▌                            | 1.3 MB 36.5 MB/s eta 0:00:01\r     |███▌                            | 1.3 MB 36.5 MB/s eta 0:00:01\r     |███▌                            | 1.3 MB 36.5 MB/s eta 0:00:01\r     |███▌                            | 1.4 MB 36.5 MB/s eta 0:00:01\r     |███▋                            | 1.4 MB 36.5 MB/s eta 0:00:01\r     |███▋                            | 1.4 MB 36.5 MB/s eta 0:00:01\r     |███▋                            | 1.4 MB 36.5 MB/s eta 0:00:01\r     |███▋                            | 1.4 MB 36.5 MB/s eta 0:00:01\r     |███▊                            | 1.4 MB 36.5 MB/s eta 0:00:01\r     |███▊                            | 1.4 MB 36.5 MB/s eta 0:00:01\r     |███▊                            | 1.4 MB 36.5 MB/s eta 0:00:01\r     |███▊                            | 1.4 MB 36.5 MB/s eta 0:00:01\r     |███▉                            | 1.4 MB 36.5 MB/s eta 0:00:01\r     |███▉                            | 1.5 MB 36.5 MB/s eta 0:00:01\r     |███▉                            | 1.5 MB 36.5 MB/s eta 0:00:01\r     |███▉                            | 1.5 MB 36.5 MB/s eta 0:00:01\r     |████                            | 1.5 MB 36.5 MB/s eta 0:00:01\r     |████                            | 1.5 MB 36.5 MB/s eta 0:00:01\r     |████                            | 1.5 MB 36.5 MB/s eta 0:00:01\r     |████                            | 1.5 MB 36.5 MB/s eta 0:00:01\r     |████                            | 1.5 MB 36.5 MB/s eta 0:00:01\r     |████                            | 1.5 MB 36.5 MB/s eta 0:00:01\r     |████                            | 1.5 MB 36.5 MB/s eta 0:00:01\r     |████                            | 1.6 MB 36.5 MB/s eta 0:00:01\r     |████▏                           | 1.6 MB 36.5 MB/s eta 0:00:01\r     |████▏                           | 1.6 MB 36.5 MB/s eta 0:00:01\r     |████▏                           | 1.6 MB 36.5 MB/s eta 0:00:01\r     |████▏                           | 1.6 MB 36.5 MB/s eta 0:00:01\r     |████▏                           | 1.6 MB 36.5 MB/s eta 0:00:01\r     |████▎                           | 1.6 MB 36.5 MB/s eta 0:00:01\r     |████▎                           | 1.6 MB 36.5 MB/s eta 0:00:01\r     |████▎                           | 1.6 MB 36.5 MB/s eta 0:00:01\r     |████▎                           | 1.6 MB 36.5 MB/s eta 0:00:01\r     |████▍                           | 1.7 MB 36.5 MB/s eta 0:00:01\r     |████▍                           | 1.7 MB 36.5 MB/s eta 0:00:01\r     |████▍                           | 1.7 MB 36.5 MB/s eta 0:00:01\r     |████▍                           | 1.7 MB 36.5 MB/s eta 0:00:01\r     |████▌                           | 1.7 MB 36.5 MB/s eta 0:00:01\r     |████▌                           | 1.7 MB 36.5 MB/s eta 0:00:01\r     |████▌                           | 1.7 MB 36.5 MB/s eta 0:00:01\r     |████▌                           | 1.7 MB 36.5 MB/s eta 0:00:01\r     |████▋                           | 1.7 MB 36.5 MB/s eta 0:00:01\r     |████▋                           | 1.8 MB 36.5 MB/s eta 0:00:01\r     |████▋                           | 1.8 MB 36.5 MB/s eta 0:00:01\r     |████▋                           | 1.8 MB 36.5 MB/s eta 0:00:01\r     |████▊                           | 1.8 MB 36.5 MB/s eta 0:00:01\r     |████▊                           | 1.8 MB 36.5 MB/s eta 0:00:01\r     |████▊                           | 1.8 MB 36.5 MB/s eta 0:00:01\r     |████▊                           | 1.8 MB 36.5 MB/s eta 0:00:01\r     |████▉                           | 1.8 MB 36.5 MB/s eta 0:00:01\r     |████▉                           | 1.8 MB 36.5 MB/s eta 0:00:01\r     |████▉                           | 1.8 MB 36.5 MB/s eta 0:00:01\r     |████▉                           | 1.9 MB 36.5 MB/s eta 0:00:01\r     |█████                           | 1.9 MB 36.5 MB/s eta 0:00:01\r     |█████                           | 1.9 MB 36.5 MB/s eta 0:00:01\r     |█████                           | 1.9 MB 36.5 MB/s eta 0:00:01\r     |█████                           | 1.9 MB 36.5 MB/s eta 0:00:01\r     |█████                           | 1.9 MB 36.5 MB/s eta 0:00:01\r     |█████                           | 1.9 MB 36.5 MB/s eta 0:00:01\r     |█████                           | 1.9 MB 36.5 MB/s eta 0:00:01\r     |█████                           | 1.9 MB 36.5 MB/s eta 0:00:01\r     |█████                           | 1.9 MB 36.5 MB/s eta 0:00:01\r     |█████▏                          | 2.0 MB 36.5 MB/s eta 0:00:01\r     |█████▏                          | 2.0 MB 36.5 MB/s eta 0:00:01\r     |█████▏                          | 2.0 MB 36.5 MB/s eta 0:00:01\r     |█████▏                          | 2.0 MB 36.5 MB/s eta 0:00:01\r     |█████▎                          | 2.0 MB 36.5 MB/s eta 0:00:01\r     |█████▎                          | 2.0 MB 36.5 MB/s eta 0:00:01\r     |█████▎                          | 2.0 MB 36.5 MB/s eta 0:00:01\r     |█████▎                          | 2.0 MB 36.5 MB/s eta 0:00:01\r     |█████▍                          | 2.0 MB 36.5 MB/s eta 0:00:01\r     |█████▍                          | 2.0 MB 36.5 MB/s eta 0:00:01\r     |█████▍                          | 2.1 MB 36.5 MB/s eta 0:00:01\r     |█████▍                          | 2.1 MB 36.5 MB/s eta 0:00:01\r     |█████▌                          | 2.1 MB 36.5 MB/s eta 0:00:01\r     |█████▌                          | 2.1 MB 36.5 MB/s eta 0:00:01\r     |█████▌                          | 2.1 MB 36.5 MB/s eta 0:00:01\r     |█████▌                          | 2.1 MB 36.5 MB/s eta 0:00:01\r     |█████▋                          | 2.1 MB 36.5 MB/s eta 0:00:01\r     |█████▋                          | 2.1 MB 36.5 MB/s eta 0:00:01\r     |█████▋                          | 2.1 MB 36.5 MB/s eta 0:00:01\r     |█████▋                          | 2.2 MB 36.5 MB/s eta 0:00:01\r     |█████▊                          | 2.2 MB 36.5 MB/s eta 0:00:01\r     |█████▊                          | 2.2 MB 36.5 MB/s eta 0:00:01\r     |█████▊                          | 2.2 MB 36.5 MB/s eta 0:00:01\r     |█████▊                          | 2.2 MB 36.5 MB/s eta 0:00:01\r     |█████▉                          | 2.2 MB 36.5 MB/s eta 0:00:01\r     |█████▉                          | 2.2 MB 36.5 MB/s eta 0:00:01\r     |█████▉                          | 2.2 MB 36.5 MB/s eta 0:00:01\r     |█████▉                          | 2.2 MB 36.5 MB/s eta 0:00:01\r     |█████▉                          | 2.2 MB 36.5 MB/s eta 0:00:01\r     |██████                          | 2.3 MB 36.5 MB/s eta 0:00:01\r     |██████                          | 2.3 MB 36.5 MB/s eta 0:00:01\r     |██████                          | 2.3 MB 36.5 MB/s eta 0:00:01\r     |██████                          | 2.3 MB 36.5 MB/s eta 0:00:01\r     |██████                          | 2.3 MB 36.5 MB/s eta 0:00:01\r     |██████                          | 2.3 MB 36.5 MB/s eta 0:00:01\r     |██████                          | 2.3 MB 36.5 MB/s eta 0:00:01\r     |██████                          | 2.3 MB 36.5 MB/s eta 0:00:01\r     |██████▏                         | 2.3 MB 36.5 MB/s eta 0:00:01\r     |██████▏                         | 2.3 MB 36.5 MB/s eta 0:00:01\r     |██████▏                         | 2.4 MB 36.5 MB/s eta 0:00:01\r     |██████▏                         | 2.4 MB 36.5 MB/s eta 0:00:01\r     |██████▎                         | 2.4 MB 36.5 MB/s eta 0:00:01\r     |██████▎                         | 2.4 MB 36.5 MB/s eta 0:00:01\r     |██████▎                         | 2.4 MB 36.5 MB/s eta 0:00:01\r     |██████▎                         | 2.4 MB 36.5 MB/s eta 0:00:01\r     |██████▍                         | 2.4 MB 36.5 MB/s eta 0:00:01\r     |██████▍                         | 2.4 MB 36.5 MB/s eta 0:00:01\r     |██████▍                         | 2.4 MB 36.5 MB/s eta 0:00:01\r     |██████▍                         | 2.4 MB 36.5 MB/s eta 0:00:01\r     |██████▌                         | 2.5 MB 36.5 MB/s eta 0:00:01\r     |██████▌                         | 2.5 MB 36.5 MB/s eta 0:00:01\r     |██████▌                         | 2.5 MB 36.5 MB/s eta 0:00:01\r     |██████▌                         | 2.5 MB 36.5 MB/s eta 0:00:01\r     |██████▋                         | 2.5 MB 36.5 MB/s eta 0:00:01\r     |██████▋                         | 2.5 MB 36.5 MB/s eta 0:00:01\r     |██████▋                         | 2.5 MB 36.5 MB/s eta 0:00:01\r     |██████▋                         | 2.5 MB 36.5 MB/s eta 0:00:01\r     |██████▊                         | 2.5 MB 36.5 MB/s eta 0:00:01\r     |██████▊                         | 2.5 MB 36.5 MB/s eta 0:00:01\r     |██████▊                         | 2.6 MB 36.5 MB/s eta 0:00:01\r     |██████▊                         | 2.6 MB 36.5 MB/s eta 0:00:01\r     |██████▊                         | 2.6 MB 36.5 MB/s eta 0:00:01\r     |██████▉                         | 2.6 MB 36.5 MB/s eta 0:00:01\r     |██████▉                         | 2.6 MB 36.5 MB/s eta 0:00:01\r     |██████▉                         | 2.6 MB 36.5 MB/s eta 0:00:01\r     |██████▉                         | 2.6 MB 36.5 MB/s eta 0:00:01\r     |███████                         | 2.6 MB 36.5 MB/s eta 0:00:01\r     |███████                         | 2.6 MB 36.5 MB/s eta 0:00:01\r     |███████                         | 2.7 MB 36.5 MB/s eta 0:00:01\r     |███████                         | 2.7 MB 36.5 MB/s eta 0:00:01\r     |███████                         | 2.7 MB 36.5 MB/s eta 0:00:01\r     |███████                         | 2.7 MB 36.5 MB/s eta 0:00:01\r     |███████                         | 2.7 MB 36.5 MB/s eta 0:00:01\r     |███████                         | 2.7 MB 36.5 MB/s eta 0:00:01\r     |███████▏                        | 2.7 MB 36.5 MB/s eta 0:00:01\r     |███████▏                        | 2.7 MB 36.5 MB/s eta 0:00:01\r     |███████▏                        | 2.7 MB 36.5 MB/s eta 0:00:01\r     |███████▏                        | 2.7 MB 36.5 MB/s eta 0:00:01\r     |███████▎                        | 2.8 MB 36.5 MB/s eta 0:00:01\r     |███████▎                        | 2.8 MB 36.5 MB/s eta 0:00:01\r     |███████▎                        | 2.8 MB 36.5 MB/s eta 0:00:01\r     |███████▎                        | 2.8 MB 36.5 MB/s eta 0:00:01\r     |███████▍                        | 2.8 MB 36.5 MB/s eta 0:00:01\r     |███████▍                        | 2.8 MB 36.5 MB/s eta 0:00:01\r     |███████▍                        | 2.8 MB 36.5 MB/s eta 0:00:01\r     |███████▍                        | 2.8 MB 36.5 MB/s eta 0:00:01\r     |███████▌                        | 2.8 MB 36.5 MB/s eta 0:00:01\r     |███████▌                        | 2.8 MB 36.5 MB/s eta 0:00:01\r     |███████▌                        | 2.9 MB 36.5 MB/s eta 0:00:01\r     |███████▌                        | 2.9 MB 36.5 MB/s eta 0:00:01\r     |███████▌                        | 2.9 MB 36.5 MB/s eta 0:00:01\r     |███████▋                        | 2.9 MB 36.5 MB/s eta 0:00:01\r     |███████▋                        | 2.9 MB 36.5 MB/s eta 0:00:01\r     |███████▋                        | 2.9 MB 36.5 MB/s eta 0:00:01\r     |███████▋                        | 2.9 MB 36.5 MB/s eta 0:00:01\r     |███████▊                        | 2.9 MB 36.5 MB/s eta 0:00:01\r     |███████▊                        | 2.9 MB 36.5 MB/s eta 0:00:01\r     |███████▊                        | 2.9 MB 36.5 MB/s eta 0:00:01\r     |███████▊                        | 3.0 MB 36.5 MB/s eta 0:00:01\r     |███████▉                        | 3.0 MB 36.5 MB/s eta 0:00:01\r     |███████▉                        | 3.0 MB 36.5 MB/s eta 0:00:01\r     |███████▉                        | 3.0 MB 36.5 MB/s eta 0:00:01\r     |███████▉                        | 3.0 MB 36.5 MB/s eta 0:00:01\r     |████████                        | 3.0 MB 36.5 MB/s eta 0:00:01\r     |████████                        | 3.0 MB 36.5 MB/s eta 0:00:01\r     |████████                        | 3.0 MB 36.5 MB/s eta 0:00:01\r     |████████                        | 3.0 MB 36.5 MB/s eta 0:00:01\r     |████████                        | 3.1 MB 36.5 MB/s eta 0:00:01\r     |████████                        | 3.1 MB 36.5 MB/s eta 0:00:01\r     |████████                        | 3.1 MB 36.5 MB/s eta 0:00:01\r     |████████                        | 3.1 MB 36.5 MB/s eta 0:00:01\r     |████████▏                       | 3.1 MB 36.5 MB/s eta 0:00:01\r     |████████▏                       | 3.1 MB 36.5 MB/s eta 0:00:01\r     |████████▏                       | 3.1 MB 36.5 MB/s eta 0:00:01\r     |████████▏                       | 3.1 MB 36.5 MB/s eta 0:00:01\r     |████████▎                       | 3.1 MB 36.5 MB/s eta 0:00:01\r     |████████▎                       | 3.1 MB 36.5 MB/s eta 0:00:01\r     |████████▎                       | 3.2 MB 36.5 MB/s eta 0:00:01\r     |████████▎                       | 3.2 MB 36.5 MB/s eta 0:00:01\r     |████████▍                       | 3.2 MB 36.5 MB/s eta 0:00:01\r     |████████▍                       | 3.2 MB 36.5 MB/s eta 0:00:01\r     |████████▍                       | 3.2 MB 36.5 MB/s eta 0:00:01\r     |████████▍                       | 3.2 MB 36.5 MB/s eta 0:00:01\r     |████████▍                       | 3.2 MB 36.5 MB/s eta 0:00:01\r     |████████▌                       | 3.2 MB 36.5 MB/s eta 0:00:01\r     |████████▌                       | 3.2 MB 36.5 MB/s eta 0:00:01\r     |████████▌                       | 3.2 MB 36.5 MB/s eta 0:00:01\r     |████████▌                       | 3.3 MB 36.5 MB/s eta 0:00:01\r     |████████▋                       | 3.3 MB 36.5 MB/s eta 0:00:01\r     |████████▋                       | 3.3 MB 36.5 MB/s eta 0:00:01\r     |████████▋                       | 3.3 MB 36.5 MB/s eta 0:00:01\r     |████████▋                       | 3.3 MB 36.5 MB/s eta 0:00:01\r     |████████▊                       | 3.3 MB 36.5 MB/s eta 0:00:01\r     |████████▊                       | 3.3 MB 36.5 MB/s eta 0:00:01\r     |████████▊                       | 3.3 MB 36.5 MB/s eta 0:00:01\r     |████████▊                       | 3.3 MB 36.5 MB/s eta 0:00:01\r     |████████▉                       | 3.3 MB 36.5 MB/s eta 0:00:01\r     |████████▉                       | 3.4 MB 36.5 MB/s eta 0:00:01\r     |████████▉                       | 3.4 MB 36.5 MB/s eta 0:00:01\r     |████████▉                       | 3.4 MB 36.5 MB/s eta 0:00:01\r     |█████████                       | 3.4 MB 36.5 MB/s eta 0:00:01\r     |█████████                       | 3.4 MB 36.5 MB/s eta 0:00:01\r     |█████████                       | 3.4 MB 36.5 MB/s eta 0:00:01\r     |█████████                       | 3.4 MB 36.5 MB/s eta 0:00:01\r     |█████████                       | 3.4 MB 36.5 MB/s eta 0:00:01\r     |█████████                       | 3.4 MB 36.5 MB/s eta 0:00:01\r     |█████████                       | 3.5 MB 36.5 MB/s eta 0:00:01\r     |█████████                       | 3.5 MB 36.5 MB/s eta 0:00:01\r     |█████████▏                      | 3.5 MB 36.5 MB/s eta 0:00:01\r     |█████████▏                      | 3.5 MB 36.5 MB/s eta 0:00:01\r     |█████████▏                      | 3.5 MB 36.5 MB/s eta 0:00:01\r     |█████████▏                      | 3.5 MB 36.5 MB/s eta 0:00:01\r     |█████████▏                      | 3.5 MB 36.5 MB/s eta 0:00:01\r     |█████████▎                      | 3.5 MB 36.5 MB/s eta 0:00:01\r     |█████████▎                      | 3.5 MB 36.5 MB/s eta 0:00:01\r     |█████████▎                      | 3.5 MB 36.5 MB/s eta 0:00:01\r     |█████████▎                      | 3.6 MB 36.5 MB/s eta 0:00:01\r     |█████████▍                      | 3.6 MB 36.5 MB/s eta 0:00:01\r     |█████████▍                      | 3.6 MB 36.5 MB/s eta 0:00:01\r     |█████████▍                      | 3.6 MB 36.5 MB/s eta 0:00:01\r     |█████████▍                      | 3.6 MB 36.5 MB/s eta 0:00:01\r     |█████████▌                      | 3.6 MB 36.5 MB/s eta 0:00:01\r     |█████████▌                      | 3.6 MB 36.5 MB/s eta 0:00:01\r     |█████████▌                      | 3.6 MB 36.5 MB/s eta 0:00:01\r     |█████████▌                      | 3.6 MB 36.5 MB/s eta 0:00:01\r     |█████████▋                      | 3.6 MB 36.5 MB/s eta 0:00:01\r     |█████████▋                      | 3.7 MB 36.5 MB/s eta 0:00:01\r     |█████████▋                      | 3.7 MB 36.5 MB/s eta 0:00:01\r     |█████████▋                      | 3.7 MB 36.5 MB/s eta 0:00:01\r     |█████████▊                      | 3.7 MB 36.5 MB/s eta 0:00:01\r     |█████████▊                      | 3.7 MB 36.5 MB/s eta 0:00:01\r     |█████████▊                      | 3.7 MB 36.5 MB/s eta 0:00:01\r     |█████████▊                      | 3.7 MB 36.5 MB/s eta 0:00:01\r     |█████████▉                      | 3.7 MB 36.5 MB/s eta 0:00:01\r     |█████████▉                      | 3.7 MB 36.5 MB/s eta 0:00:01\r     |█████████▉                      | 3.7 MB 36.5 MB/s eta 0:00:01\r     |█████████▉                      | 3.8 MB 36.5 MB/s eta 0:00:01\r     |██████████                      | 3.8 MB 36.5 MB/s eta 0:00:01\r     |██████████                      | 3.8 MB 36.5 MB/s eta 0:00:01\r     |██████████                      | 3.8 MB 36.5 MB/s eta 0:00:01\r     |██████████                      | 3.8 MB 36.5 MB/s eta 0:00:01\r     |██████████                      | 3.8 MB 36.5 MB/s eta 0:00:01\r     |██████████                      | 3.8 MB 36.5 MB/s eta 0:00:01\r     |██████████                      | 3.8 MB 36.5 MB/s eta 0:00:01\r     |██████████                      | 3.8 MB 36.5 MB/s eta 0:00:01\r     |██████████                      | 3.9 MB 36.5 MB/s eta 0:00:01\r     |██████████▏                     | 3.9 MB 36.5 MB/s eta 0:00:01\r     |██████████▏                     | 3.9 MB 36.5 MB/s eta 0:00:01\r     |██████████▏                     | 3.9 MB 36.5 MB/s eta 0:00:01\r     |██████████▏                     | 3.9 MB 36.5 MB/s eta 0:00:01\r     |██████████▎                     | 3.9 MB 36.5 MB/s eta 0:00:01\r     |██████████▎                     | 3.9 MB 36.5 MB/s eta 0:00:01\r     |██████████▎                     | 3.9 MB 36.5 MB/s eta 0:00:01\r     |██████████▎                     | 3.9 MB 36.5 MB/s eta 0:00:01\r     |██████████▍                     | 3.9 MB 36.5 MB/s eta 0:00:01\r     |██████████▍                     | 4.0 MB 36.5 MB/s eta 0:00:01\r     |██████████▍                     | 4.0 MB 36.5 MB/s eta 0:00:01\r     |██████████▍                     | 4.0 MB 36.5 MB/s eta 0:00:01\r     |██████████▌                     | 4.0 MB 36.5 MB/s eta 0:00:01\r     |██████████▌                     | 4.0 MB 36.5 MB/s eta 0:00:01\r     |██████████▌                     | 4.0 MB 36.5 MB/s eta 0:00:01\r     |██████████▌                     | 4.0 MB 36.5 MB/s eta 0:00:01\r     |██████████▋                     | 4.0 MB 36.5 MB/s eta 0:00:01\r     |██████████▋                     | 4.0 MB 36.5 MB/s eta 0:00:01\r     |██████████▋                     | 4.0 MB 36.5 MB/s eta 0:00:01\r     |██████████▋                     | 4.1 MB 36.5 MB/s eta 0:00:01\r     |██████████▊                     | 4.1 MB 36.5 MB/s eta 0:00:01\r     |██████████▊                     | 4.1 MB 36.5 MB/s eta 0:00:01\r     |██████████▊                     | 4.1 MB 36.5 MB/s eta 0:00:01\r     |██████████▊                     | 4.1 MB 36.5 MB/s eta 0:00:01\r     |██████████▉                     | 4.1 MB 36.5 MB/s eta 0:00:01\r     |██████████▉                     | 4.1 MB 36.5 MB/s eta 0:00:01\r     |██████████▉                     | 4.1 MB 36.5 MB/s eta 0:00:01\r     |██████████▉                     | 4.1 MB 36.5 MB/s eta 0:00:01\r     |██████████▉                     | 4.1 MB 36.5 MB/s eta 0:00:01\r     |███████████                     | 4.2 MB 36.5 MB/s eta 0:00:01\r     |███████████                     | 4.2 MB 36.5 MB/s eta 0:00:01\r     |███████████                     | 4.2 MB 36.5 MB/s eta 0:00:01\r     |███████████                     | 4.2 MB 36.5 MB/s eta 0:00:01\r     |███████████                     | 4.2 MB 36.5 MB/s eta 0:00:01\r     |███████████                     | 4.2 MB 36.5 MB/s eta 0:00:01\r     |███████████                     | 4.2 MB 36.5 MB/s eta 0:00:01\r     |███████████                     | 4.2 MB 36.5 MB/s eta 0:00:01\r     |███████████▏                    | 4.2 MB 36.5 MB/s eta 0:00:01\r     |███████████▏                    | 4.2 MB 36.5 MB/s eta 0:00:01\r     |███████████▏                    | 4.3 MB 36.5 MB/s eta 0:00:01\r     |███████████▏                    | 4.3 MB 36.5 MB/s eta 0:00:01\r     |███████████▎                    | 4.3 MB 36.5 MB/s eta 0:00:01\r     |███████████▎                    | 4.3 MB 36.5 MB/s eta 0:00:01\r     |███████████▎                    | 4.3 MB 36.5 MB/s eta 0:00:01\r     |███████████▎                    | 4.3 MB 36.5 MB/s eta 0:00:01\r     |███████████▍                    | 4.3 MB 36.5 MB/s eta 0:00:01\r     |███████████▍                    | 4.3 MB 36.5 MB/s eta 0:00:01\r     |███████████▍                    | 4.3 MB 36.5 MB/s eta 0:00:01\r     |███████████▍                    | 4.4 MB 36.5 MB/s eta 0:00:01\r     |███████████▌                    | 4.4 MB 36.5 MB/s eta 0:00:01\r     |███████████▌                    | 4.4 MB 36.5 MB/s eta 0:00:01\r     |███████████▌                    | 4.4 MB 36.5 MB/s eta 0:00:01\r     |███████████▌                    | 4.4 MB 36.5 MB/s eta 0:00:01\r     |███████████▋                    | 4.4 MB 36.5 MB/s eta 0:00:01\r     |███████████▋                    | 4.4 MB 36.5 MB/s eta 0:00:01\r     |███████████▋                    | 4.4 MB 36.5 MB/s eta 0:00:01\r     |███████████▋                    | 4.4 MB 36.5 MB/s eta 0:00:01\r     |███████████▊                    | 4.4 MB 36.5 MB/s eta 0:00:01\r     |███████████▊                    | 4.5 MB 36.5 MB/s eta 0:00:01\r     |███████████▊                    | 4.5 MB 36.5 MB/s eta 0:00:01\r     |███████████▊                    | 4.5 MB 36.5 MB/s eta 0:00:01\r     |███████████▊                    | 4.5 MB 36.5 MB/s eta 0:00:01\r     |███████████▉                    | 4.5 MB 36.5 MB/s eta 0:00:01\r     |███████████▉                    | 4.5 MB 36.5 MB/s eta 0:00:01\r     |███████████▉                    | 4.5 MB 36.5 MB/s eta 0:00:01\r     |███████████▉                    | 4.5 MB 36.5 MB/s eta 0:00:01\r     |████████████                    | 4.5 MB 36.5 MB/s eta 0:00:01\r     |████████████                    | 4.5 MB 36.5 MB/s eta 0:00:01\r     |████████████                    | 4.6 MB 36.5 MB/s eta 0:00:01\r     |████████████                    | 4.6 MB 36.5 MB/s eta 0:00:01\r     |████████████                    | 4.6 MB 36.5 MB/s eta 0:00:01\r     |████████████                    | 4.6 MB 36.5 MB/s eta 0:00:01\r     |████████████                    | 4.6 MB 36.5 MB/s eta 0:00:01\r     |████████████                    | 4.6 MB 36.5 MB/s eta 0:00:01\r     |████████████▏                   | 4.6 MB 36.5 MB/s eta 0:00:01\r     |████████████▏                   | 4.6 MB 36.5 MB/s eta 0:00:01\r     |████████████▏                   | 4.6 MB 36.5 MB/s eta 0:00:01\r     |████████████▏                   | 4.6 MB 36.5 MB/s eta 0:00:01\r     |████████████▎                   | 4.7 MB 36.5 MB/s eta 0:00:01\r     |████████████▎                   | 4.7 MB 36.5 MB/s eta 0:00:01\r     |████████████▎                   | 4.7 MB 36.5 MB/s eta 0:00:01\r     |████████████▎                   | 4.7 MB 36.5 MB/s eta 0:00:01\r     |████████████▍                   | 4.7 MB 36.5 MB/s eta 0:00:01\r     |████████████▍                   | 4.7 MB 36.5 MB/s eta 0:00:01\r     |████████████▍                   | 4.7 MB 36.5 MB/s eta 0:00:01\r     |████████████▍                   | 4.7 MB 36.5 MB/s eta 0:00:01\r     |████████████▌                   | 4.7 MB 36.5 MB/s eta 0:00:01\r     |████████████▌                   | 4.8 MB 36.5 MB/s eta 0:00:01\r     |████████████▌                   | 4.8 MB 36.5 MB/s eta 0:00:01\r     |████████████▌                   | 4.8 MB 36.5 MB/s eta 0:00:01\r     |████████████▌                   | 4.8 MB 36.5 MB/s eta 0:00:01\r     |████████████▋                   | 4.8 MB 36.5 MB/s eta 0:00:01\r     |████████████▋                   | 4.8 MB 36.5 MB/s eta 0:00:01\r     |████████████▋                   | 4.8 MB 36.5 MB/s eta 0:00:01\r     |████████████▋                   | 4.8 MB 36.5 MB/s eta 0:00:01\r     |████████████▊                   | 4.8 MB 36.5 MB/s eta 0:00:01\r     |████████████▊                   | 4.8 MB 36.5 MB/s eta 0:00:01\r     |████████████▊                   | 4.9 MB 36.5 MB/s eta 0:00:01\r     |████████████▊                   | 4.9 MB 36.5 MB/s eta 0:00:01\r     |████████████▉                   | 4.9 MB 36.5 MB/s eta 0:00:01\r     |████████████▉                   | 4.9 MB 36.5 MB/s eta 0:00:01\r     |████████████▉                   | 4.9 MB 36.5 MB/s eta 0:00:01\r     |████████████▉                   | 4.9 MB 36.5 MB/s eta 0:00:01\r     |█████████████                   | 4.9 MB 36.5 MB/s eta 0:00:01\r     |█████████████                   | 4.9 MB 36.5 MB/s eta 0:00:01\r     |█████████████                   | 4.9 MB 36.5 MB/s eta 0:00:01\r     |█████████████                   | 4.9 MB 36.5 MB/s eta 0:00:01\r     |█████████████                   | 5.0 MB 36.5 MB/s eta 0:00:01\r     |█████████████                   | 5.0 MB 36.5 MB/s eta 0:00:01\r     |█████████████                   | 5.0 MB 36.5 MB/s eta 0:00:01\r     |█████████████                   | 5.0 MB 36.5 MB/s eta 0:00:01\r     |█████████████▏                  | 5.0 MB 36.5 MB/s eta 0:00:01\r     |█████████████▏                  | 5.0 MB 36.5 MB/s eta 0:00:01\r     |█████████████▏                  | 5.0 MB 36.5 MB/s eta 0:00:01\r     |█████████████▏                  | 5.0 MB 36.5 MB/s eta 0:00:01\r     |█████████████▎                  | 5.0 MB 36.5 MB/s eta 0:00:01\r     |█████████████▎                  | 5.0 MB 36.5 MB/s eta 0:00:01\r     |█████████████▎                  | 5.1 MB 36.5 MB/s eta 0:00:01\r     |█████████████▎                  | 5.1 MB 36.5 MB/s eta 0:00:01\r     |█████████████▍                  | 5.1 MB 36.5 MB/s eta 0:00:01\r     |█████████████▍                  | 5.1 MB 36.5 MB/s eta 0:00:01\r     |█████████████▍                  | 5.1 MB 36.5 MB/s eta 0:00:01\r     |█████████████▍                  | 5.1 MB 36.5 MB/s eta 0:00:01\r     |█████████████▍                  | 5.1 MB 36.5 MB/s eta 0:00:01\r     |█████████████▌                  | 5.1 MB 36.5 MB/s eta 0:00:01\r     |█████████████▌                  | 5.1 MB 36.5 MB/s eta 0:00:01\r     |█████████████▌                  | 5.2 MB 36.5 MB/s eta 0:00:01\r     |█████████████▌                  | 5.2 MB 36.5 MB/s eta 0:00:01\r     |█████████████▋                  | 5.2 MB 36.5 MB/s eta 0:00:01\r     |█████████████▋                  | 5.2 MB 36.5 MB/s eta 0:00:01\r     |█████████████▋                  | 5.2 MB 36.5 MB/s eta 0:00:01\r     |█████████████▋                  | 5.2 MB 36.5 MB/s eta 0:00:01\r     |█████████████▊                  | 5.2 MB 36.5 MB/s eta 0:00:01\r     |█████████████▊                  | 5.2 MB 36.5 MB/s eta 0:00:01\r     |█████████████▊                  | 5.2 MB 36.5 MB/s eta 0:00:01\r     |█████████████▊                  | 5.2 MB 36.5 MB/s eta 0:00:01\r     |█████████████▉                  | 5.3 MB 36.5 MB/s eta 0:00:01\r     |█████████████▉                  | 5.3 MB 36.5 MB/s eta 0:00:01\r     |█████████████▉                  | 5.3 MB 36.5 MB/s eta 0:00:01\r     |█████████████▉                  | 5.3 MB 36.5 MB/s eta 0:00:01\r     |██████████████                  | 5.3 MB 36.5 MB/s eta 0:00:01\r     |██████████████                  | 5.3 MB 36.5 MB/s eta 0:00:01\r     |██████████████                  | 5.3 MB 36.5 MB/s eta 0:00:01\r     |██████████████                  | 5.3 MB 36.5 MB/s eta 0:00:01\r     |██████████████                  | 5.3 MB 36.5 MB/s eta 0:00:01\r     |██████████████                  | 5.3 MB 36.5 MB/s eta 0:00:01\r     |██████████████                  | 5.4 MB 36.5 MB/s eta 0:00:01\r     |██████████████                  | 5.4 MB 36.5 MB/s eta 0:00:01\r     |██████████████▏                 | 5.4 MB 36.5 MB/s eta 0:00:01\r     |██████████████▏                 | 5.4 MB 36.5 MB/s eta 0:00:01\r     |██████████████▏                 | 5.4 MB 36.5 MB/s eta 0:00:01\r     |██████████████▏                 | 5.4 MB 36.5 MB/s eta 0:00:01\r     |██████████████▏                 | 5.4 MB 36.5 MB/s eta 0:00:01\r     |██████████████▎                 | 5.4 MB 36.5 MB/s eta 0:00:01\r     |██████████████▎                 | 5.4 MB 36.5 MB/s eta 0:00:01\r     |██████████████▎                 | 5.4 MB 36.5 MB/s eta 0:00:01\r     |██████████████▎                 | 5.5 MB 36.5 MB/s eta 0:00:01\r     |██████████████▍                 | 5.5 MB 36.5 MB/s eta 0:00:01\r     |██████████████▍                 | 5.5 MB 36.5 MB/s eta 0:00:01\r     |██████████████▍                 | 5.5 MB 36.5 MB/s eta 0:00:01\r     |██████████████▍                 | 5.5 MB 36.5 MB/s eta 0:00:01\r     |██████████████▌                 | 5.5 MB 36.5 MB/s eta 0:00:01\r     |██████████████▌                 | 5.5 MB 36.5 MB/s eta 0:00:01\r     |██████████████▌                 | 5.5 MB 36.5 MB/s eta 0:00:01\r     |██████████████▌                 | 5.5 MB 36.5 MB/s eta 0:00:01\r     |██████████████▋                 | 5.6 MB 36.5 MB/s eta 0:00:01\r     |██████████████▋                 | 5.6 MB 36.5 MB/s eta 0:00:01\r     |██████████████▋                 | 5.6 MB 36.5 MB/s eta 0:00:01\r     |██████████████▋                 | 5.6 MB 36.5 MB/s eta 0:00:01\r     |██████████████▊                 | 5.6 MB 36.5 MB/s eta 0:00:01\r     |██████████████▊                 | 5.6 MB 36.5 MB/s eta 0:00:01\r     |██████████████▊                 | 5.6 MB 36.5 MB/s eta 0:00:01\r     |██████████████▊                 | 5.6 MB 36.5 MB/s eta 0:00:01\r     |██████████████▉                 | 5.6 MB 36.5 MB/s eta 0:00:01\r     |██████████████▉                 | 5.6 MB 36.5 MB/s eta 0:00:01\r     |██████████████▉                 | 5.7 MB 36.5 MB/s eta 0:00:01\r     |██████████████▉                 | 5.7 MB 36.5 MB/s eta 0:00:01\r     |███████████████                 | 5.7 MB 36.5 MB/s eta 0:00:01\r     |███████████████                 | 5.7 MB 36.5 MB/s eta 0:00:01\r     |███████████████                 | 5.7 MB 36.5 MB/s eta 0:00:01\r     |███████████████                 | 5.7 MB 36.5 MB/s eta 0:00:01\r     |███████████████                 | 5.7 MB 36.5 MB/s eta 0:00:01\r     |███████████████                 | 5.7 MB 36.5 MB/s eta 0:00:01\r     |███████████████                 | 5.7 MB 36.5 MB/s eta 0:00:01\r     |███████████████                 | 5.7 MB 36.5 MB/s eta 0:00:01\r     |███████████████                 | 5.8 MB 36.5 MB/s eta 0:00:01\r     |███████████████▏                | 5.8 MB 36.5 MB/s eta 0:00:01\r     |███████████████▏                | 5.8 MB 36.5 MB/s eta 0:00:01\r     |███████████████▏                | 5.8 MB 36.5 MB/s eta 0:00:01\r     |███████████████▏                | 5.8 MB 36.5 MB/s eta 0:00:01\r     |███████████████▎                | 5.8 MB 36.5 MB/s eta 0:00:01\r     |███████████████▎                | 5.8 MB 36.5 MB/s eta 0:00:01\r     |███████████████▎                | 5.8 MB 36.5 MB/s eta 0:00:01\r     |███████████████▎                | 5.8 MB 36.5 MB/s eta 0:00:01\r     |███████████████▍                | 5.8 MB 36.5 MB/s eta 0:00:01\r     |███████████████▍                | 5.9 MB 36.5 MB/s eta 0:00:01\r     |███████████████▍                | 5.9 MB 36.5 MB/s eta 0:00:01\r     |███████████████▍                | 5.9 MB 36.5 MB/s eta 0:00:01\r     |███████████████▌                | 5.9 MB 36.5 MB/s eta 0:00:01\r     |███████████████▌                | 5.9 MB 36.5 MB/s eta 0:00:01\r     |███████████████▌                | 5.9 MB 36.5 MB/s eta 0:00:01\r     |███████████████▌                | 5.9 MB 36.5 MB/s eta 0:00:01\r     |███████████████▋                | 5.9 MB 36.5 MB/s eta 0:00:01\r     |███████████████▋                | 5.9 MB 36.5 MB/s eta 0:00:01\r     |███████████████▋                | 5.9 MB 36.5 MB/s eta 0:00:01\r     |███████████████▋                | 6.0 MB 36.5 MB/s eta 0:00:01\r     |███████████████▊                | 6.0 MB 36.5 MB/s eta 0:00:01\r     |███████████████▊                | 6.0 MB 36.5 MB/s eta 0:00:01\r     |███████████████▊                | 6.0 MB 36.5 MB/s eta 0:00:01\r     |███████████████▊                | 6.0 MB 36.5 MB/s eta 0:00:01\r     |███████████████▉                | 6.0 MB 36.5 MB/s eta 0:00:01\r     |███████████████▉                | 6.0 MB 36.5 MB/s eta 0:00:01\r     |███████████████▉                | 6.0 MB 36.5 MB/s eta 0:00:01\r     |███████████████▉                | 6.0 MB 36.5 MB/s eta 0:00:01\r     |███████████████▉                | 6.1 MB 36.5 MB/s eta 0:00:01\r     |████████████████                | 6.1 MB 36.5 MB/s eta 0:00:01\r     |████████████████                | 6.1 MB 36.5 MB/s eta 0:00:01\r     |████████████████                | 6.1 MB 36.5 MB/s eta 0:00:01\r     |████████████████                | 6.1 MB 36.5 MB/s eta 0:00:01\r     |████████████████                | 6.1 MB 36.5 MB/s eta 0:00:01\r     |████████████████                | 6.1 MB 36.5 MB/s eta 0:00:01\r     |████████████████                | 6.1 MB 36.5 MB/s eta 0:00:01\r     |████████████████                | 6.1 MB 36.5 MB/s eta 0:00:01\r     |████████████████▏               | 6.1 MB 36.5 MB/s eta 0:00:01\r     |████████████████▏               | 6.2 MB 36.5 MB/s eta 0:00:01\r     |████████████████▏               | 6.2 MB 36.5 MB/s eta 0:00:01\r     |████████████████▏               | 6.2 MB 36.5 MB/s eta 0:00:01\r     |████████████████▎               | 6.2 MB 36.5 MB/s eta 0:00:01\r     |████████████████▎               | 6.2 MB 36.5 MB/s eta 0:00:01\r     |████████████████▎               | 6.2 MB 36.5 MB/s eta 0:00:01\r     |████████████████▎               | 6.2 MB 36.5 MB/s eta 0:00:01\r     |████████████████▍               | 6.2 MB 36.5 MB/s eta 0:00:01\r     |████████████████▍               | 6.2 MB 36.5 MB/s eta 0:00:01\r     |████████████████▍               | 6.2 MB 36.5 MB/s eta 0:00:01\r     |████████████████▍               | 6.3 MB 36.5 MB/s eta 0:00:01\r     |████████████████▌               | 6.3 MB 36.5 MB/s eta 0:00:01\r     |████████████████▌               | 6.3 MB 36.5 MB/s eta 0:00:01\r     |████████████████▌               | 6.3 MB 36.5 MB/s eta 0:00:01\r     |████████████████▌               | 6.3 MB 36.5 MB/s eta 0:00:01\r     |████████████████▋               | 6.3 MB 36.5 MB/s eta 0:00:01\r     |████████████████▋               | 6.3 MB 36.5 MB/s eta 0:00:01\r     |████████████████▋               | 6.3 MB 36.5 MB/s eta 0:00:01\r     |████████████████▋               | 6.3 MB 36.5 MB/s eta 0:00:01\r     |████████████████▊               | 6.3 MB 36.5 MB/s eta 0:00:01\r     |████████████████▊               | 6.4 MB 36.5 MB/s eta 0:00:01\r     |████████████████▊               | 6.4 MB 36.5 MB/s eta 0:00:01\r     |████████████████▊               | 6.4 MB 36.5 MB/s eta 0:00:01\r     |████████████████▊               | 6.4 MB 36.5 MB/s eta 0:00:01\r     |████████████████▉               | 6.4 MB 36.5 MB/s eta 0:00:01\r     |████████████████▉               | 6.4 MB 36.5 MB/s eta 0:00:01\r     |████████████████▉               | 6.4 MB 36.5 MB/s eta 0:00:01\r     |████████████████▉               | 6.4 MB 36.5 MB/s eta 0:00:01\r     |█████████████████               | 6.4 MB 36.5 MB/s eta 0:00:01\r     |█████████████████               | 6.5 MB 36.5 MB/s eta 0:00:01\r     |█████████████████               | 6.5 MB 36.5 MB/s eta 0:00:01\r     |█████████████████               | 6.5 MB 36.5 MB/s eta 0:00:01\r     |█████████████████               | 6.5 MB 36.5 MB/s eta 0:00:01\r     |█████████████████               | 6.5 MB 36.5 MB/s eta 0:00:01\r     |█████████████████               | 6.5 MB 36.5 MB/s eta 0:00:01\r     |█████████████████               | 6.5 MB 36.5 MB/s eta 0:00:01\r     |█████████████████▏              | 6.5 MB 36.5 MB/s eta 0:00:01\r     |█████████████████▏              | 6.5 MB 36.5 MB/s eta 0:00:01\r     |█████████████████▏              | 6.5 MB 36.5 MB/s eta 0:00:01\r     |█████████████████▏              | 6.6 MB 36.5 MB/s eta 0:00:01\r     |█████████████████▎              | 6.6 MB 36.5 MB/s eta 0:00:01\r     |█████████████████▎              | 6.6 MB 36.5 MB/s eta 0:00:01\r     |█████████████████▎              | 6.6 MB 36.5 MB/s eta 0:00:01\r     |█████████████████▎              | 6.6 MB 36.5 MB/s eta 0:00:01\r     |█████████████████▍              | 6.6 MB 36.5 MB/s eta 0:00:01\r     |█████████████████▍              | 6.6 MB 36.5 MB/s eta 0:00:01\r     |█████████████████▍              | 6.6 MB 36.5 MB/s eta 0:00:01\r     |█████████████████▍              | 6.6 MB 36.5 MB/s eta 0:00:01\r     |█████████████████▌              | 6.6 MB 36.5 MB/s eta 0:00:01\r     |█████████████████▌              | 6.7 MB 36.5 MB/s eta 0:00:01\r     |█████████████████▌              | 6.7 MB 36.5 MB/s eta 0:00:01\r     |█████████████████▌              | 6.7 MB 36.5 MB/s eta 0:00:01\r     |█████████████████▌              | 6.7 MB 36.5 MB/s eta 0:00:01\r     |█████████████████▋              | 6.7 MB 36.5 MB/s eta 0:00:01\r     |█████████████████▋              | 6.7 MB 36.5 MB/s eta 0:00:01\r     |█████████████████▋              | 6.7 MB 36.5 MB/s eta 0:00:01\r     |█████████████████▋              | 6.7 MB 36.5 MB/s eta 0:00:01\r     |█████████████████▊              | 6.7 MB 36.5 MB/s eta 0:00:01\r     |█████████████████▊              | 6.7 MB 36.5 MB/s eta 0:00:01\r     |█████████████████▊              | 6.8 MB 36.5 MB/s eta 0:00:01\r     |█████████████████▊              | 6.8 MB 36.5 MB/s eta 0:00:01\r     |█████████████████▉              | 6.8 MB 36.5 MB/s eta 0:00:01\r     |█████████████████▉              | 6.8 MB 36.5 MB/s eta 0:00:01\r     |█████████████████▉              | 6.8 MB 36.5 MB/s eta 0:00:01\r     |█████████████████▉              | 6.8 MB 36.5 MB/s eta 0:00:01\r     |██████████████████              | 6.8 MB 36.5 MB/s eta 0:00:01\r     |██████████████████              | 6.8 MB 36.5 MB/s eta 0:00:01\r     |██████████████████              | 6.8 MB 36.5 MB/s eta 0:00:01\r     |██████████████████              | 6.9 MB 36.5 MB/s eta 0:00:01\r     |██████████████████              | 6.9 MB 36.5 MB/s eta 0:00:01\r     |██████████████████              | 6.9 MB 36.5 MB/s eta 0:00:01\r     |██████████████████              | 6.9 MB 36.5 MB/s eta 0:00:01\r     |██████████████████              | 6.9 MB 36.5 MB/s eta 0:00:01\r     |██████████████████▏             | 6.9 MB 36.5 MB/s eta 0:00:01\r     |██████████████████▏             | 6.9 MB 36.5 MB/s eta 0:00:01\r     |██████████████████▏             | 6.9 MB 36.5 MB/s eta 0:00:01\r     |██████████████████▏             | 6.9 MB 36.5 MB/s eta 0:00:01\r     |██████████████████▎             | 6.9 MB 36.5 MB/s eta 0:00:01\r     |██████████████████▎             | 7.0 MB 36.5 MB/s eta 0:00:01\r     |██████████████████▎             | 7.0 MB 36.5 MB/s eta 0:00:01\r     |██████████████████▎             | 7.0 MB 36.5 MB/s eta 0:00:01\r     |██████████████████▍             | 7.0 MB 36.5 MB/s eta 0:00:01\r     |██████████████████▍             | 7.0 MB 36.5 MB/s eta 0:00:01\r     |██████████████████▍             | 7.0 MB 36.5 MB/s eta 0:00:01\r     |██████████████████▍             | 7.0 MB 36.5 MB/s eta 0:00:01\r     |██████████████████▍             | 7.0 MB 36.5 MB/s eta 0:00:01\r     |██████████████████▌             | 7.0 MB 36.5 MB/s eta 0:00:01\r     |██████████████████▌             | 7.0 MB 36.5 MB/s eta 0:00:01\r     |██████████████████▌             | 7.1 MB 36.5 MB/s eta 0:00:01\r     |██████████████████▌             | 7.1 MB 36.5 MB/s eta 0:00:01\r     |██████████████████▋             | 7.1 MB 36.5 MB/s eta 0:00:01\r     |██████████████████▋             | 7.1 MB 36.5 MB/s eta 0:00:01\r     |██████████████████▋             | 7.1 MB 36.5 MB/s eta 0:00:01\r     |██████████████████▋             | 7.1 MB 36.5 MB/s eta 0:00:01\r     |██████████████████▊             | 7.1 MB 36.5 MB/s eta 0:00:01\r     |██████████████████▊             | 7.1 MB 36.5 MB/s eta 0:00:01\r     |██████████████████▊             | 7.1 MB 36.5 MB/s eta 0:00:01\r     |██████████████████▊             | 7.1 MB 36.5 MB/s eta 0:00:01\r     |██████████████████▉             | 7.2 MB 36.5 MB/s eta 0:00:01\r     |██████████████████▉             | 7.2 MB 36.5 MB/s eta 0:00:01\r     |██████████████████▉             | 7.2 MB 36.5 MB/s eta 0:00:01\r     |██████████████████▉             | 7.2 MB 36.5 MB/s eta 0:00:01\r     |███████████████████             | 7.2 MB 36.5 MB/s eta 0:00:01\r     |███████████████████             | 7.2 MB 36.5 MB/s eta 0:00:01\r     |███████████████████             | 7.2 MB 36.5 MB/s eta 0:00:01\r     |███████████████████             | 7.2 MB 36.5 MB/s eta 0:00:01\r     |███████████████████             | 7.2 MB 36.5 MB/s eta 0:00:01\r     |███████████████████             | 7.2 MB 36.5 MB/s eta 0:00:01\r     |███████████████████             | 7.3 MB 36.5 MB/s eta 0:00:01\r     |███████████████████             | 7.3 MB 36.5 MB/s eta 0:00:01\r     |███████████████████▏            | 7.3 MB 36.5 MB/s eta 0:00:01\r     |███████████████████▏            | 7.3 MB 36.5 MB/s eta 0:00:01\r     |███████████████████▏            | 7.3 MB 36.5 MB/s eta 0:00:01\r     |███████████████████▏            | 7.3 MB 36.5 MB/s eta 0:00:01\r     |███████████████████▏            | 7.3 MB 36.5 MB/s eta 0:00:01\r     |███████████████████▎            | 7.3 MB 36.5 MB/s eta 0:00:01\r     |███████████████████▎            | 7.3 MB 36.5 MB/s eta 0:00:01\r     |███████████████████▎            | 7.4 MB 36.5 MB/s eta 0:00:01\r     |███████████████████▎            | 7.4 MB 36.5 MB/s eta 0:00:01\r     |███████████████████▍            | 7.4 MB 36.5 MB/s eta 0:00:01\r     |███████████████████▍            | 7.4 MB 36.5 MB/s eta 0:00:01\r     |███████████████████▍            | 7.4 MB 36.5 MB/s eta 0:00:01\r     |███████████████████▍            | 7.4 MB 36.5 MB/s eta 0:00:01\r     |███████████████████▌            | 7.4 MB 36.5 MB/s eta 0:00:01\r     |███████████████████▌            | 7.4 MB 36.5 MB/s eta 0:00:01\r     |███████████████████▌            | 7.4 MB 36.5 MB/s eta 0:00:01\r     |███████████████████▌            | 7.4 MB 36.5 MB/s eta 0:00:01\r     |███████████████████▋            | 7.5 MB 36.5 MB/s eta 0:00:01\r     |███████████████████▋            | 7.5 MB 36.5 MB/s eta 0:00:01\r     |███████████████████▋            | 7.5 MB 36.5 MB/s eta 0:00:01\r     |███████████████████▋            | 7.5 MB 36.5 MB/s eta 0:00:01\r     |███████████████████▊            | 7.5 MB 36.5 MB/s eta 0:00:01\r     |███████████████████▊            | 7.5 MB 36.5 MB/s eta 0:00:01\r     |███████████████████▊            | 7.5 MB 36.5 MB/s eta 0:00:01\r     |███████████████████▊            | 7.5 MB 36.5 MB/s eta 0:00:01\r     |███████████████████▉            | 7.5 MB 36.5 MB/s eta 0:00:01\r     |███████████████████▉            | 7.5 MB 36.5 MB/s eta 0:00:01\r     |███████████████████▉            | 7.6 MB 36.5 MB/s eta 0:00:01\r     |███████████████████▉            | 7.6 MB 36.5 MB/s eta 0:00:01\r     |████████████████████            | 7.6 MB 36.5 MB/s eta 0:00:01\r     |████████████████████            | 7.6 MB 36.5 MB/s eta 0:00:01\r     |████████████████████            | 7.6 MB 36.5 MB/s eta 0:00:01\r     |████████████████████            | 7.6 MB 36.5 MB/s eta 0:00:01\r     |████████████████████            | 7.6 MB 36.5 MB/s eta 0:00:01\r     |████████████████████            | 7.6 MB 36.5 MB/s eta 0:00:01\r     |████████████████████            | 7.6 MB 36.5 MB/s eta 0:00:01\r     |████████████████████            | 7.6 MB 36.5 MB/s eta 0:00:01\r     |████████████████████            | 7.7 MB 36.5 MB/s eta 0:00:01\r     |████████████████████▏           | 7.7 MB 36.5 MB/s eta 0:00:01\r     |████████████████████▏           | 7.7 MB 36.5 MB/s eta 0:00:01\r     |████████████████████▏           | 7.7 MB 36.5 MB/s eta 0:00:01\r     |████████████████████▏           | 7.7 MB 36.5 MB/s eta 0:00:01\r     |████████████████████▎           | 7.7 MB 36.5 MB/s eta 0:00:01\r     |████████████████████▎           | 7.7 MB 36.5 MB/s eta 0:00:01\r     |████████████████████▎           | 7.7 MB 36.5 MB/s eta 0:00:01\r     |████████████████████▎           | 7.7 MB 36.5 MB/s eta 0:00:01\r     |████████████████████▍           | 7.8 MB 36.5 MB/s eta 0:00:01\r     |████████████████████▍           | 7.8 MB 36.5 MB/s eta 0:00:01\r     |████████████████████▍           | 7.8 MB 36.5 MB/s eta 0:00:01\r     |████████████████████▍           | 7.8 MB 36.5 MB/s eta 0:00:01\r     |████████████████████▌           | 7.8 MB 36.5 MB/s eta 0:00:01\r     |████████████████████▌           | 7.8 MB 36.5 MB/s eta 0:00:01\r     |████████████████████▌           | 7.8 MB 36.5 MB/s eta 0:00:01\r     |████████████████████▌           | 7.8 MB 36.5 MB/s eta 0:00:01\r     |████████████████████▋           | 7.8 MB 36.5 MB/s eta 0:00:01\r     |████████████████████▋           | 7.8 MB 36.5 MB/s eta 0:00:01\r     |████████████████████▋           | 7.9 MB 36.5 MB/s eta 0:00:01\r     |████████████████████▋           | 7.9 MB 36.5 MB/s eta 0:00:01\r     |████████████████████▊           | 7.9 MB 36.5 MB/s eta 0:00:01\r     |████████████████████▊           | 7.9 MB 36.5 MB/s eta 0:00:01\r     |████████████████████▊           | 7.9 MB 36.5 MB/s eta 0:00:01\r     |████████████████████▊           | 7.9 MB 36.5 MB/s eta 0:00:01\r     |████████████████████▉           | 7.9 MB 36.5 MB/s eta 0:00:01\r     |████████████████████▉           | 7.9 MB 36.5 MB/s eta 0:00:01\r     |████████████████████▉           | 7.9 MB 36.5 MB/s eta 0:00:01\r     |████████████████████▉           | 7.9 MB 36.5 MB/s eta 0:00:01\r     |████████████████████▉           | 8.0 MB 36.5 MB/s eta 0:00:01\r     |█████████████████████           | 8.0 MB 36.5 MB/s eta 0:00:01\r     |█████████████████████           | 8.0 MB 36.5 MB/s eta 0:00:01\r     |█████████████████████           | 8.0 MB 36.5 MB/s eta 0:00:01\r     |█████████████████████           | 8.0 MB 36.5 MB/s eta 0:00:01\r     |█████████████████████           | 8.0 MB 36.5 MB/s eta 0:00:01\r     |█████████████████████           | 8.0 MB 36.5 MB/s eta 0:00:01\r     |█████████████████████           | 8.0 MB 36.5 MB/s eta 0:00:01\r     |█████████████████████           | 8.0 MB 36.5 MB/s eta 0:00:01\r     |█████████████████████▏          | 8.0 MB 36.5 MB/s eta 0:00:01\r     |█████████████████████▏          | 8.1 MB 36.5 MB/s eta 0:00:01\r     |█████████████████████▏          | 8.1 MB 36.5 MB/s eta 0:00:01\r     |█████████████████████▏          | 8.1 MB 36.5 MB/s eta 0:00:01\r     |█████████████████████▎          | 8.1 MB 36.5 MB/s eta 0:00:01\r     |█████████████████████▎          | 8.1 MB 36.5 MB/s eta 0:00:01\r     |█████████████████████▎          | 8.1 MB 36.5 MB/s eta 0:00:01\r     |█████████████████████▎          | 8.1 MB 36.5 MB/s eta 0:00:01\r     |█████████████████████▍          | 8.1 MB 36.5 MB/s eta 0:00:01\r     |█████████████████████▍          | 8.1 MB 36.5 MB/s eta 0:00:01\r     |█████████████████████▍          | 8.2 MB 36.5 MB/s eta 0:00:01\r     |█████████████████████▍          | 8.2 MB 36.5 MB/s eta 0:00:01\r     |█████████████████████▌          | 8.2 MB 36.5 MB/s eta 0:00:01\r     |█████████████████████▌          | 8.2 MB 36.5 MB/s eta 0:00:01\r     |█████████████████████▌          | 8.2 MB 36.5 MB/s eta 0:00:01\r     |█████████████████████▌          | 8.2 MB 36.5 MB/s eta 0:00:01\r     |█████████████████████▋          | 8.2 MB 36.5 MB/s eta 0:00:01\r     |█████████████████████▋          | 8.2 MB 36.5 MB/s eta 0:00:01\r     |█████████████████████▋          | 8.2 MB 36.5 MB/s eta 0:00:01\r     |█████████████████████▋          | 8.2 MB 36.5 MB/s eta 0:00:01\r     |█████████████████████▊          | 8.3 MB 36.5 MB/s eta 0:00:01\r     |█████████████████████▊          | 8.3 MB 36.5 MB/s eta 0:00:01\r     |█████████████████████▊          | 8.3 MB 36.5 MB/s eta 0:00:01\r     |█████████████████████▊          | 8.3 MB 36.5 MB/s eta 0:00:01\r     |█████████████████████▊          | 8.3 MB 36.5 MB/s eta 0:00:01\r     |█████████████████████▉          | 8.3 MB 36.5 MB/s eta 0:00:01\r     |█████████████████████▉          | 8.3 MB 36.5 MB/s eta 0:00:01\r     |█████████████████████▉          | 8.3 MB 36.5 MB/s eta 0:00:01\r     |█████████████████████▉          | 8.3 MB 36.5 MB/s eta 0:00:01\r     |██████████████████████          | 8.3 MB 36.5 MB/s eta 0:00:01\r     |██████████████████████          | 8.4 MB 36.5 MB/s eta 0:00:01\r     |██████████████████████          | 8.4 MB 36.5 MB/s eta 0:00:01\r     |██████████████████████          | 8.4 MB 36.5 MB/s eta 0:00:01\r     |██████████████████████          | 8.4 MB 36.5 MB/s eta 0:00:01\r     |██████████████████████          | 8.4 MB 36.5 MB/s eta 0:00:01\r     |██████████████████████          | 8.4 MB 36.5 MB/s eta 0:00:01\r     |██████████████████████          | 8.4 MB 36.5 MB/s eta 0:00:01\r     |██████████████████████▏         | 8.4 MB 36.5 MB/s eta 0:00:01\r     |██████████████████████▏         | 8.4 MB 36.5 MB/s eta 0:00:01\r     |██████████████████████▏         | 8.4 MB 36.5 MB/s eta 0:00:01\r     |██████████████████████▏         | 8.5 MB 36.5 MB/s eta 0:00:01\r     |██████████████████████▎         | 8.5 MB 36.5 MB/s eta 0:00:01\r     |██████████████████████▎         | 8.5 MB 36.5 MB/s eta 0:00:01\r     |██████████████████████▎         | 8.5 MB 36.5 MB/s eta 0:00:01\r     |██████████████████████▎         | 8.5 MB 36.5 MB/s eta 0:00:01\r     |██████████████████████▍         | 8.5 MB 36.5 MB/s eta 0:00:01\r     |██████████████████████▍         | 8.5 MB 36.5 MB/s eta 0:00:01\r     |██████████████████████▍         | 8.5 MB 36.5 MB/s eta 0:00:01\r     |██████████████████████▍         | 8.5 MB 36.5 MB/s eta 0:00:01\r     |██████████████████████▌         | 8.6 MB 36.5 MB/s eta 0:00:01\r     |██████████████████████▌         | 8.6 MB 36.5 MB/s eta 0:00:01\r     |██████████████████████▌         | 8.6 MB 36.5 MB/s eta 0:00:01\r     |██████████████████████▌         | 8.6 MB 36.5 MB/s eta 0:00:01\r     |██████████████████████▌         | 8.6 MB 36.5 MB/s eta 0:00:01\r     |██████████████████████▋         | 8.6 MB 36.5 MB/s eta 0:00:01\r     |██████████████████████▋         | 8.6 MB 36.5 MB/s eta 0:00:01\r     |██████████████████████▋         | 8.6 MB 36.5 MB/s eta 0:00:01\r     |██████████████████████▋         | 8.6 MB 36.5 MB/s eta 0:00:01\r     |██████████████████████▊         | 8.6 MB 36.5 MB/s eta 0:00:01\r     |██████████████████████▊         | 8.7 MB 36.5 MB/s eta 0:00:01\r     |██████████████████████▊         | 8.7 MB 36.5 MB/s eta 0:00:01\r     |██████████████████████▊         | 8.7 MB 36.5 MB/s eta 0:00:01\r     |██████████████████████▉         | 8.7 MB 36.5 MB/s eta 0:00:01\r     |██████████████████████▉         | 8.7 MB 36.5 MB/s eta 0:00:01\r     |██████████████████████▉         | 8.7 MB 36.5 MB/s eta 0:00:01\r     |██████████████████████▉         | 8.7 MB 36.5 MB/s eta 0:00:01\r     |███████████████████████         | 8.7 MB 36.5 MB/s eta 0:00:01\r     |███████████████████████         | 8.7 MB 36.5 MB/s eta 0:00:01\r     |███████████████████████         | 8.7 MB 36.5 MB/s eta 0:00:01\r     |███████████████████████         | 8.8 MB 36.5 MB/s eta 0:00:01\r     |███████████████████████         | 8.8 MB 36.5 MB/s eta 0:00:01\r     |███████████████████████         | 8.8 MB 36.5 MB/s eta 0:00:01\r     |███████████████████████         | 8.8 MB 36.5 MB/s eta 0:00:01\r     |███████████████████████         | 8.8 MB 36.5 MB/s eta 0:00:01\r     |███████████████████████▏        | 8.8 MB 36.5 MB/s eta 0:00:01\r     |███████████████████████▏        | 8.8 MB 36.5 MB/s eta 0:00:01\r     |███████████████████████▏        | 8.8 MB 36.5 MB/s eta 0:00:01\r     |███████████████████████▏        | 8.8 MB 36.5 MB/s eta 0:00:01\r     |███████████████████████▎        | 8.8 MB 36.5 MB/s eta 0:00:01\r     |███████████████████████▎        | 8.9 MB 36.5 MB/s eta 0:00:01\r     |███████████████████████▎        | 8.9 MB 36.5 MB/s eta 0:00:01\r     |███████████████████████▎        | 8.9 MB 36.5 MB/s eta 0:00:01\r     |███████████████████████▍        | 8.9 MB 36.5 MB/s eta 0:00:01\r     |███████████████████████▍        | 8.9 MB 36.5 MB/s eta 0:00:01\r     |███████████████████████▍        | 8.9 MB 36.5 MB/s eta 0:00:01\r     |███████████████████████▍        | 8.9 MB 36.5 MB/s eta 0:00:01\r     |███████████████████████▍        | 8.9 MB 36.5 MB/s eta 0:00:01\r     |███████████████████████▌        | 8.9 MB 36.5 MB/s eta 0:00:01\r     |███████████████████████▌        | 8.9 MB 36.5 MB/s eta 0:00:01\r     |███████████████████████▌        | 9.0 MB 36.5 MB/s eta 0:00:01\r     |███████████████████████▌        | 9.0 MB 36.5 MB/s eta 0:00:01\r     |███████████████████████▋        | 9.0 MB 36.5 MB/s eta 0:00:01\r     |███████████████████████▋        | 9.0 MB 36.5 MB/s eta 0:00:01\r     |███████████████████████▋        | 9.0 MB 36.5 MB/s eta 0:00:01\r     |███████████████████████▋        | 9.0 MB 36.5 MB/s eta 0:00:01\r     |███████████████████████▊        | 9.0 MB 36.5 MB/s eta 0:00:01\r     |███████████████████████▊        | 9.0 MB 36.5 MB/s eta 0:00:01\r     |███████████████████████▊        | 9.0 MB 36.5 MB/s eta 0:00:01\r     |███████████████████████▊        | 9.1 MB 36.5 MB/s eta 0:00:01\r     |███████████████████████▉        | 9.1 MB 36.5 MB/s eta 0:00:01\r     |███████████████████████▉        | 9.1 MB 36.5 MB/s eta 0:00:01\r     |███████████████████████▉        | 9.1 MB 36.5 MB/s eta 0:00:01\r     |███████████████████████▉        | 9.1 MB 36.5 MB/s eta 0:00:01\r     |████████████████████████        | 9.1 MB 36.5 MB/s eta 0:00:01\r     |████████████████████████        | 9.1 MB 36.5 MB/s eta 0:00:01\r     |████████████████████████        | 9.1 MB 36.5 MB/s eta 0:00:01\r     |████████████████████████        | 9.1 MB 36.5 MB/s eta 0:00:01\r     |████████████████████████        | 9.1 MB 36.5 MB/s eta 0:00:01\r     |████████████████████████        | 9.2 MB 36.5 MB/s eta 0:00:01\r     |████████████████████████        | 9.2 MB 36.5 MB/s eta 0:00:01\r     |████████████████████████        | 9.2 MB 36.5 MB/s eta 0:00:01\r     |████████████████████████▏       | 9.2 MB 36.5 MB/s eta 0:00:01\r     |████████████████████████▏       | 9.2 MB 36.5 MB/s eta 0:00:01\r     |████████████████████████▏       | 9.2 MB 36.5 MB/s eta 0:00:01\r     |████████████████████████▏       | 9.2 MB 36.5 MB/s eta 0:00:01\r     |████████████████████████▏       | 9.2 MB 36.5 MB/s eta 0:00:01\r     |████████████████████████▎       | 9.2 MB 36.5 MB/s eta 0:00:01\r     |████████████████████████▎       | 9.2 MB 36.5 MB/s eta 0:00:01\r     |████████████████████████▎       | 9.3 MB 36.5 MB/s eta 0:00:01\r     |████████████████████████▎       | 9.3 MB 36.5 MB/s eta 0:00:01\r     |████████████████████████▍       | 9.3 MB 36.5 MB/s eta 0:00:01\r     |████████████████████████▍       | 9.3 MB 36.5 MB/s eta 0:00:01\r     |████████████████████████▍       | 9.3 MB 36.5 MB/s eta 0:00:01\r     |████████████████████████▍       | 9.3 MB 36.5 MB/s eta 0:00:01\r     |████████████████████████▌       | 9.3 MB 36.5 MB/s eta 0:00:01\r     |████████████████████████▌       | 9.3 MB 36.5 MB/s eta 0:00:01\r     |████████████████████████▌       | 9.3 MB 36.5 MB/s eta 0:00:01\r     |████████████████████████▌       | 9.3 MB 36.5 MB/s eta 0:00:01\r     |████████████████████████▋       | 9.4 MB 36.5 MB/s eta 0:00:01\r     |████████████████████████▋       | 9.4 MB 36.5 MB/s eta 0:00:01\r     |████████████████████████▋       | 9.4 MB 36.5 MB/s eta 0:00:01\r     |████████████████████████▋       | 9.4 MB 36.5 MB/s eta 0:00:01\r     |████████████████████████▊       | 9.4 MB 36.5 MB/s eta 0:00:01\r     |████████████████████████▊       | 9.4 MB 36.5 MB/s eta 0:00:01\r     |████████████████████████▊       | 9.4 MB 36.5 MB/s eta 0:00:01\r     |████████████████████████▊       | 9.4 MB 36.5 MB/s eta 0:00:01\r     |████████████████████████▉       | 9.4 MB 36.5 MB/s eta 0:00:01\r     |████████████████████████▉       | 9.5 MB 36.5 MB/s eta 0:00:01\r     |████████████████████████▉       | 9.5 MB 36.5 MB/s eta 0:00:01\r     |████████████████████████▉       | 9.5 MB 36.5 MB/s eta 0:00:01\r     |█████████████████████████       | 9.5 MB 36.5 MB/s eta 0:00:01\r     |█████████████████████████       | 9.5 MB 36.5 MB/s eta 0:00:01\r     |█████████████████████████       | 9.5 MB 36.5 MB/s eta 0:00:01\r     |█████████████████████████       | 9.5 MB 36.5 MB/s eta 0:00:01\r     |█████████████████████████       | 9.5 MB 36.5 MB/s eta 0:00:01\r     |█████████████████████████       | 9.5 MB 36.5 MB/s eta 0:00:01\r     |█████████████████████████       | 9.5 MB 36.5 MB/s eta 0:00:01\r     |█████████████████████████       | 9.6 MB 36.5 MB/s eta 0:00:01\r     |█████████████████████████       | 9.6 MB 36.5 MB/s eta 0:00:01\r     |█████████████████████████▏      | 9.6 MB 36.5 MB/s eta 0:00:01\r     |█████████████████████████▏      | 9.6 MB 36.5 MB/s eta 0:00:01\r     |█████████████████████████▏      | 9.6 MB 36.5 MB/s eta 0:00:01\r     |█████████████████████████▏      | 9.6 MB 36.5 MB/s eta 0:00:01\r     |█████████████████████████▎      | 9.6 MB 36.5 MB/s eta 0:00:01\r     |█████████████████████████▎      | 9.6 MB 36.5 MB/s eta 0:00:01\r     |█████████████████████████▎      | 9.6 MB 36.5 MB/s eta 0:00:01\r     |█████████████████████████▎      | 9.6 MB 36.5 MB/s eta 0:00:01\r     |█████████████████████████▍      | 9.7 MB 36.5 MB/s eta 0:00:01\r     |█████████████████████████▍      | 9.7 MB 36.5 MB/s eta 0:00:01\r     |█████████████████████████▍      | 9.7 MB 36.5 MB/s eta 0:00:01\r     |█████████████████████████▍      | 9.7 MB 36.5 MB/s eta 0:00:01\r     |█████████████████████████▌      | 9.7 MB 36.5 MB/s eta 0:00:01\r     |█████████████████████████▌      | 9.7 MB 36.5 MB/s eta 0:00:01\r     |█████████████████████████▌      | 9.7 MB 36.5 MB/s eta 0:00:01\r     |█████████████████████████▌      | 9.7 MB 36.5 MB/s eta 0:00:01\r     |█████████████████████████▋      | 9.7 MB 36.5 MB/s eta 0:00:01\r     |█████████████████████████▋      | 9.7 MB 36.5 MB/s eta 0:00:01\r     |█████████████████████████▋      | 9.8 MB 36.5 MB/s eta 0:00:01\r     |█████████████████████████▋      | 9.8 MB 36.5 MB/s eta 0:00:01\r     |█████████████████████████▊      | 9.8 MB 36.5 MB/s eta 0:00:01\r     |█████████████████████████▊      | 9.8 MB 36.5 MB/s eta 0:00:01\r     |█████████████████████████▊      | 9.8 MB 36.5 MB/s eta 0:00:01\r     |█████████████████████████▊      | 9.8 MB 36.5 MB/s eta 0:00:01\r     |█████████████████████████▉      | 9.8 MB 36.5 MB/s eta 0:00:01\r     |█████████████████████████▉      | 9.8 MB 36.5 MB/s eta 0:00:01\r     |█████████████████████████▉      | 9.8 MB 36.5 MB/s eta 0:00:01\r     |█████████████████████████▉      | 9.9 MB 36.5 MB/s eta 0:00:01\r     |█████████████████████████▉      | 9.9 MB 36.5 MB/s eta 0:00:01\r     |██████████████████████████      | 9.9 MB 36.5 MB/s eta 0:00:01\r     |██████████████████████████      | 9.9 MB 36.5 MB/s eta 0:00:01\r     |██████████████████████████      | 9.9 MB 36.5 MB/s eta 0:00:01\r     |██████████████████████████      | 9.9 MB 36.5 MB/s eta 0:00:01\r     |██████████████████████████      | 9.9 MB 36.5 MB/s eta 0:00:01\r     |██████████████████████████      | 9.9 MB 36.5 MB/s eta 0:00:01\r     |██████████████████████████      | 9.9 MB 36.5 MB/s eta 0:00:01\r     |██████████████████████████      | 9.9 MB 36.5 MB/s eta 0:00:01\r     |██████████████████████████▏     | 10.0 MB 36.5 MB/s eta 0:00:01\r     |██████████████████████████▏     | 10.0 MB 36.5 MB/s eta 0:00:01\r     |██████████████████████████▏     | 10.0 MB 36.5 MB/s eta 0:00:01\r     |██████████████████████████▏     | 10.0 MB 36.5 MB/s eta 0:00:01\r     |██████████████████████████▎     | 10.0 MB 36.5 MB/s eta 0:00:01\r     |██████████████████████████▎     | 10.0 MB 36.5 MB/s eta 0:00:01\r     |██████████████████████████▎     | 10.0 MB 36.5 MB/s eta 0:00:01\r     |██████████████████████████▎     | 10.0 MB 36.5 MB/s eta 0:00:01\r     |██████████████████████████▍     | 10.0 MB 36.5 MB/s eta 0:00:01\r     |██████████████████████████▍     | 10.0 MB 36.5 MB/s eta 0:00:01\r     |██████████████████████████▍     | 10.1 MB 36.5 MB/s eta 0:00:01\r     |██████████████████████████▍     | 10.1 MB 36.5 MB/s eta 0:00:01\r     |██████████████████████████▌     | 10.1 MB 36.5 MB/s eta 0:00:01\r     |██████████████████████████▌     | 10.1 MB 36.5 MB/s eta 0:00:01\r     |██████████████████████████▌     | 10.1 MB 36.5 MB/s eta 0:00:01\r     |██████████████████████████▌     | 10.1 MB 36.5 MB/s eta 0:00:01\r     |██████████████████████████▋     | 10.1 MB 36.5 MB/s eta 0:00:01\r     |██████████████████████████▋     | 10.1 MB 36.5 MB/s eta 0:00:01\r     |██████████████████████████▋     | 10.1 MB 36.5 MB/s eta 0:00:01\r     |██████████████████████████▋     | 10.1 MB 36.5 MB/s eta 0:00:01\r     |██████████████████████████▊     | 10.2 MB 36.5 MB/s eta 0:00:01\r     |██████████████████████████▊     | 10.2 MB 36.5 MB/s eta 0:00:01\r     |██████████████████████████▊     | 10.2 MB 36.5 MB/s eta 0:00:01\r     |██████████████████████████▊     | 10.2 MB 36.5 MB/s eta 0:00:01\r     |██████████████████████████▊     | 10.2 MB 36.5 MB/s eta 0:00:01\r     |██████████████████████████▉     | 10.2 MB 36.5 MB/s eta 0:00:01\r     |██████████████████████████▉     | 10.2 MB 36.5 MB/s eta 0:00:01\r     |██████████████████████████▉     | 10.2 MB 36.5 MB/s eta 0:00:01\r     |██████████████████████████▉     | 10.2 MB 36.5 MB/s eta 0:00:01\r     |███████████████████████████     | 10.3 MB 36.5 MB/s eta 0:00:01\r     |███████████████████████████     | 10.3 MB 36.5 MB/s eta 0:00:01\r     |███████████████████████████     | 10.3 MB 36.5 MB/s eta 0:00:01\r     |███████████████████████████     | 10.3 MB 36.5 MB/s eta 0:00:01\r     |███████████████████████████     | 10.3 MB 36.5 MB/s eta 0:00:01\r     |███████████████████████████     | 10.3 MB 36.5 MB/s eta 0:00:01\r     |███████████████████████████     | 10.3 MB 36.5 MB/s eta 0:00:01\r     |███████████████████████████     | 10.3 MB 36.5 MB/s eta 0:00:01\r     |███████████████████████████▏    | 10.3 MB 36.5 MB/s eta 0:00:01\r     |███████████████████████████▏    | 10.3 MB 36.5 MB/s eta 0:00:01\r     |███████████████████████████▏    | 10.4 MB 36.5 MB/s eta 0:00:01\r     |███████████████████████████▏    | 10.4 MB 36.5 MB/s eta 0:00:01\r     |███████████████████████████▎    | 10.4 MB 36.5 MB/s eta 0:00:01\r     |███████████████████████████▎    | 10.4 MB 36.5 MB/s eta 0:00:01\r     |███████████████████████████▎    | 10.4 MB 36.5 MB/s eta 0:00:01\r     |███████████████████████████▎    | 10.4 MB 36.5 MB/s eta 0:00:01\r     |███████████████████████████▍    | 10.4 MB 36.5 MB/s eta 0:00:01\r     |███████████████████████████▍    | 10.4 MB 36.5 MB/s eta 0:00:01\r     |███████████████████████████▍    | 10.4 MB 36.5 MB/s eta 0:00:01\r     |███████████████████████████▍    | 10.4 MB 36.5 MB/s eta 0:00:01\r     |███████████████████████████▌    | 10.5 MB 36.5 MB/s eta 0:00:01\r     |███████████████████████████▌    | 10.5 MB 36.5 MB/s eta 0:00:01\r     |███████████████████████████▌    | 10.5 MB 36.5 MB/s eta 0:00:01\r     |███████████████████████████▌    | 10.5 MB 36.5 MB/s eta 0:00:01\r     |███████████████████████████▌    | 10.5 MB 36.5 MB/s eta 0:00:01\r     |███████████████████████████▋    | 10.5 MB 36.5 MB/s eta 0:00:01\r     |███████████████████████████▋    | 10.5 MB 36.5 MB/s eta 0:00:01\r     |███████████████████████████▋    | 10.5 MB 36.5 MB/s eta 0:00:01\r     |███████████████████████████▋    | 10.5 MB 36.5 MB/s eta 0:00:01\r     |███████████████████████████▊    | 10.5 MB 36.5 MB/s eta 0:00:01\r     |███████████████████████████▊    | 10.6 MB 36.5 MB/s eta 0:00:01\r     |███████████████████████████▊    | 10.6 MB 36.5 MB/s eta 0:00:01\r     |███████████████████████████▊    | 10.6 MB 36.5 MB/s eta 0:00:01\r     |███████████████████████████▉    | 10.6 MB 36.5 MB/s eta 0:00:01\r     |███████████████████████████▉    | 10.6 MB 36.5 MB/s eta 0:00:01\r     |███████████████████████████▉    | 10.6 MB 36.5 MB/s eta 0:00:01\r     |███████████████████████████▉    | 10.6 MB 36.5 MB/s eta 0:00:01\r     |████████████████████████████    | 10.6 MB 36.5 MB/s eta 0:00:01\r     |████████████████████████████    | 10.6 MB 36.5 MB/s eta 0:00:01\r     |████████████████████████████    | 10.6 MB 36.5 MB/s eta 0:00:01\r     |████████████████████████████    | 10.7 MB 36.5 MB/s eta 0:00:01\r     |████████████████████████████    | 10.7 MB 36.5 MB/s eta 0:00:01\r     |████████████████████████████    | 10.7 MB 36.5 MB/s eta 0:00:01\r     |████████████████████████████    | 10.7 MB 36.5 MB/s eta 0:00:01\r     |████████████████████████████    | 10.7 MB 36.5 MB/s eta 0:00:01\r     |████████████████████████████▏   | 10.7 MB 36.5 MB/s eta 0:00:01\r     |████████████████████████████▏   | 10.7 MB 36.5 MB/s eta 0:00:01\r     |████████████████████████████▏   | 10.7 MB 36.5 MB/s eta 0:00:01\r     |████████████████████████████▏   | 10.7 MB 36.5 MB/s eta 0:00:01\r     |████████████████████████████▎   | 10.8 MB 36.5 MB/s eta 0:00:01\r     |████████████████████████████▎   | 10.8 MB 36.5 MB/s eta 0:00:01\r     |████████████████████████████▎   | 10.8 MB 36.5 MB/s eta 0:00:01\r     |████████████████████████████▎   | 10.8 MB 36.5 MB/s eta 0:00:01\r     |████████████████████████████▍   | 10.8 MB 36.5 MB/s eta 0:00:01\r     |████████████████████████████▍   | 10.8 MB 36.5 MB/s eta 0:00:01\r     |████████████████████████████▍   | 10.8 MB 36.5 MB/s eta 0:00:01\r     |████████████████████████████▍   | 10.8 MB 36.5 MB/s eta 0:00:01\r     |████████████████████████████▍   | 10.8 MB 36.5 MB/s eta 0:00:01\r     |████████████████████████████▌   | 10.8 MB 36.5 MB/s eta 0:00:01\r     |████████████████████████████▌   | 10.9 MB 36.5 MB/s eta 0:00:01\r     |████████████████████████████▌   | 10.9 MB 36.5 MB/s eta 0:00:01\r     |████████████████████████████▌   | 10.9 MB 36.5 MB/s eta 0:00:01\r     |████████████████████████████▋   | 10.9 MB 36.5 MB/s eta 0:00:01\r     |████████████████████████████▋   | 10.9 MB 36.5 MB/s eta 0:00:01\r     |████████████████████████████▋   | 10.9 MB 36.5 MB/s eta 0:00:01\r     |████████████████████████████▋   | 10.9 MB 36.5 MB/s eta 0:00:01\r     |████████████████████████████▊   | 10.9 MB 36.5 MB/s eta 0:00:01\r     |████████████████████████████▊   | 10.9 MB 36.5 MB/s eta 0:00:01\r     |████████████████████████████▊   | 10.9 MB 36.5 MB/s eta 0:00:01\r     |████████████████████████████▊   | 11.0 MB 36.5 MB/s eta 0:00:01\r     |████████████████████████████▉   | 11.0 MB 36.5 MB/s eta 0:00:01\r     |████████████████████████████▉   | 11.0 MB 36.5 MB/s eta 0:00:01\r     |████████████████████████████▉   | 11.0 MB 36.5 MB/s eta 0:00:01\r     |████████████████████████████▉   | 11.0 MB 36.5 MB/s eta 0:00:01\r     |█████████████████████████████   | 11.0 MB 36.5 MB/s eta 0:00:01\r     |█████████████████████████████   | 11.0 MB 36.5 MB/s eta 0:00:01\r     |█████████████████████████████   | 11.0 MB 36.5 MB/s eta 0:00:01\r     |█████████████████████████████   | 11.0 MB 36.5 MB/s eta 0:00:01\r     |█████████████████████████████   | 11.0 MB 36.5 MB/s eta 0:00:01\r     |█████████████████████████████   | 11.1 MB 36.5 MB/s eta 0:00:01\r     |█████████████████████████████   | 11.1 MB 36.5 MB/s eta 0:00:01\r     |█████████████████████████████   | 11.1 MB 36.5 MB/s eta 0:00:01\r     |█████████████████████████████▏  | 11.1 MB 36.5 MB/s eta 0:00:01\r     |█████████████████████████████▏  | 11.1 MB 36.5 MB/s eta 0:00:01\r     |█████████████████████████████▏  | 11.1 MB 36.5 MB/s eta 0:00:01\r     |█████████████████████████████▏  | 11.1 MB 36.5 MB/s eta 0:00:01\r     |█████████████████████████████▏  | 11.1 MB 36.5 MB/s eta 0:00:01\r     |█████████████████████████████▎  | 11.1 MB 36.5 MB/s eta 0:00:01\r     |█████████████████████████████▎  | 11.2 MB 36.5 MB/s eta 0:00:01\r     |█████████████████████████████▎  | 11.2 MB 36.5 MB/s eta 0:00:01\r     |█████████████████████████████▎  | 11.2 MB 36.5 MB/s eta 0:00:01\r     |█████████████████████████████▍  | 11.2 MB 36.5 MB/s eta 0:00:01\r     |█████████████████████████████▍  | 11.2 MB 36.5 MB/s eta 0:00:01\r     |█████████████████████████████▍  | 11.2 MB 36.5 MB/s eta 0:00:01\r     |█████████████████████████████▍  | 11.2 MB 36.5 MB/s eta 0:00:01\r     |█████████████████████████████▌  | 11.2 MB 36.5 MB/s eta 0:00:01\r     |█████████████████████████████▌  | 11.2 MB 36.5 MB/s eta 0:00:01\r     |█████████████████████████████▌  | 11.2 MB 36.5 MB/s eta 0:00:01\r     |█████████████████████████████▌  | 11.3 MB 36.5 MB/s eta 0:00:01\r     |█████████████████████████████▋  | 11.3 MB 36.5 MB/s eta 0:00:01\r     |█████████████████████████████▋  | 11.3 MB 36.5 MB/s eta 0:00:01\r     |█████████████████████████████▋  | 11.3 MB 36.5 MB/s eta 0:00:01\r     |█████████████████████████████▋  | 11.3 MB 36.5 MB/s eta 0:00:01\r     |█████████████████████████████▊  | 11.3 MB 36.5 MB/s eta 0:00:01\r     |█████████████████████████████▊  | 11.3 MB 36.5 MB/s eta 0:00:01\r     |█████████████████████████████▊  | 11.3 MB 36.5 MB/s eta 0:00:01\r     |█████████████████████████████▊  | 11.3 MB 36.5 MB/s eta 0:00:01\r     |█████████████████████████████▉  | 11.3 MB 36.5 MB/s eta 0:00:01\r     |█████████████████████████████▉  | 11.4 MB 36.5 MB/s eta 0:00:01\r     |█████████████████████████████▉  | 11.4 MB 36.5 MB/s eta 0:00:01\r     |█████████████████████████████▉  | 11.4 MB 36.5 MB/s eta 0:00:01\r     |██████████████████████████████  | 11.4 MB 36.5 MB/s eta 0:00:01\r     |██████████████████████████████  | 11.4 MB 36.5 MB/s eta 0:00:01\r     |██████████████████████████████  | 11.4 MB 36.5 MB/s eta 0:00:01\r     |██████████████████████████████  | 11.4 MB 36.5 MB/s eta 0:00:01\r     |██████████████████████████████  | 11.4 MB 36.5 MB/s eta 0:00:01\r     |██████████████████████████████  | 11.4 MB 36.5 MB/s eta 0:00:01\r     |██████████████████████████████  | 11.4 MB 36.5 MB/s eta 0:00:01\r     |██████████████████████████████  | 11.5 MB 36.5 MB/s eta 0:00:01\r     |██████████████████████████████  | 11.5 MB 36.5 MB/s eta 0:00:01\r     |██████████████████████████████▏ | 11.5 MB 36.5 MB/s eta 0:00:01\r     |██████████████████████████████▏ | 11.5 MB 36.5 MB/s eta 0:00:01\r     |██████████████████████████████▏ | 11.5 MB 36.5 MB/s eta 0:00:01\r     |██████████████████████████████▏ | 11.5 MB 36.5 MB/s eta 0:00:01\r     |██████████████████████████████▎ | 11.5 MB 36.5 MB/s eta 0:00:01\r     |██████████████████████████████▎ | 11.5 MB 36.5 MB/s eta 0:00:01\r     |██████████████████████████████▎ | 11.5 MB 36.5 MB/s eta 0:00:01\r     |██████████████████████████████▎ | 11.6 MB 36.5 MB/s eta 0:00:01\r     |██████████████████████████████▍ | 11.6 MB 36.5 MB/s eta 0:00:01\r     |██████████████████████████████▍ | 11.6 MB 36.5 MB/s eta 0:00:01\r     |██████████████████████████████▍ | 11.6 MB 36.5 MB/s eta 0:00:01\r     |██████████████████████████████▍ | 11.6 MB 36.5 MB/s eta 0:00:01\r     |██████████████████████████████▌ | 11.6 MB 36.5 MB/s eta 0:00:01\r     |██████████████████████████████▌ | 11.6 MB 36.5 MB/s eta 0:00:01\r     |██████████████████████████████▌ | 11.6 MB 36.5 MB/s eta 0:00:01\r     |██████████████████████████████▌ | 11.6 MB 36.5 MB/s eta 0:00:01\r     |██████████████████████████████▋ | 11.6 MB 36.5 MB/s eta 0:00:01\r     |██████████████████████████████▋ | 11.7 MB 36.5 MB/s eta 0:00:01\r     |██████████████████████████████▋ | 11.7 MB 36.5 MB/s eta 0:00:01\r     |██████████████████████████████▋ | 11.7 MB 36.5 MB/s eta 0:00:01\r     |██████████████████████████████▊ | 11.7 MB 36.5 MB/s eta 0:00:01\r     |██████████████████████████████▊ | 11.7 MB 36.5 MB/s eta 0:00:01\r     |██████████████████████████████▊ | 11.7 MB 36.5 MB/s eta 0:00:01\r     |██████████████████████████████▊ | 11.7 MB 36.5 MB/s eta 0:00:01\r     |██████████████████████████████▉ | 11.7 MB 36.5 MB/s eta 0:00:01\r     |██████████████████████████████▉ | 11.7 MB 36.5 MB/s eta 0:00:01\r     |██████████████████████████████▉ | 11.7 MB 36.5 MB/s eta 0:00:01\r     |██████████████████████████████▉ | 11.8 MB 36.5 MB/s eta 0:00:01\r     |██████████████████████████████▉ | 11.8 MB 36.5 MB/s eta 0:00:01\r     |███████████████████████████████ | 11.8 MB 36.5 MB/s eta 0:00:01\r     |███████████████████████████████ | 11.8 MB 36.5 MB/s eta 0:00:01\r     |███████████████████████████████ | 11.8 MB 36.5 MB/s eta 0:00:01\r     |███████████████████████████████ | 11.8 MB 36.5 MB/s eta 0:00:01\r     |███████████████████████████████ | 11.8 MB 36.5 MB/s eta 0:00:01\r     |███████████████████████████████ | 11.8 MB 36.5 MB/s eta 0:00:01\r     |███████████████████████████████ | 11.8 MB 36.5 MB/s eta 0:00:01\r     |███████████████████████████████ | 11.8 MB 36.5 MB/s eta 0:00:01\r     |███████████████████████████████▏| 11.9 MB 36.5 MB/s eta 0:00:01\r     |███████████████████████████████▏| 11.9 MB 36.5 MB/s eta 0:00:01\r     |███████████████████████████████▏| 11.9 MB 36.5 MB/s eta 0:00:01\r     |███████████████████████████████▏| 11.9 MB 36.5 MB/s eta 0:00:01\r     |███████████████████████████████▎| 11.9 MB 36.5 MB/s eta 0:00:01\r     |███████████████████████████████▎| 11.9 MB 36.5 MB/s eta 0:00:01\r     |███████████████████████████████▎| 11.9 MB 36.5 MB/s eta 0:00:01\r     |███████████████████████████████▎| 11.9 MB 36.5 MB/s eta 0:00:01\r     |███████████████████████████████▍| 11.9 MB 36.5 MB/s eta 0:00:01\r     |███████████████████████████████▍| 12.0 MB 36.5 MB/s eta 0:00:01\r     |███████████████████████████████▍| 12.0 MB 36.5 MB/s eta 0:00:01\r     |███████████████████████████████▍| 12.0 MB 36.5 MB/s eta 0:00:01\r     |███████████████████████████████▌| 12.0 MB 36.5 MB/s eta 0:00:01\r     |███████████████████████████████▌| 12.0 MB 36.5 MB/s eta 0:00:01\r     |███████████████████████████████▌| 12.0 MB 36.5 MB/s eta 0:00:01\r     |███████████████████████████████▌| 12.0 MB 36.5 MB/s eta 0:00:01\r     |███████████████████████████████▋| 12.0 MB 36.5 MB/s eta 0:00:01\r     |███████████████████████████████▋| 12.0 MB 36.5 MB/s eta 0:00:01\r     |███████████████████████████████▋| 12.0 MB 36.5 MB/s eta 0:00:01\r     |███████████████████████████████▋| 12.1 MB 36.5 MB/s eta 0:00:01\r     |███████████████████████████████▊| 12.1 MB 36.5 MB/s eta 0:00:01\r     |███████████████████████████████▊| 12.1 MB 36.5 MB/s eta 0:00:01\r     |███████████████████████████████▊| 12.1 MB 36.5 MB/s eta 0:00:01\r     |███████████████████████████████▊| 12.1 MB 36.5 MB/s eta 0:00:01\r     |███████████████████████████████▊| 12.1 MB 36.5 MB/s eta 0:00:01\r     |███████████████████████████████▉| 12.1 MB 36.5 MB/s eta 0:00:01\r     |███████████████████████████████▉| 12.1 MB 36.5 MB/s eta 0:00:01\r     |███████████████████████████████▉| 12.1 MB 36.5 MB/s eta 0:00:01\r     |███████████████████████████████▉| 12.1 MB 36.5 MB/s eta 0:00:01\r     |████████████████████████████████| 12.2 MB 36.5 MB/s eta 0:00:01\r     |████████████████████████████████| 12.2 MB 36.5 MB/s eta 0:00:01\r     |████████████████████████████████| 12.2 MB 36.5 MB/s eta 0:00:01\r     |████████████████████████████████| 12.2 MB 36.5 MB/s eta 0:00:01\r     |████████████████████████████████| 12.2 MB 36.5 MB/s            \r\n",
      "\u001b[?25hRequirement already satisfied: pytz>=2020.1 in /opt/python/envs/default/lib/python3.8/site-packages (from pandas==1.5.3) (2022.7.1)\r\n",
      "Requirement already satisfied: numpy>=1.20.3 in /opt/python/envs/default/lib/python3.8/site-packages (from pandas==1.5.3) (1.21.5)\r\n",
      "Requirement already satisfied: python-dateutil>=2.8.1 in /opt/python/envs/default/lib/python3.8/site-packages (from pandas==1.5.3) (2.8.2)\r\n",
      "Requirement already satisfied: six>=1.5 in /opt/python/envs/default/lib/python3.8/site-packages (from python-dateutil>=2.8.1->pandas==1.5.3) (1.16.0)\r\n",
      "Installing collected packages: pandas\r\n",
      "  Attempting uninstall: pandas\r\n",
      "    Found existing installation: pandas 1.3.5\r\n",
      "    Uninstalling pandas-1.3.5:\r\n",
      "      Successfully uninstalled pandas-1.3.5\r\n",
      "Successfully installed pandas-1.5.3\r\n",
      "\u001b[33mWARNING: You are using pip version 21.3.1; however, version 23.0 is available.\r\n",
      "You should consider upgrading via the '/opt/python/envs/default/bin/python -m pip install --upgrade pip' command.\u001b[0m\r\n"
     ]
    }
   ],
   "source": [
    "!pip install pandas==1.5.3"
   ]
  },
  {
   "cell_type": "code",
   "execution_count": 75,
   "metadata": {
    "datalore": {
     "hide_input_from_viewers": false,
     "hide_output_from_viewers": false,
     "node_id": "c5r0xkNtmjMYQ99oXXmCFv",
     "type": "CODE"
    }
   },
   "outputs": [],
   "source": [
    "import pandas as pd"
   ]
  },
  {
   "cell_type": "code",
   "execution_count": 76,
   "metadata": {
    "datalore": {
     "hide_input_from_viewers": false,
     "hide_output_from_viewers": false,
     "node_id": "QUD8cKg4UZsNGqOr0f567Q",
     "type": "CODE"
    }
   },
   "outputs": [],
   "source": [
    "df = pd.DataFrame(book_data)"
   ]
  },
  {
   "cell_type": "code",
   "execution_count": 77,
   "metadata": {
    "datalore": {
     "hide_input_from_viewers": false,
     "hide_output_from_viewers": false,
     "node_id": "ItaDpcN4NLE6UuAsAI50p2",
     "type": "CODE"
    }
   },
   "outputs": [
    {
     "data": {
      "text/html": [
       "<div>\n",
       "<style scoped>\n",
       "    .dataframe tbody tr th:only-of-type {\n",
       "        vertical-align: middle;\n",
       "    }\n",
       "\n",
       "    .dataframe tbody tr th {\n",
       "        vertical-align: top;\n",
       "    }\n",
       "\n",
       "    .dataframe thead th {\n",
       "        text-align: right;\n",
       "    }\n",
       "</style>\n",
       "<table border=\"1\" class=\"dataframe\">\n",
       "  <thead>\n",
       "    <tr style=\"text-align: right;\">\n",
       "      <th></th>\n",
       "      <th>title</th>\n",
       "      <th>price</th>\n",
       "      <th>rating</th>\n",
       "    </tr>\n",
       "  </thead>\n",
       "  <tbody>\n",
       "    <tr>\n",
       "      <th>0</th>\n",
       "      <td>A Light in the Attic</td>\n",
       "      <td>51.77</td>\n",
       "      <td>3</td>\n",
       "    </tr>\n",
       "    <tr>\n",
       "      <th>1</th>\n",
       "      <td>Tipping the Velvet</td>\n",
       "      <td>53.74</td>\n",
       "      <td>1</td>\n",
       "    </tr>\n",
       "    <tr>\n",
       "      <th>2</th>\n",
       "      <td>Soumission</td>\n",
       "      <td>50.10</td>\n",
       "      <td>1</td>\n",
       "    </tr>\n",
       "    <tr>\n",
       "      <th>3</th>\n",
       "      <td>Sharp Objects</td>\n",
       "      <td>47.82</td>\n",
       "      <td>4</td>\n",
       "    </tr>\n",
       "    <tr>\n",
       "      <th>4</th>\n",
       "      <td>Sapiens: A Brief History of Humankind</td>\n",
       "      <td>54.23</td>\n",
       "      <td>5</td>\n",
       "    </tr>\n",
       "    <tr>\n",
       "      <th>5</th>\n",
       "      <td>The Requiem Red</td>\n",
       "      <td>22.65</td>\n",
       "      <td>1</td>\n",
       "    </tr>\n",
       "    <tr>\n",
       "      <th>6</th>\n",
       "      <td>The Dirty Little Secrets of Getting Your Dream...</td>\n",
       "      <td>33.34</td>\n",
       "      <td>4</td>\n",
       "    </tr>\n",
       "    <tr>\n",
       "      <th>7</th>\n",
       "      <td>The Coming Woman: A Novel Based on the Life of...</td>\n",
       "      <td>17.93</td>\n",
       "      <td>3</td>\n",
       "    </tr>\n",
       "    <tr>\n",
       "      <th>8</th>\n",
       "      <td>The Boys in the Boat: Nine Americans and Their...</td>\n",
       "      <td>22.60</td>\n",
       "      <td>4</td>\n",
       "    </tr>\n",
       "    <tr>\n",
       "      <th>9</th>\n",
       "      <td>The Black Maria</td>\n",
       "      <td>52.15</td>\n",
       "      <td>1</td>\n",
       "    </tr>\n",
       "    <tr>\n",
       "      <th>10</th>\n",
       "      <td>Starving Hearts (Triangular Trade Trilogy, #1)</td>\n",
       "      <td>13.99</td>\n",
       "      <td>2</td>\n",
       "    </tr>\n",
       "    <tr>\n",
       "      <th>11</th>\n",
       "      <td>Shakespeare's Sonnets</td>\n",
       "      <td>20.66</td>\n",
       "      <td>4</td>\n",
       "    </tr>\n",
       "    <tr>\n",
       "      <th>12</th>\n",
       "      <td>Set Me Free</td>\n",
       "      <td>17.46</td>\n",
       "      <td>5</td>\n",
       "    </tr>\n",
       "    <tr>\n",
       "      <th>13</th>\n",
       "      <td>Scott Pilgrim's Precious Little Life (Scott Pi...</td>\n",
       "      <td>52.29</td>\n",
       "      <td>5</td>\n",
       "    </tr>\n",
       "    <tr>\n",
       "      <th>14</th>\n",
       "      <td>Rip it Up and Start Again</td>\n",
       "      <td>35.02</td>\n",
       "      <td>5</td>\n",
       "    </tr>\n",
       "    <tr>\n",
       "      <th>15</th>\n",
       "      <td>Our Band Could Be Your Life: Scenes from the A...</td>\n",
       "      <td>57.25</td>\n",
       "      <td>3</td>\n",
       "    </tr>\n",
       "    <tr>\n",
       "      <th>16</th>\n",
       "      <td>Olio</td>\n",
       "      <td>23.88</td>\n",
       "      <td>1</td>\n",
       "    </tr>\n",
       "    <tr>\n",
       "      <th>17</th>\n",
       "      <td>Mesaerion: The Best Science Fiction Stories 18...</td>\n",
       "      <td>37.59</td>\n",
       "      <td>1</td>\n",
       "    </tr>\n",
       "    <tr>\n",
       "      <th>18</th>\n",
       "      <td>Libertarianism for Beginners</td>\n",
       "      <td>51.33</td>\n",
       "      <td>2</td>\n",
       "    </tr>\n",
       "    <tr>\n",
       "      <th>19</th>\n",
       "      <td>It's Only the Himalayas</td>\n",
       "      <td>45.17</td>\n",
       "      <td>2</td>\n",
       "    </tr>\n",
       "  </tbody>\n",
       "</table>\n",
       "</div>"
      ]
     },
     "metadata": {},
     "output_type": "display_data"
    }
   ],
   "source": [
    "df"
   ]
  },
  {
   "cell_type": "code",
   "execution_count": 78,
   "metadata": {
    "datalore": {
     "hide_input_from_viewers": false,
     "hide_output_from_viewers": false,
     "node_id": "bIckvGUYo65eUkLBLpaTVl",
     "type": "CODE"
    }
   },
   "outputs": [
    {
     "data": {
      "text/plain": [
       "38.048500000000004"
      ]
     },
     "metadata": {},
     "output_type": "display_data"
    }
   ],
   "source": [
    "df.price.mean()"
   ]
  },
  {
   "cell_type": "code",
   "execution_count": 81,
   "metadata": {
    "datalore": {
     "hide_input_from_viewers": false,
     "hide_output_from_viewers": false,
     "node_id": "8kk0ELwS3zXatWJgtx9kFc",
     "type": "CODE"
    }
   },
   "outputs": [
    {
     "data": {
      "text/html": [
       "<pre>7     The Coming Woman: A Novel Based on the Life of...\n",
       "10       Starving Hearts (Triangular Trade Trilogy, #1)\n",
       "12                                          Set Me Free\n",
       "Name: title, dtype: object</pre>"
      ]
     },
     "metadata": {},
     "output_type": "display_data"
    }
   ],
   "source": [
    "df[df.price < 20].title"
   ]
  },
  {
   "cell_type": "code",
   "execution_count": 84,
   "metadata": {
    "datalore": {
     "hide_input_from_viewers": false,
     "hide_output_from_viewers": false,
     "node_id": "ilnQh0e5ae6uLqOH3ZTylR",
     "type": "CODE"
    }
   },
   "outputs": [],
   "source": [
    "df.to_csv(\"book.csv\", index=False)"
   ]
  },
  {
   "cell_type": "code",
   "execution_count": 85,
   "metadata": {
    "datalore": {
     "hide_input_from_viewers": false,
     "hide_output_from_viewers": false,
     "node_id": "kvBWL13dzxfmGTFOiPBTvp",
     "type": "CODE"
    }
   },
   "outputs": [],
   "source": [
    "df.to_json(\"books.json\", orient=\"records\")"
   ]
  },
  {
   "attachments": {},
   "cell_type": "markdown",
   "metadata": {
    "datalore": {
     "hide_input_from_viewers": false,
     "hide_output_from_viewers": false,
     "node_id": "92ACMLmSibKvCNeKaNg8By",
     "type": "MD"
    }
   },
   "source": [
    "# Functional Search Patterns"
   ]
  },
  {
   "cell_type": "code",
   "execution_count": 89,
   "metadata": {
    "datalore": {
     "hide_input_from_viewers": false,
     "hide_output_from_viewers": false,
     "node_id": "q07hPIywwFVn2MN1Mtjvqb",
     "type": "CODE"
    }
   },
   "outputs": [
    {
     "data": {
      "text/plain": [
       "[<div id=\"messages\">\n",
       " </div>]"
      ]
     },
     "metadata": {},
     "output_type": "display_data"
    }
   ],
   "source": [
    "soup.find_all(id=\"messages\")"
   ]
  },
  {
   "cell_type": "code",
   "execution_count": 90,
   "metadata": {
    "datalore": {
     "hide_input_from_viewers": false,
     "hide_output_from_viewers": false,
     "node_id": "oGKn5KPstEyn2uPtrHa2po",
     "type": "CODE"
    }
   },
   "outputs": [
    {
     "data": {
      "text/plain": [
       "[<div id=\"messages\">\n",
       " </div>]"
      ]
     },
     "metadata": {},
     "output_type": "display_data"
    }
   ],
   "source": [
    "soup.find_all(attrs={\"id\": \"messages\"})"
   ]
  },
  {
   "cell_type": "code",
   "execution_count": 92,
   "metadata": {
    "datalore": {
     "hide_input_from_viewers": false,
     "hide_output_from_viewers": false,
     "node_id": "AA7Fc97Lz60tWkAxYfgPbW",
     "type": "CODE"
    }
   },
   "outputs": [
    {
     "data": {
      "text/plain": [
       "4"
      ]
     },
     "metadata": {},
     "output_type": "display_data"
    }
   ],
   "source": [
    "len(soup.find_all(attrs={\"id\": lambda x: x is not None}))"
   ]
  },
  {
   "cell_type": "code",
   "execution_count": 93,
   "metadata": {
    "datalore": {
     "hide_input_from_viewers": false,
     "hide_output_from_viewers": false,
     "node_id": "mSrO9PckqnkudrkWTdhnWi",
     "type": "CODE"
    }
   },
   "outputs": [
    {
     "data": {
      "text/plain": [
       "4"
      ]
     },
     "metadata": {},
     "output_type": "display_data"
    }
   ],
   "source": [
    "len(soup.find_all(id=lambda x: x is not None))"
   ]
  },
  {
   "cell_type": "code",
   "execution_count": 95,
   "metadata": {
    "datalore": {
     "hide_input_from_viewers": false,
     "hide_output_from_viewers": false,
     "node_id": "KFtgl179z2SSzOusTGonrV",
     "type": "CODE"
    }
   },
   "outputs": [
    {
     "data": {
      "text/plain": [
       "4"
      ]
     },
     "metadata": {},
     "output_type": "display_data"
    }
   ],
   "source": [
    "len(soup.find_all(lambda x: x.has_attr(\"id\")))"
   ]
  },
  {
   "cell_type": "code",
   "execution_count": 97,
   "metadata": {
    "datalore": {
     "hide_input_from_viewers": false,
     "hide_output_from_viewers": false,
     "node_id": "7HfZwYZAejpMPFkgAM3Xef",
     "type": "CODE"
    }
   },
   "outputs": [],
   "source": [
    "def fiction_category_anchor(tag):\n",
    "    return tag.name == \"a\" and \"category\" in tag[\"href\"] and \"Fiction\" in tag.text"
   ]
  },
  {
   "cell_type": "code",
   "execution_count": 99,
   "metadata": {
    "datalore": {
     "hide_input_from_viewers": false,
     "hide_output_from_viewers": false,
     "node_id": "YaZzkyyQPUKJkbTAWpCNxw",
     "type": "CODE"
    }
   },
   "outputs": [
    {
     "data": {
      "text/plain": [
       "6"
      ]
     },
     "metadata": {},
     "output_type": "display_data"
    }
   ],
   "source": [
    "len(soup.find_all(fiction_category_anchor))"
   ]
  },
  {
   "attachments": {},
   "cell_type": "markdown",
   "metadata": {
    "datalore": {
     "hide_input_from_viewers": false,
     "hide_output_from_viewers": false,
     "node_id": "E14Gw4yrJCat4W43Niqg8z",
     "type": "MD"
    }
   },
   "source": [
    "# Text Search"
   ]
  },
  {
   "cell_type": "code",
   "execution_count": 100,
   "metadata": {
    "datalore": {
     "hide_input_from_viewers": false,
     "hide_output_from_viewers": false,
     "node_id": "mQ3pWsdcFYvCNrThYxPa72",
     "type": "CODE"
    }
   },
   "outputs": [
    {
     "data": {
      "text/plain": [
       "[]"
      ]
     },
     "metadata": {},
     "output_type": "display_data"
    }
   ],
   "source": [
    "soup.find_all(text=\"Fiction\")"
   ]
  },
  {
   "cell_type": "code",
   "execution_count": 101,
   "metadata": {
    "datalore": {
     "hide_input_from_viewers": false,
     "hide_output_from_viewers": false,
     "node_id": "eXQp2rxXvWY9bCeEd9AJlO",
     "type": "CODE"
    }
   },
   "outputs": [
    {
     "data": {
      "text/plain": [
       "re.compile(r'Fiction', re.IGNORECASE|re.UNICODE)"
      ]
     },
     "metadata": {},
     "output_type": "display_data"
    }
   ],
   "source": [
    "import re\n",
    "\n",
    "re.compile(\"Fiction\", re.I)"
   ]
  },
  {
   "cell_type": "code",
   "execution_count": 105,
   "metadata": {
    "datalore": {
     "hide_input_from_viewers": false,
     "hide_output_from_viewers": false,
     "node_id": "UuS4m5J4XylSXO7lRsmkDQ",
     "type": "CODE"
    }
   },
   "outputs": [
    {
     "data": {
      "text/plain": [
       "['\\n                            \\n                                Historical Fiction\\n                            \\n                        ',\n",
       " '\\n                            \\n                                Womens Fiction\\n                            \\n                        ',\n",
       " '\\n                            \\n                                Fiction\\n                            \\n                        ',\n",
       " '\\n                            \\n                                Nonfiction\\n                            \\n                        ',\n",
       " '\\n                            \\n                                Science Fiction\\n                            \\n                        ',\n",
       " '\\n                            \\n                                Adult Fiction\\n                            \\n                        ',\n",
       " '\\n                            \\n                                Christian Fiction\\n                            \\n                        ']"
      ]
     },
     "metadata": {},
     "output_type": "display_data"
    }
   ],
   "source": [
    "soup.find_all(text=re.compile(\"Fiction\", re.I))"
   ]
  },
  {
   "cell_type": "code",
   "execution_count": 44,
   "metadata": {
    "datalore": {
     "hide_input_from_viewers": false,
     "hide_output_from_viewers": false,
     "node_id": "LyyNfmM2bRXRiccRRv62wF",
     "type": "CODE"
    }
   },
   "outputs": [
    {
     "name": "stderr",
     "output_type": "stream",
     "text": [
      "C:\\Users\\jelen\\AppData\\Local\\Temp\\ipykernel_16064\\1907677731.py:1: DeprecationWarning: The 'text' argument to find()-type methods is deprecated. Use 'string' instead.\n",
      "  text_matches = soup.find_all(text=re.compile(\"Fiction\", re.I))\n"
     ]
    },
    {
     "data": {
      "text/plain": [
       "['\\n                            \\n                                Historical Fiction\\n                            \\n                        ',\n",
       " '\\n                            \\n                                Womens Fiction\\n                            \\n                        ',\n",
       " '\\n                            \\n                                Fiction\\n                            \\n                        ',\n",
       " '\\n                            \\n                                Nonfiction\\n                            \\n                        ',\n",
       " '\\n                            \\n                                Science Fiction\\n                            \\n                        ',\n",
       " '\\n                            \\n                                Adult Fiction\\n                            \\n                        ',\n",
       " '\\n                            \\n                                Christian Fiction\\n                            \\n                        ']"
      ]
     },
     "execution_count": 44,
     "metadata": {},
     "output_type": "execute_result"
    }
   ],
   "source": [
    "text_matches = soup.find_all(text=re.compile(\"Fiction\", re.I))\n",
    "text_matches"
   ]
  },
  {
   "cell_type": "code",
   "execution_count": 107,
   "metadata": {
    "datalore": {
     "hide_input_from_viewers": false,
     "hide_output_from_viewers": false,
     "node_id": "BDIHAn8cVOdI2H2bhCFaen",
     "type": "CODE"
    }
   },
   "outputs": [
    {
     "data": {
      "text/plain": [
       "['Historical Fiction',\n",
       " 'Womens Fiction',\n",
       " 'Fiction',\n",
       " 'Nonfiction',\n",
       " 'Science Fiction',\n",
       " 'Adult Fiction',\n",
       " 'Christian Fiction']"
      ]
     },
     "metadata": {},
     "output_type": "display_data"
    }
   ],
   "source": [
    "[text.strip() for text in text_matches]"
   ]
  },
  {
   "cell_type": "code",
   "execution_count": 108,
   "metadata": {
    "datalore": {
     "hide_input_from_viewers": false,
     "hide_output_from_viewers": false,
     "node_id": "dM6AR1RwH9VDFsunwQCWA8",
     "type": "CODE"
    }
   },
   "outputs": [
    {
     "data": {
      "text/plain": [
       "['Historical Fiction',\n",
       " 'Womens Fiction',\n",
       " 'Fiction',\n",
       " 'Nonfiction',\n",
       " 'Science Fiction',\n",
       " 'Adult Fiction',\n",
       " 'Christian Fiction']"
      ]
     },
     "metadata": {},
     "output_type": "display_data"
    }
   ],
   "source": [
    "all_text = list(soup.stripped_strings)\n",
    "[text for text in all_text if \"fiction\" in text.lower()]"
   ]
  },
  {
   "cell_type": "code",
   "execution_count": 115,
   "metadata": {
    "datalore": {
     "hide_input_from_viewers": false,
     "hide_output_from_viewers": false,
     "node_id": "xDMZ7NJmgC628VVYMxIZ42",
     "type": "CODE"
    }
   },
   "outputs": [
    {
     "data": {
      "text/plain": [
       "[<a href=\"catalogue/category/books/historical-fiction_4/index.html\">\n",
       "                             \n",
       "                                 Historical Fiction\n",
       "                             \n",
       "                         </a>,\n",
       " <a href=\"catalogue/category/books/womens-fiction_9/index.html\">\n",
       "                             \n",
       "                                 Womens Fiction\n",
       "                             \n",
       "                         </a>,\n",
       " <a href=\"catalogue/category/books/fiction_10/index.html\">\n",
       "                             \n",
       "                                 Fiction\n",
       "                             \n",
       "                         </a>,\n",
       " <a href=\"catalogue/category/books/nonfiction_13/index.html\">\n",
       "                             \n",
       "                                 Nonfiction\n",
       "                             \n",
       "                         </a>,\n",
       " <a href=\"catalogue/category/books/science-fiction_16/index.html\">\n",
       "                             \n",
       "                                 Science Fiction\n",
       "                             \n",
       "                         </a>,\n",
       " <a href=\"catalogue/category/books/adult-fiction_29/index.html\">\n",
       "                             \n",
       "                                 Adult Fiction\n",
       "                             \n",
       "                         </a>,\n",
       " <a href=\"catalogue/category/books/christian-fiction_34/index.html\">\n",
       "                             \n",
       "                                 Christian Fiction\n",
       "                             \n",
       "                         </a>]"
      ]
     },
     "metadata": {},
     "output_type": "display_data"
    }
   ],
   "source": [
    "# how about only anchors that meet this text-based criterion?\n",
    "\n",
    "soup.find_all(\"a\", text=re.compile(\"Fiction\", re.I))"
   ]
  },
  {
   "cell_type": "code",
   "execution_count": 112,
   "metadata": {
    "datalore": {
     "hide_input_from_viewers": false,
     "hide_output_from_viewers": false,
     "node_id": "q5KMP5QwLUBNLpRZAcK5Co",
     "type": "CODE"
    }
   },
   "outputs": [],
   "source": [
    "all_text = list(soup.strings) # NavigableStrings"
   ]
  },
  {
   "cell_type": "code",
   "execution_count": 114,
   "metadata": {
    "datalore": {
     "hide_input_from_viewers": false,
     "hide_output_from_viewers": false,
     "node_id": "kUk6aW3VUfj7xfYo8bwT9Q",
     "type": "CODE"
    }
   },
   "outputs": [
    {
     "data": {
      "text/plain": [
       "[<a href=\"catalogue/category/books/historical-fiction_4/index.html\">\n",
       "                             \n",
       "                                 Historical Fiction\n",
       "                             \n",
       "                         </a>,\n",
       " <a href=\"catalogue/category/books/womens-fiction_9/index.html\">\n",
       "                             \n",
       "                                 Womens Fiction\n",
       "                             \n",
       "                         </a>,\n",
       " <a href=\"catalogue/category/books/fiction_10/index.html\">\n",
       "                             \n",
       "                                 Fiction\n",
       "                             \n",
       "                         </a>,\n",
       " <a href=\"catalogue/category/books/nonfiction_13/index.html\">\n",
       "                             \n",
       "                                 Nonfiction\n",
       "                             \n",
       "                         </a>,\n",
       " <a href=\"catalogue/category/books/science-fiction_16/index.html\">\n",
       "                             \n",
       "                                 Science Fiction\n",
       "                             \n",
       "                         </a>,\n",
       " <a href=\"catalogue/category/books/adult-fiction_29/index.html\">\n",
       "                             \n",
       "                                 Adult Fiction\n",
       "                             \n",
       "                         </a>,\n",
       " <a href=\"catalogue/category/books/christian-fiction_34/index.html\">\n",
       "                             \n",
       "                                 Christian Fiction\n",
       "                             \n",
       "                         </a>]"
      ]
     },
     "metadata": {},
     "output_type": "display_data"
    }
   ],
   "source": [
    "[text.parent for text in all_text if \"fiction\" in text.lower() and text.parent.name == \"a\"]"
   ]
  },
  {
   "attachments": {},
   "cell_type": "markdown",
   "metadata": {
    "datalore": {
     "hide_input_from_viewers": false,
     "hide_output_from_viewers": false,
     "node_id": "JWjKIj0j8tx8ELH6E9NJVH",
     "type": "MD"
    }
   },
   "source": [
    "# Searching By CSS"
   ]
  },
  {
   "cell_type": "code",
   "execution_count": 116,
   "metadata": {
    "datalore": {
     "hide_input_from_viewers": false,
     "hide_output_from_viewers": false,
     "node_id": "WO3h03aUBMwMDDdnzeORh9",
     "type": "CODE"
    }
   },
   "outputs": [],
   "source": [
    "book_tags = soup.find_all(\"article\", attrs={\"class\": \"product_pod\"})"
   ]
  },
  {
   "cell_type": "code",
   "execution_count": 119,
   "metadata": {
    "datalore": {
     "hide_input_from_viewers": false,
     "hide_output_from_viewers": false,
     "node_id": "6jqvuSyGZdZZoabu4I2DXl",
     "type": "CODE"
    }
   },
   "outputs": [
    {
     "data": {
      "text/plain": [
       "['A Light in the Attic',\n",
       " 'Tipping the Velvet',\n",
       " 'Soumission',\n",
       " 'Sharp Objects',\n",
       " 'Sapiens: A Brief History of Humankind',\n",
       " 'The Requiem Red',\n",
       " 'The Dirty Little Secrets of Getting Your Dream Job',\n",
       " 'The Coming Woman: A Novel Based on the Life of the Infamous Feminist, Victoria Woodhull',\n",
       " 'The Boys in the Boat: Nine Americans and Their Epic Quest for Gold at the 1936 Berlin Olympics',\n",
       " 'The Black Maria',\n",
       " 'Starving Hearts (Triangular Trade Trilogy, #1)',\n",
       " \"Shakespeare's Sonnets\",\n",
       " 'Set Me Free',\n",
       " \"Scott Pilgrim's Precious Little Life (Scott Pilgrim #1)\",\n",
       " 'Rip it Up and Start Again',\n",
       " 'Our Band Could Be Your Life: Scenes from the American Indie Underground, 1981-1991',\n",
       " 'Olio',\n",
       " 'Mesaerion: The Best Science Fiction Stories 1800-1849',\n",
       " 'Libertarianism for Beginners',\n",
       " \"It's Only the Himalayas\"]"
      ]
     },
     "metadata": {},
     "output_type": "display_data"
    }
   ],
   "source": [
    "titles = []\n",
    "for tag in book_tags:\n",
    "    title = tag.find(\"h3\").find(\"a\")[\"title\"]\n",
    "    titles.append(title)\n",
    "    \n",
    "titles"
   ]
  },
  {
   "cell_type": "code",
   "execution_count": 118,
   "metadata": {
    "datalore": {
     "hide_input_from_viewers": false,
     "hide_output_from_viewers": false,
     "node_id": "hlYcWIx7mrd95dfWEihiIZ",
     "type": "CODE"
    }
   },
   "outputs": [
    {
     "data": {
      "text/plain": [
       "['A Light in the Attic',\n",
       " 'Tipping the Velvet',\n",
       " 'Soumission',\n",
       " 'Sharp Objects',\n",
       " 'Sapiens: A Brief History of Humankind',\n",
       " 'The Requiem Red',\n",
       " 'The Dirty Little Secrets of Getting Your Dream Job',\n",
       " 'The Coming Woman: A Novel Based on the Life of the Infamous Feminist, Victoria Woodhull',\n",
       " 'The Boys in the Boat: Nine Americans and Their Epic Quest for Gold at the 1936 Berlin Olympics',\n",
       " 'The Black Maria',\n",
       " 'Starving Hearts (Triangular Trade Trilogy, #1)',\n",
       " \"Shakespeare's Sonnets\",\n",
       " 'Set Me Free',\n",
       " \"Scott Pilgrim's Precious Little Life (Scott Pilgrim #1)\",\n",
       " 'Rip it Up and Start Again',\n",
       " 'Our Band Could Be Your Life: Scenes from the American Indie Underground, 1981-1991',\n",
       " 'Olio',\n",
       " 'Mesaerion: The Best Science Fiction Stories 1800-1849',\n",
       " 'Libertarianism for Beginners',\n",
       " \"It's Only the Himalayas\"]"
      ]
     },
     "metadata": {},
     "output_type": "display_data"
    }
   ],
   "source": [
    "title_tags = soup.select(\"article.product_pod > h3 > a\")\n",
    "titles = [tag[\"title\"] for tag in title_tags]\n",
    "titles"
   ]
  },
  {
   "cell_type": "code",
   "execution_count": 120,
   "metadata": {
    "datalore": {
     "hide_input_from_viewers": false,
     "hide_output_from_viewers": false,
     "node_id": "QHd3ffzeFLNx6gzl9n8cYQ",
     "type": "CODE"
    }
   },
   "outputs": [
    {
     "data": {
      "text/plain": [
       "[<a href=\"catalogue/a-light-in-the-attic_1000/index.html\" title=\"A Light in the Attic\">A Light in the ...</a>,\n",
       " <a href=\"catalogue/tipping-the-velvet_999/index.html\" title=\"Tipping the Velvet\">Tipping the Velvet</a>,\n",
       " <a href=\"catalogue/soumission_998/index.html\" title=\"Soumission\">Soumission</a>,\n",
       " <a href=\"catalogue/sharp-objects_997/index.html\" title=\"Sharp Objects\">Sharp Objects</a>,\n",
       " <a href=\"catalogue/sapiens-a-brief-history-of-humankind_996/index.html\" title=\"Sapiens: A Brief History of Humankind\">Sapiens: A Brief History ...</a>,\n",
       " <a href=\"catalogue/the-requiem-red_995/index.html\" title=\"The Requiem Red\">The Requiem Red</a>,\n",
       " <a href=\"catalogue/the-dirty-little-secrets-of-getting-your-dream-job_994/index.html\" title=\"The Dirty Little Secrets of Getting Your Dream Job\">The Dirty Little Secrets ...</a>,\n",
       " <a href=\"catalogue/the-coming-woman-a-novel-based-on-the-life-of-the-infamous-feminist-victoria-woodhull_993/index.html\" title=\"The Coming Woman: A Novel Based on the Life of the Infamous Feminist, Victoria Woodhull\">The Coming Woman: A ...</a>,\n",
       " <a href=\"catalogue/the-boys-in-the-boat-nine-americans-and-their-epic-quest-for-gold-at-the-1936-berlin-olympics_992/index.html\" title=\"The Boys in the Boat: Nine Americans and Their Epic Quest for Gold at the 1936 Berlin Olympics\">The Boys in the ...</a>,\n",
       " <a href=\"catalogue/the-black-maria_991/index.html\" title=\"The Black Maria\">The Black Maria</a>,\n",
       " <a href=\"catalogue/starving-hearts-triangular-trade-trilogy-1_990/index.html\" title=\"Starving Hearts (Triangular Trade Trilogy, #1)\">Starving Hearts (Triangular Trade ...</a>,\n",
       " <a href=\"catalogue/shakespeares-sonnets_989/index.html\" title=\"Shakespeare's Sonnets\">Shakespeare's Sonnets</a>,\n",
       " <a href=\"catalogue/set-me-free_988/index.html\" title=\"Set Me Free\">Set Me Free</a>,\n",
       " <a href=\"catalogue/scott-pilgrims-precious-little-life-scott-pilgrim-1_987/index.html\" title=\"Scott Pilgrim's Precious Little Life (Scott Pilgrim #1)\">Scott Pilgrim's Precious Little ...</a>,\n",
       " <a href=\"catalogue/rip-it-up-and-start-again_986/index.html\" title=\"Rip it Up and Start Again\">Rip it Up and ...</a>,\n",
       " <a href=\"catalogue/our-band-could-be-your-life-scenes-from-the-american-indie-underground-1981-1991_985/index.html\" title=\"Our Band Could Be Your Life: Scenes from the American Indie Underground, 1981-1991\">Our Band Could Be ...</a>,\n",
       " <a href=\"catalogue/olio_984/index.html\" title=\"Olio\">Olio</a>,\n",
       " <a href=\"catalogue/mesaerion-the-best-science-fiction-stories-1800-1849_983/index.html\" title=\"Mesaerion: The Best Science Fiction Stories 1800-1849\">Mesaerion: The Best Science ...</a>,\n",
       " <a href=\"catalogue/libertarianism-for-beginners_982/index.html\" title=\"Libertarianism for Beginners\">Libertarianism for Beginners</a>,\n",
       " <a href=\"catalogue/its-only-the-himalayas_981/index.html\" title=\"It's Only the Himalayas\">It's Only the Himalayas</a>]"
      ]
     },
     "metadata": {},
     "output_type": "display_data"
    }
   ],
   "source": [
    "soup.select(\"[title]\")"
   ]
  },
  {
   "cell_type": "code",
   "execution_count": 121,
   "metadata": {
    "datalore": {
     "hide_input_from_viewers": false,
     "hide_output_from_viewers": false,
     "node_id": "FX3Nl2ZwOwA7cPYCW3bTzp",
     "type": "CODE"
    }
   },
   "outputs": [
    {
     "data": {
      "text/plain": [
       "[<a href=\"catalogue/sapiens-a-brief-history-of-humankind_996/index.html\" title=\"Sapiens: A Brief History of Humankind\">Sapiens: A Brief History ...</a>]"
      ]
     },
     "metadata": {},
     "output_type": "display_data"
    }
   ],
   "source": [
    "soup.select(\"[title*=Human]\")"
   ]
  },
  {
   "cell_type": "code",
   "execution_count": 123,
   "metadata": {
    "datalore": {
     "hide_input_from_viewers": false,
     "hide_output_from_viewers": false,
     "node_id": "9MdlUsy9mwGQ8CwZcQ6NUj",
     "type": "CODE"
    }
   },
   "outputs": [
    {
     "data": {
      "text/plain": [
       "20"
      ]
     },
     "metadata": {},
     "output_type": "display_data"
    }
   ],
   "source": [
    "len(soup.select(\"button.btn-primary[data-loading-text][class*=primary]\"))"
   ]
  },
  {
   "cell_type": "code",
   "execution_count": 124,
   "metadata": {
    "datalore": {
     "hide_input_from_viewers": false,
     "hide_output_from_viewers": false,
     "node_id": "PZtD6XYWzE5cSBJ12qs7Ps",
     "type": "CODE"
    }
   },
   "outputs": [
    {
     "data": {
      "text/plain": [
       "20"
      ]
     },
     "metadata": {},
     "output_type": "display_data"
    }
   ],
   "source": [
    "len(soup.select(\"button\"))"
   ]
  },
  {
   "attachments": {},
   "cell_type": "markdown",
   "metadata": {
    "datalore": {
     "hide_input_from_viewers": false,
     "hide_output_from_viewers": false,
     "node_id": "vJBxaGz6iV8Wbcl1n0igti",
     "type": "MD"
    }
   },
   "source": [
    "# Just One Tag"
   ]
  },
  {
   "cell_type": "code",
   "execution_count": 125,
   "metadata": {
    "datalore": {
     "hide_input_from_viewers": false,
     "hide_output_from_viewers": false,
     "node_id": "B6JQLYLOCmsSH389P5I75w",
     "type": "CODE"
    }
   },
   "outputs": [],
   "source": [
    "# find_all() vs find()\n",
    "\n",
    "# select() vs select_one()"
   ]
  },
  {
   "cell_type": "code",
   "execution_count": 126,
   "metadata": {
    "datalore": {
     "hide_input_from_viewers": false,
     "hide_output_from_viewers": false,
     "node_id": "AwmZJ0sKl1dmWU2vU0v00I",
     "type": "CODE"
    }
   },
   "outputs": [
    {
     "data": {
      "text/plain": [
       "[<a href=\"index.html\">Books to Scrape</a>]"
      ]
     },
     "metadata": {},
     "output_type": "display_data"
    }
   ],
   "source": [
    "soup.find_all(\"a\", limit=1)"
   ]
  },
  {
   "cell_type": "code",
   "execution_count": 127,
   "metadata": {
    "datalore": {
     "hide_input_from_viewers": false,
     "hide_output_from_viewers": false,
     "node_id": "SrCE2fqDelQYfk6hJ5TTMP",
     "type": "CODE"
    }
   },
   "outputs": [
    {
     "data": {
      "text/plain": [
       "<a href=\"index.html\">Books to Scrape</a>"
      ]
     },
     "metadata": {},
     "output_type": "display_data"
    }
   ],
   "source": [
    "soup.find(\"a\")"
   ]
  },
  {
   "cell_type": "code",
   "execution_count": 128,
   "metadata": {
    "datalore": {
     "hide_input_from_viewers": false,
     "hide_output_from_viewers": false,
     "node_id": "2jf6iHi4a609N0vWUas26M",
     "type": "CODE"
    }
   },
   "outputs": [
    {
     "data": {
      "text/plain": [
       "True"
      ]
     },
     "metadata": {},
     "output_type": "display_data"
    }
   ],
   "source": [
    "soup.find_all(\"a\", limit=1)[0] is soup.find(\"a\")"
   ]
  },
  {
   "cell_type": "code",
   "execution_count": 129,
   "metadata": {
    "datalore": {
     "hide_input_from_viewers": false,
     "hide_output_from_viewers": false,
     "node_id": "MIJQBy8MliCnpR4j7zAvfG",
     "type": "CODE"
    }
   },
   "outputs": [
    {
     "data": {
      "text/plain": [
       "[<a href=\"index.html\">Books to Scrape</a>]"
      ]
     },
     "metadata": {},
     "output_type": "display_data"
    }
   ],
   "source": [
    "soup.select(\"a\", limit=1)"
   ]
  },
  {
   "cell_type": "code",
   "execution_count": 130,
   "metadata": {
    "datalore": {
     "hide_input_from_viewers": false,
     "hide_output_from_viewers": false,
     "node_id": "1EW2E34uKCyHkEbZtoYFWf",
     "type": "CODE"
    }
   },
   "outputs": [
    {
     "data": {
      "text/plain": [
       "<a href=\"index.html\">Books to Scrape</a>"
      ]
     },
     "metadata": {},
     "output_type": "display_data"
    }
   ],
   "source": [
    "soup.select_one(\"a\")"
   ]
  },
  {
   "cell_type": "code",
   "execution_count": 131,
   "metadata": {
    "datalore": {
     "hide_input_from_viewers": false,
     "hide_output_from_viewers": false,
     "node_id": "xOuGGPDKpDgz7NidpvwHzr",
     "type": "CODE"
    }
   },
   "outputs": [
    {
     "data": {
      "text/plain": [
       "True"
      ]
     },
     "metadata": {},
     "output_type": "display_data"
    }
   ],
   "source": [
    "soup.select(\"a\", limit=1)[0] is soup.select_one(\"a\")"
   ]
  }
 ],
 "metadata": {
  "datalore": {
   "base_environment": "default",
   "computation_mode": "JUPYTER",
   "package_manager": "pip",
   "packages": [],
   "version": 1
  },
  "kernelspec": {
   "display_name": "Python 3",
   "language": "python",
   "name": "python3"
  },
  "language_info": {
   "codemirror_mode": {
    "name": "ipython",
    "version": 3
   },
   "file_extension": ".py",
   "mimetype": "text/x-python",
   "name": "python",
   "nbconvert_exporter": "python",
   "pygments_lexer": "ipython3",
   "version": "3.11.3"
  }
 },
 "nbformat": 4,
 "nbformat_minor": 4
}
